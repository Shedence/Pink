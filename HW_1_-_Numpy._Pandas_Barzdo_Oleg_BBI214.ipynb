{
 "cells": [
  {
   "cell_type": "markdown",
   "metadata": {
    "id": "f1gL2DEfNRGu"
   },
   "source": [
    "# Современные методы анализа данных и машинного обучения, БИ\n",
    "\n",
    "## НИУ ВШЭ, 2023-24 учебный год"
   ]
  },
  {
   "cell_type": "markdown",
   "metadata": {
    "id": "fdTH3pxXFLxw"
   },
   "source": [
    "### Домашнее задание №1. Библиотеки Numpy & Pandas"
   ]
  },
  {
   "cell_type": "markdown",
   "metadata": {
    "id": "Sk5URBvkFLxx"
   },
   "source": [
    "Задание выполнил(а):\n",
    "\n",
    "    (впишите свои фамилию и имя)"
   ]
  },
  {
   "cell_type": "markdown",
   "metadata": {
    "id": "kqVyveO4FLxx"
   },
   "source": [
    "### Общая информация"
   ]
  },
  {
   "cell_type": "markdown",
   "metadata": {
    "id": "2A0wmBWwFLxx"
   },
   "source": [
    "__Дата выдачи:__ 09.02.2024\n",
    "\n",
    "__Дедлайн:__ 04:00 19.02.2024"
   ]
  },
  {
   "cell_type": "markdown",
   "metadata": {
    "id": "qK8Ari9eFLxz"
   },
   "source": [
    "### Оценивание и штрафы\n",
    "\n",
    "Каждая задача первого раздела (Numpy) оценивается в 2 балла.\n",
    "\n",
    "Оценка за первый раздел вычисляется по следующей формуле:\n",
    "\n",
    "$$\n",
    "s_{\\text{numpy}} \\times 1/2 ,\n",
    "$$\n",
    "\n",
    "где $s_{\\text{numpy}}$  — количество баллов, которое вы набрали в сумме по задачам первого раздела.\n",
    "\n",
    "Каждая задача второго раздела (Pandas) оценивается в 3 балла.\n",
    "\n",
    "Оценка за второй раздел вычисляется по следующей формуле:\n",
    "\n",
    "$$\n",
    "s_{\\text{pandas}} \\times 10/54 ,\n",
    "$$\n",
    "\n",
    "где $s_{\\text{pandas}}$  — количество баллов, которое вы набрали в сумме по задачам второго раздела.\n",
    "\n",
    "Общая оценка за ДЗ вычисляется по следующей формуле:\n",
    "\n",
    "$$\n",
    "O_{1} \\times 3/10 + O_2 \\times 7/10 ,\n",
    "$$\n",
    "\n",
    "где $O_1, O_2$  — оценки за первый и второй раздел соответственно.\n",
    "\n",
    "За сдачу задания позже срока на итоговую оценку за задание накладывается штраф в размере 1 **вторичный** балл в день, но  задержка не может быть больше недели.\n",
    "\n",
    "**Важно:** В этом домашнем задании предусмотрено несколько заданий, за которые можно получить бонусные баллы. Бонусные баллы прибавляются к обычным баллам, и может выйти так, что ваша итоговая оценка станет больше 10. В таком случае именно это и будет являться вашей оценкой. То есть за это ДЗ **можно** получить больше 10"
   ]
  },
  {
   "cell_type": "markdown",
   "metadata": {
    "id": "nEGThfK6FLx0"
   },
   "source": [
    "__Внимание!__ Домашнее задание выполняется самостоятельно. «Похожие» решения считаются плагиатом и все задействованные студенты (в том числе те, у кого списали) не могут получить за него больше 0 баллов."
   ]
  },
  {
   "cell_type": "markdown",
   "metadata": {
    "id": "zNja-u8vFLx0"
   },
   "source": [
    "### Формат сдачи"
   ]
  },
  {
   "cell_type": "markdown",
   "metadata": {
    "id": "_H-cf8uaFLx0"
   },
   "source": [
    "Загрузка файлов с решениями происходит в системе [Anytask](https://anytask.org/). Необходимо загружать файл с расширением .ipynb (питоновский ноутбук)\n",
    "\n",
    "Инвайт для подключения к странице курса в системе — будет указан для каждой группы в нашем телеграмм-канале"
   ]
  },
  {
   "cell_type": "markdown",
   "metadata": {
    "id": "nRVHx0jluMpn"
   },
   "source": [
    "## Раздел 1. Numpy"
   ]
  },
  {
   "cell_type": "markdown",
   "metadata": {
    "id": "TEVawss2FLxy"
   },
   "source": [
    "### О задании"
   ]
  },
  {
   "cell_type": "markdown",
   "metadata": {
    "id": "NXNpYAFdFLxz"
   },
   "source": [
    "В данном разделе вы попрактикуетесь в работе с библиотекой numpy!"
   ]
  },
  {
   "cell_type": "code",
   "execution_count": 1,
   "metadata": {
    "id": "4gsWSgTIFLx1"
   },
   "outputs": [],
   "source": [
    "import numpy as np"
   ]
  },
  {
   "cell_type": "markdown",
   "metadata": {
    "id": "ApiPWJygFLx2"
   },
   "source": [
    "Во всех задачах необходимо написать код решения внутри функции и проверить его работу, вызвав функцию для данных из условия.\n",
    "\n",
    "При решении задач запрещается использовать циклы (`for`, `while`) и оператор `if`.\n",
    "\n",
    "Везде, где встречаются массивы или матрицы, подразумевается, что это `numpy.array`."
   ]
  },
  {
   "cell_type": "markdown",
   "metadata": {
    "id": "8fc_z7yNFLx2"
   },
   "source": [
    "### 1"
   ]
  },
  {
   "cell_type": "markdown",
   "metadata": {
    "id": "ETNlMgiZFLx3"
   },
   "source": [
    "Напишите функцию, возвращающую округленную взвешенную сумму оценок по данным оценкам и весам. Можете посчитать свою оценку за курс :) В нашем случае вес экзамена равен 0.32, вес домашек - 0.28, вес групповых проектов - 0.12, вес аудиторки - 0.14, вес контрольной - 0.14. Например, если экзамен написан на 6, домашки сданы на 9, проекты закрыты на 8, оценка за аудиторку 7, а контрольная написана на 10 - итоговая оценка будет хорошо - 7"
   ]
  },
  {
   "cell_type": "code",
   "execution_count": 2,
   "metadata": {
    "id": "VDEhJbQ-FLx3"
   },
   "outputs": [],
   "source": [
    "def result_mark(weights, marks):\n",
    "    return int(np.around(np.average(marks,   weights = weights)))"
   ]
  },
  {
   "cell_type": "code",
   "execution_count": 3,
   "metadata": {
    "id": "NcaSNNLNFLx3"
   },
   "outputs": [
    {
     "data": {
      "text/plain": [
       "8"
      ]
     },
     "execution_count": 3,
     "metadata": {},
     "output_type": "execute_result"
    }
   ],
   "source": [
    "weights = np.array([0.32, 0.18, 0.12, 0.14, 0.14])\n",
    "marks = np.array([6, 9, 8, 7, 10])\n",
    "result_mark(weights, marks)"
   ]
  },
  {
   "cell_type": "markdown",
   "metadata": {
    "id": "J0V1vikQFLx3"
   },
   "source": [
    "### 2"
   ]
  },
  {
   "cell_type": "markdown",
   "metadata": {
    "id": "-7GYYXZ-FLx4"
   },
   "source": [
    "Напишите функцию, меняющую каждое третье (начиная с 0) значение массива целых чисел на заданное число. Например, если на вход поступает массив `array([3, 5, 1, 0, -3, 22, 213436])` и число `-111`, то на выходе должен получиться массив `array([-111, 5, 1, -111, -3, 22, -111])`."
   ]
  },
  {
   "cell_type": "code",
   "execution_count": 4,
   "metadata": {
    "id": "bCl2jHbqFLx4"
   },
   "outputs": [],
   "source": [
    "def change_array(array, number):\n",
    "    array[0:len(array):3]=number\n",
    "    return array"
   ]
  },
  {
   "cell_type": "code",
   "execution_count": 5,
   "metadata": {
    "id": "Gpq8NhDLFLx4"
   },
   "outputs": [
    {
     "data": {
      "text/plain": [
       "array([-111,    5,    1, -111,   -3,   22, -111])"
      ]
     },
     "execution_count": 5,
     "metadata": {},
     "output_type": "execute_result"
    }
   ],
   "source": [
    "array = np.array([3, 5, 1, 0, -3, 22, 213436])\n",
    "number = -111\n",
    "change_array(array, number)"
   ]
  },
  {
   "cell_type": "markdown",
   "metadata": {
    "id": "Sal1bM6RFLx4"
   },
   "source": [
    "### 3"
   ]
  },
  {
   "cell_type": "markdown",
   "metadata": {
    "id": "au8Az2JjFLx5"
   },
   "source": [
    "Напишите функцию, выдающую индексы «близких» элементов заданных массивов, а именно тех пар элементов, чей модуль разницы не превосходит заданного значения. Например, если на вход поступают массив `array([1.5, 0.5, 2, -4.1, -3, 6, -1])`, массив `array([1.2, 0.5, 1, -4, 3, 0, -1.2])` и число `0.5`, то на выходе должен получиться массив `array([0, 1, 3, 6])` (_**важно: не `tuple`, а одномерный массив типа `numpy.ndarray` (то есть `.ndim` от него равно 1)!**_)."
   ]
  },
  {
   "cell_type": "code",
   "execution_count": 6,
   "metadata": {
    "id": "WacJagotFLx5"
   },
   "outputs": [],
   "source": [
    "def find_close(array1, array2, precision):\n",
    "    count=0\n",
    "    array3 = array1-array2\n",
    "    array3[array3==precision+1] = precision+2\n",
    "    print(array3)\n",
    "    array3[abs(array3) <= precision] = precision+1\n",
    "    i=np.where(array3==precision+1)\n",
    "    i=np.asarray(i)\n",
    "    i=i.astype('int')\n",
    "    k=i[0]\n",
    "    return k"
   ]
  },
  {
   "cell_type": "code",
   "execution_count": 7,
   "metadata": {
    "id": "zFLktJlAFLx5"
   },
   "outputs": [
    {
     "name": "stdout",
     "output_type": "stream",
     "text": [
      "[ 0.3  0.   1.  -0.1 -6.   6.   0.2]\n"
     ]
    },
    {
     "data": {
      "text/plain": [
       "array([0, 1, 3, 6])"
      ]
     },
     "execution_count": 7,
     "metadata": {},
     "output_type": "execute_result"
    }
   ],
   "source": [
    "array1 = np.array([1.5, 0.5, 2, -4.1, -3, 6, -1])\n",
    "array2 = np.array([1.2, 0.5, 1, -4, 3, 0, -1.2])\n",
    "precision = 0.5\n",
    "find_close(array1, array2, precision)"
   ]
  },
  {
   "cell_type": "markdown",
   "metadata": {
    "id": "vIuNrOzMFLx6"
   },
   "source": [
    "### 4"
   ]
  },
  {
   "cell_type": "markdown",
   "metadata": {
    "id": "ygLvIXXaFLx6"
   },
   "source": [
    "Напишите функцию, которая составляет блочную матрицу из четырех блоков, где каждый блок - это заданная матрица. Например, если на вход поступает матрица\n",
    "$$\n",
    "\\begin{pmatrix}\n",
    "0 & 1 & 2\\\\\n",
    "3 & 4 & 5\\\\\n",
    "\\end{pmatrix},\n",
    "$$\n",
    "то ответом будет матрица\n",
    "$$\n",
    "\\begin{pmatrix}\n",
    "0 & 1 & 2 & 0 & 1 & 2\\\\\n",
    "3 & 4 & 5 & 3 & 4 & 5\\\\\n",
    "0 & 1 & 2 & 0 & 1 & 2\\\\\n",
    "3 & 4 & 5 & 3 & 4 & 5\\\\\n",
    "\\end{pmatrix}\n",
    "$$"
   ]
  },
  {
   "cell_type": "code",
   "execution_count": 8,
   "metadata": {
    "id": "3ZSvD5CbFLx6"
   },
   "outputs": [],
   "source": [
    "def block_matrix(block):\n",
    "    k=np.tile(block, 2)\n",
    "    e=k.copy()\n",
    "    p=np.concatenate([e,k])\n",
    "    return p"
   ]
  },
  {
   "cell_type": "code",
   "execution_count": 9,
   "metadata": {
    "id": "x2zSnETKFLx6"
   },
   "outputs": [
    {
     "data": {
      "text/plain": [
       "array([[0, 1, 2, 0, 1, 2],\n",
       "       [3, 4, 5, 3, 4, 5],\n",
       "       [0, 1, 2, 0, 1, 2],\n",
       "       [3, 4, 5, 3, 4, 5]])"
      ]
     },
     "execution_count": 9,
     "metadata": {},
     "output_type": "execute_result"
    }
   ],
   "source": [
    "block = np.array([[0, 1, 2], [3, 4, 5]])\n",
    "block_matrix(block)"
   ]
  },
  {
   "cell_type": "markdown",
   "metadata": {
    "id": "4Bjhe8y1FLx7"
   },
   "source": [
    "### 5"
   ]
  },
  {
   "cell_type": "markdown",
   "metadata": {
    "id": "-U82db8IFLx7"
   },
   "source": [
    "Напишите функцию, вычисляющую произведение всех ненулевых диагональных элементов на диагонали данной квадратной матрицы. Например, если на вход поступает матрица\n",
    "$$\n",
    "\\begin{pmatrix}\n",
    "0 & 1 & 2\\\\\n",
    "3 & 4 & 5\\\\\n",
    "6 & 7 & 8\\\\\n",
    "\\end{pmatrix},\n",
    "$$\n",
    "то ответом будет 32."
   ]
  },
  {
   "cell_type": "code",
   "execution_count": 10,
   "metadata": {
    "id": "KXSqcJtDFLx7"
   },
   "outputs": [],
   "source": [
    "def diag_prod(matrix):\n",
    "    array1 = matrix.diagonal()\n",
    "    array2 = array1[array1 != 0]\n",
    "    mult = np.multiply.reduce(array2)\n",
    "    return mult"
   ]
  },
  {
   "cell_type": "code",
   "execution_count": 11,
   "metadata": {
    "id": "tVMMGkuwFLx7"
   },
   "outputs": [
    {
     "data": {
      "text/plain": [
       "32"
      ]
     },
     "execution_count": 11,
     "metadata": {},
     "output_type": "execute_result"
    }
   ],
   "source": [
    "matrix = np.array([[0, 1, 2], [3, 4, 5], [6, 7, 8]])\n",
    "diag_prod(matrix)"
   ]
  },
  {
   "cell_type": "markdown",
   "metadata": {
    "id": "N4x5oKBqFLx8"
   },
   "source": [
    "### 6"
   ]
  },
  {
   "cell_type": "markdown",
   "metadata": {
    "id": "X_KxN00rFLx8"
   },
   "source": [
    "Для улучшения качества работы некоторых алгоритмов машинного обучения может быть полезно использовать [нормализацию данных](https://vk.cc/8xmfQk), чтобы привести признаки в выборке к одному масштабу — а именно, из каждого столбца вычесть среднее его значений и поделить на их стандартное отклонение. Напишите функцию, нормализующую входящую матрицу (по столбцам). Например, если на вход подается матрица\n",
    "$$\n",
    "\\begin{pmatrix}\n",
    "1 & 4 & 4200\\\\\n",
    "0 & 10 & 5000\\\\\n",
    "1 & 2 & 1000\\\\\n",
    "\\end{pmatrix},\n",
    "$$\n",
    "то результатом с точностью до сотых будет матрица\n",
    "$$\n",
    "\\begin{pmatrix}\n",
    "0.71 & -0.39 & 0.46\\\\\n",
    "-1.41 & 1.37 & 0.93\\\\\n",
    "0.71 & -0.98 & -1.39\\\\\n",
    "\\end{pmatrix}\n",
    "$$\n",
    "\n",
    "_Подсказка. Учтите, что в вашей матрице не должно получаться никаких nan. Подумайте, в каком случае они могут возникнуть и как обойти эту проблему._\n"
   ]
  },
  {
   "cell_type": "code",
   "execution_count": 12,
   "metadata": {
    "id": "8-1UM3LqFLx8"
   },
   "outputs": [],
   "source": [
    "def normalize(matrix):\n",
    "    matrix=matrix.T\n",
    "    k=np.mean(matrix, axis=1, keepdims=True)\n",
    "    e=(matrix-k)**2\n",
    "    p=np.sum(e, axis=1, keepdims=True)\n",
    "    z=np.divide(p, len(matrix[0]))\n",
    "    z = np.sqrt(z)\n",
    "    res=matrix-k\n",
    "    answ=res/z\n",
    "    answ=answ.T\n",
    "    answ=np.around(answ, decimals=2)\n",
    "    return answ"
   ]
  },
  {
   "cell_type": "code",
   "execution_count": 13,
   "metadata": {
    "id": "5s0nCZJNFLx8"
   },
   "outputs": [
    {
     "data": {
      "text/plain": [
       "array([[ 0.71, -0.39,  0.46],\n",
       "       [-1.41,  1.37,  0.93],\n",
       "       [ 0.71, -0.98, -1.39]])"
      ]
     },
     "execution_count": 13,
     "metadata": {},
     "output_type": "execute_result"
    }
   ],
   "source": [
    "matrix = np.array([[1, 4, 4200], [0, 10, 5000], [1, 2, 1000]])\n",
    "normalize(matrix)"
   ]
  },
  {
   "cell_type": "markdown",
   "metadata": {
    "id": "GGezY0NEFLx9"
   },
   "source": [
    "### 7"
   ]
  },
  {
   "cell_type": "markdown",
   "metadata": {
    "id": "yBWZF7a5FLx9"
   },
   "source": [
    "Напишите функцию, вычисляющую какую-нибудь первообразную данного полинома (в качестве константы возьмите ваше любимое число). Например, если на вход поступает массив коэффициентов `array([4, 6, 0, 1])`, что соответствует полиному $4x^3 + 6x^2 + 1$, на выходе получается массив коэффициентов `array([1, 2, 0, 1, -2])`, соответствующий полиному $x^4 + 2x^3 + x - 2$."
   ]
  },
  {
   "cell_type": "code",
   "execution_count": 16,
   "metadata": {
    "id": "IWU9ISN_FLx9"
   },
   "outputs": [],
   "source": [
    "def antiderivative(coefs):\n",
    "    p = np.polyint(coefs)\n",
    "    #Чтобы не брать константу за любимое число, пусть она остается нулем, 0 - любимое число, дырка от бублика\n",
    "    return p"
   ]
  },
  {
   "cell_type": "code",
   "execution_count": 17,
   "metadata": {
    "id": "9G2gNNZxFLx9"
   },
   "outputs": [
    {
     "data": {
      "text/plain": [
       "array([1., 2., 0., 1., 0.])"
      ]
     },
     "execution_count": 17,
     "metadata": {},
     "output_type": "execute_result"
    }
   ],
   "source": [
    "coefs = np.array([4, 6, 0, 1])\n",
    "antiderivative(coefs)"
   ]
  },
  {
   "cell_type": "markdown",
   "metadata": {
    "id": "6LtnZ4T1FLx9"
   },
   "source": [
    "### 8"
   ]
  },
  {
   "cell_type": "markdown",
   "metadata": {
    "id": "vGq8Aao0FLx-"
   },
   "source": [
    "Напишите функцию, делающую данную [треугольную матрицу](https://ru.wikipedia.org/wiki/%D0%A2%D1%80%D0%B5%D1%83%D0%B3%D0%BE%D0%BB%D1%8C%D0%BD%D0%B0%D1%8F_%D0%BC%D0%B0%D1%82%D1%80%D0%B8%D1%86%D0%B0) симметричной. Например, если на вход поступает матрица\n",
    "$$\n",
    "\\begin{pmatrix}\n",
    "1 & 2 & 3 & 4\\\\\n",
    "0 & 5 & 6 & 7\\\\\n",
    "0 & 0 & 8 & 9\\\\\n",
    "0 & 0 & 0 & 10\\\\\n",
    "\\end{pmatrix},\n",
    "$$\n",
    "то на выходе должна быть матрица\n",
    "$$\n",
    "\\begin{pmatrix}\n",
    "1 & 2 & 3 & 4\\\\\n",
    "2 & 5 & 6 & 7\\\\\n",
    "3 & 6 & 8 & 9\\\\\n",
    "4 & 7 & 9 & 10\\\\\n",
    "\\end{pmatrix}.\n",
    "$$"
   ]
  },
  {
   "cell_type": "code",
   "execution_count": 18,
   "metadata": {
    "id": "X9YCwhUxFLx-"
   },
   "outputs": [],
   "source": [
    "def make_symmetric(matrix):\n",
    "    p=matrix.copy()\n",
    "    e=np.diagonal(p)\n",
    "    e.setflags(write = True)\n",
    "    e[e!=0]=0\n",
    "    \n",
    "    res=p+matrix.T\n",
    "    return res"
   ]
  },
  {
   "cell_type": "code",
   "execution_count": 19,
   "metadata": {
    "id": "ShNVSsM-FLx-"
   },
   "outputs": [
    {
     "data": {
      "text/plain": [
       "array([[ 1,  2,  3,  4],\n",
       "       [ 2,  5,  6,  7],\n",
       "       [ 3,  6,  8,  9],\n",
       "       [ 4,  7,  9, 10]])"
      ]
     },
     "execution_count": 19,
     "metadata": {},
     "output_type": "execute_result"
    }
   ],
   "source": [
    "matrix = np.array([[1, 2, 3, 4], [0, 5, 6, 7], [0, 0, 8, 9], [0, 0, 0, 10]])\n",
    "make_symmetric(matrix)"
   ]
  },
  {
   "cell_type": "markdown",
   "metadata": {
    "id": "JV_y8k8rFLx-"
   },
   "source": [
    "### 9"
   ]
  },
  {
   "cell_type": "markdown",
   "metadata": {
    "id": "7pX12jtoFLx_"
   },
   "source": [
    "Напишите функцию, создающую прямоугольную матрицу из m одинаковых строк, заполненных последовательными натуральными числами от a до b включительно в возрастающем порядке. Например, если m = 5, a = 3, b = 10, то на выходе будет матрица\n",
    "$$\n",
    "\\begin{pmatrix}\n",
    "3 & 4 & 5 & 6 & 7 & 8 & 9 & 10\\\\\n",
    "3 & 4 & 5 & 6 & 7 & 8 & 9 & 10\\\\\n",
    "3 & 4 & 5 & 6 & 7 & 8 & 9 & 10\\\\\n",
    "3 & 4 & 5 & 6 & 7 & 8 & 9 & 10\\\\\n",
    "3 & 4 & 5 & 6 & 7 & 8 & 9 & 10\\\\\n",
    "\\end{pmatrix}\n",
    "$$"
   ]
  },
  {
   "cell_type": "code",
   "execution_count": 20,
   "metadata": {
    "id": "g2yZmQ4gFLx_"
   },
   "outputs": [],
   "source": [
    "def construct_matrix(m, a, b):\n",
    "    matrix=np.arange(a, b+1)\n",
    "    d = np.full((m, abs(b-a+1)), 7)\n",
    "    d[0:]=matrix\n",
    "    return d"
   ]
  },
  {
   "cell_type": "code",
   "execution_count": 21,
   "metadata": {
    "id": "bsaKjkvOFLx_"
   },
   "outputs": [
    {
     "data": {
      "text/plain": [
       "array([[ 3,  4,  5,  6,  7,  8,  9, 10],\n",
       "       [ 3,  4,  5,  6,  7,  8,  9, 10],\n",
       "       [ 3,  4,  5,  6,  7,  8,  9, 10],\n",
       "       [ 3,  4,  5,  6,  7,  8,  9, 10],\n",
       "       [ 3,  4,  5,  6,  7,  8,  9, 10]])"
      ]
     },
     "execution_count": 21,
     "metadata": {},
     "output_type": "execute_result"
    }
   ],
   "source": [
    "m = 5\n",
    "a = 3\n",
    "b = 10\n",
    "construct_matrix(m, a, b)"
   ]
  },
  {
   "cell_type": "markdown",
   "metadata": {
    "id": "G9vWLQZWFLx_"
   },
   "source": [
    "### 10"
   ]
  },
  {
   "cell_type": "markdown",
   "metadata": {
    "id": "USWqm0x7FLx_"
   },
   "source": [
    "Напишите функцию, вычисляющую [косинусную близость](https://en.wikipedia.org/wiki/Cosine_similarity) двух векторов. Например, если на вход поступают вектора `array([-2, 1, 0, -5, 4, 3, -3])` и `array([0, 2, -2, 10, 6, 0, 0])`, ответом будет -0.25."
   ]
  },
  {
   "cell_type": "code",
   "execution_count": 22,
   "metadata": {
    "id": "48XiDQTBFLyA"
   },
   "outputs": [],
   "source": [
    "def cosine_similarity(vec1, vec2):\n",
    "    p=vec1*vec2\n",
    "    k=p.sum()\n",
    "    e1=vec1**2\n",
    "    e2=vec2**2\n",
    "    len1=(e1.sum())**0.5\n",
    "    len2=(e2.sum())**0.5\n",
    "    res=k/(len1*len2)\n",
    "    return res"
   ]
  },
  {
   "cell_type": "code",
   "execution_count": 23,
   "metadata": {
    "id": "YmEsEYHrFLyA"
   },
   "outputs": [
    {
     "data": {
      "text/plain": [
       "-0.25"
      ]
     },
     "execution_count": 23,
     "metadata": {},
     "output_type": "execute_result"
    }
   ],
   "source": [
    "vec1 = np.array([-2, 1, 0, -5, 4, 3, -3])\n",
    "vec2 = np.array([0, 2, -2, 10, 6, 0, 0])\n",
    "cosine_similarity(vec1, vec2)"
   ]
  },
  {
   "cell_type": "markdown",
   "metadata": {
    "id": "ahfJyTsDuaD6"
   },
   "source": [
    "## Раздел 2. Pandas"
   ]
  },
  {
   "cell_type": "markdown",
   "metadata": {
    "id": "9y0Eqft-ugr_"
   },
   "source": [
    "### О задании"
   ]
  },
  {
   "cell_type": "markdown",
   "metadata": {
    "id": "55u9lnUtugr_"
   },
   "source": [
    "В данном разделе вы попрактикуетесь в работе с библиотекой pandas!"
   ]
  },
  {
   "cell_type": "code",
   "execution_count": 24,
   "metadata": {
    "id": "DFu7UczHugr_"
   },
   "outputs": [],
   "source": [
    "import pandas as pd"
   ]
  },
  {
   "cell_type": "markdown",
   "metadata": {
    "id": "XJrwOn9mugsA"
   },
   "source": [
    "Обратите внимание, что практически во всех заданиях вам потребуется написать какой-то текст в виде вывода/результата/итога/какого-то резюме. Пожалуйста, не ленитесь, и пишите выводы ***подробно***, существенная часть баллов будет выставляться именно за выводы, так как в анализе данных они имеют большое значение. Таким образом, на любое задание, сформулированное в виде вопроса, отвечайте текстом, подкрепляя ваши слова написанным и выполненным кодом. Текст выводов/комментариев пишите в отдельных ячейках, используя средства текстового редактора Jupyter Notebook/Google Colab, при необходимости используйте средства *выделения*.\n",
    "\n",
    "При решении задач, когда вам необходимо сделать какой-то фильтр, срез, выборку, или иное действие с данными, запрещается использовать циклы (`for`, `while`) и оператор `if`.\n"
   ]
  },
  {
   "cell_type": "markdown",
   "metadata": {
    "id": "dGrzCZkIZKge"
   },
   "source": [
    "### 1"
   ]
  },
  {
   "cell_type": "markdown",
   "metadata": {
    "id": "zGH53krziiVU"
   },
   "source": [
    "В этом разделе домашнего задания вы поработаете с данными исследования зависимости средней продолжительности жизни по странам от количества употребляемого в стране алкоголя.\n",
    "\n",
    "Вашему вниманию представлено два датасета: drinks.csv и lifeexpectancy-verbose.csv\n",
    "\n",
    "Первая таблица содержит в себе сводные данные по количеству употребляемого алкоголя в каждой стране.\n",
    "\n",
    "Описание датасета:\n",
    "- country -\tName of the country (String)\n",
    "- beer_servings\t- Number of beer servings per person in the country (Integer)\n",
    "- spirit_servings\t- Number of spirit servings per person in the country (Integer)\n",
    "- wine_servings\t- Number of wine servings per person in the country(Integer)\n",
    "- total_litres_of_pure_alcohol -\tTotal litres of pure alcohol consumed per person in the country (Float)\n",
    "\n",
    "Вторая таблица содержит в себе информацию о научных статьях и исследованиях о продолжительности жизни (в разных категориях и для разных групп) по той или иной стране."
   ]
  },
  {
   "cell_type": "markdown",
   "metadata": {
    "id": "rQyUvNgkZKge"
   },
   "source": [
    "Откройте в ноутбуке оба файла с данными. Какой размер имеют таблицы? Выведите первые 5 и последние 5 строк для обеих таблиц. Сколько уникальных стран представлено в каждой из таблиц? Сделайте выводы."
   ]
  },
  {
   "cell_type": "code",
   "execution_count": 139,
   "metadata": {
    "id": "nUpM5eHoZKgf"
   },
   "outputs": [],
   "source": [
    "df_drinks = pd.read_csv('drinks.csv')\n",
    "df_life = pd.read_csv('lifeexpectancy-verbose.csv')"
   ]
  },
  {
   "cell_type": "code",
   "execution_count": 31,
   "metadata": {},
   "outputs": [
    {
     "data": {
      "text/plain": [
       "(193, 6)"
      ]
     },
     "execution_count": 31,
     "metadata": {},
     "output_type": "execute_result"
    }
   ],
   "source": [
    "df_drinks.shape #То есть 193 строки, 6 столбцов"
   ]
  },
  {
   "cell_type": "code",
   "execution_count": 32,
   "metadata": {},
   "outputs": [
    {
     "data": {
      "text/plain": [
       "(6408, 17)"
      ]
     },
     "execution_count": 32,
     "metadata": {},
     "output_type": "execute_result"
    }
   ],
   "source": [
    "df_life.shape #То есть 6408 строк, 17 столбцов"
   ]
  },
  {
   "cell_type": "code",
   "execution_count": 53,
   "metadata": {},
   "outputs": [
    {
     "data": {
      "text/html": [
       "<div>\n",
       "<style scoped>\n",
       "    .dataframe tbody tr th:only-of-type {\n",
       "        vertical-align: middle;\n",
       "    }\n",
       "\n",
       "    .dataframe tbody tr th {\n",
       "        vertical-align: top;\n",
       "    }\n",
       "\n",
       "    .dataframe thead th {\n",
       "        text-align: right;\n",
       "    }\n",
       "</style>\n",
       "<table border=\"1\" class=\"dataframe\">\n",
       "  <thead>\n",
       "    <tr style=\"text-align: right;\">\n",
       "      <th></th>\n",
       "      <th>index</th>\n",
       "      <th>country</th>\n",
       "      <th>beer_servings</th>\n",
       "      <th>spirit_servings</th>\n",
       "      <th>wine_servings</th>\n",
       "      <th>total_litres_of_pure_alcohol</th>\n",
       "    </tr>\n",
       "  </thead>\n",
       "  <tbody>\n",
       "    <tr>\n",
       "      <th>0</th>\n",
       "      <td>0</td>\n",
       "      <td>Afghanistan</td>\n",
       "      <td>0</td>\n",
       "      <td>0</td>\n",
       "      <td>0</td>\n",
       "      <td>0.0</td>\n",
       "    </tr>\n",
       "    <tr>\n",
       "      <th>1</th>\n",
       "      <td>1</td>\n",
       "      <td>Albania</td>\n",
       "      <td>89</td>\n",
       "      <td>132</td>\n",
       "      <td>54</td>\n",
       "      <td>4.9</td>\n",
       "    </tr>\n",
       "    <tr>\n",
       "      <th>2</th>\n",
       "      <td>2</td>\n",
       "      <td>Algeria</td>\n",
       "      <td>25</td>\n",
       "      <td>0</td>\n",
       "      <td>14</td>\n",
       "      <td>0.7</td>\n",
       "    </tr>\n",
       "    <tr>\n",
       "      <th>3</th>\n",
       "      <td>3</td>\n",
       "      <td>Andorra</td>\n",
       "      <td>245</td>\n",
       "      <td>138</td>\n",
       "      <td>312</td>\n",
       "      <td>12.4</td>\n",
       "    </tr>\n",
       "    <tr>\n",
       "      <th>4</th>\n",
       "      <td>4</td>\n",
       "      <td>Angola</td>\n",
       "      <td>217</td>\n",
       "      <td>57</td>\n",
       "      <td>45</td>\n",
       "      <td>5.9</td>\n",
       "    </tr>\n",
       "  </tbody>\n",
       "</table>\n",
       "</div>"
      ],
      "text/plain": [
       "   index      country  beer_servings  spirit_servings  wine_servings  \\\n",
       "0      0  Afghanistan              0                0              0   \n",
       "1      1      Albania             89              132             54   \n",
       "2      2      Algeria             25                0             14   \n",
       "3      3      Andorra            245              138            312   \n",
       "4      4       Angola            217               57             45   \n",
       "\n",
       "   total_litres_of_pure_alcohol  \n",
       "0                           0.0  \n",
       "1                           4.9  \n",
       "2                           0.7  \n",
       "3                          12.4  \n",
       "4                           5.9  "
      ]
     },
     "execution_count": 53,
     "metadata": {},
     "output_type": "execute_result"
    }
   ],
   "source": [
    "df_drinks.head()"
   ]
  },
  {
   "cell_type": "code",
   "execution_count": 54,
   "metadata": {},
   "outputs": [
    {
     "data": {
      "text/html": [
       "<div>\n",
       "<style scoped>\n",
       "    .dataframe tbody tr th:only-of-type {\n",
       "        vertical-align: middle;\n",
       "    }\n",
       "\n",
       "    .dataframe tbody tr th {\n",
       "        vertical-align: top;\n",
       "    }\n",
       "\n",
       "    .dataframe thead th {\n",
       "        text-align: right;\n",
       "    }\n",
       "</style>\n",
       "<table border=\"1\" class=\"dataframe\">\n",
       "  <thead>\n",
       "    <tr style=\"text-align: right;\">\n",
       "      <th></th>\n",
       "      <th>index</th>\n",
       "      <th>GhoCode</th>\n",
       "      <th>GhoDisplay</th>\n",
       "      <th>PublishStateCode</th>\n",
       "      <th>PublishStateDisplay</th>\n",
       "      <th>YearCode</th>\n",
       "      <th>YearDisplay</th>\n",
       "      <th>RegionCode</th>\n",
       "      <th>RegionDisplay</th>\n",
       "      <th>WorldBankIncomeGroupGroupCode</th>\n",
       "      <th>WorldBankIncomeGroupDisplay</th>\n",
       "      <th>CountryCode</th>\n",
       "      <th>CountryDisplay</th>\n",
       "      <th>SexCode</th>\n",
       "      <th>SexDisplay</th>\n",
       "      <th>DisplayValue</th>\n",
       "      <th>Numeric</th>\n",
       "    </tr>\n",
       "  </thead>\n",
       "  <tbody>\n",
       "    <tr>\n",
       "      <th>0</th>\n",
       "      <td>0</td>\n",
       "      <td>WHOSIS_000001</td>\n",
       "      <td>Life expectancy at birth (years)</td>\n",
       "      <td>PUBLISHED</td>\n",
       "      <td>Published</td>\n",
       "      <td>1990</td>\n",
       "      <td>1990</td>\n",
       "      <td>AMR</td>\n",
       "      <td>Americas</td>\n",
       "      <td>WB_LMI</td>\n",
       "      <td>Lower_middle_income</td>\n",
       "      <td>NIC</td>\n",
       "      <td>Nicaragua</td>\n",
       "      <td>MLE</td>\n",
       "      <td>Male</td>\n",
       "      <td>68</td>\n",
       "      <td>68.0</td>\n",
       "    </tr>\n",
       "    <tr>\n",
       "      <th>1</th>\n",
       "      <td>1</td>\n",
       "      <td>WHOSIS_000002</td>\n",
       "      <td>Healthy life expectancy (HALE) at birth (years)</td>\n",
       "      <td>PUBLISHED</td>\n",
       "      <td>Published</td>\n",
       "      <td>2012</td>\n",
       "      <td>2012</td>\n",
       "      <td>EUR</td>\n",
       "      <td>Europe</td>\n",
       "      <td>WB_HI</td>\n",
       "      <td>High_income</td>\n",
       "      <td>IRL</td>\n",
       "      <td>Ireland</td>\n",
       "      <td>MLE</td>\n",
       "      <td>Male</td>\n",
       "      <td>69</td>\n",
       "      <td>69.3</td>\n",
       "    </tr>\n",
       "    <tr>\n",
       "      <th>2</th>\n",
       "      <td>2</td>\n",
       "      <td>WHOSIS_000001</td>\n",
       "      <td>Life expectancy at birth (years)</td>\n",
       "      <td>PUBLISHED</td>\n",
       "      <td>Published</td>\n",
       "      <td>2000</td>\n",
       "      <td>2000</td>\n",
       "      <td>EMR</td>\n",
       "      <td>Eastern Mediterranean</td>\n",
       "      <td>WB_LI</td>\n",
       "      <td>Low_income</td>\n",
       "      <td>YEM</td>\n",
       "      <td>Yemen</td>\n",
       "      <td>BTSX</td>\n",
       "      <td>Both sexes</td>\n",
       "      <td>61</td>\n",
       "      <td>61.0</td>\n",
       "    </tr>\n",
       "    <tr>\n",
       "      <th>3</th>\n",
       "      <td>3</td>\n",
       "      <td>WHOSIS_000001</td>\n",
       "      <td>Life expectancy at birth (years)</td>\n",
       "      <td>PUBLISHED</td>\n",
       "      <td>Published</td>\n",
       "      <td>2000</td>\n",
       "      <td>2000</td>\n",
       "      <td>AFR</td>\n",
       "      <td>Africa</td>\n",
       "      <td>WB_LMI</td>\n",
       "      <td>Lower_middle_income</td>\n",
       "      <td>NGA</td>\n",
       "      <td>Nigeria</td>\n",
       "      <td>FMLE</td>\n",
       "      <td>Female</td>\n",
       "      <td>48</td>\n",
       "      <td>48.0</td>\n",
       "    </tr>\n",
       "    <tr>\n",
       "      <th>4</th>\n",
       "      <td>4</td>\n",
       "      <td>WHOSIS_000015</td>\n",
       "      <td>Life expectancy at age 60 (years)</td>\n",
       "      <td>PUBLISHED</td>\n",
       "      <td>Published</td>\n",
       "      <td>1990</td>\n",
       "      <td>1990</td>\n",
       "      <td>SEAR</td>\n",
       "      <td>South_East Asia</td>\n",
       "      <td>WB_LMI</td>\n",
       "      <td>Lower_middle_income</td>\n",
       "      <td>THA</td>\n",
       "      <td>Thailand</td>\n",
       "      <td>FMLE</td>\n",
       "      <td>Female</td>\n",
       "      <td>19</td>\n",
       "      <td>19.0</td>\n",
       "    </tr>\n",
       "  </tbody>\n",
       "</table>\n",
       "</div>"
      ],
      "text/plain": [
       "   index        GhoCode                                       GhoDisplay  \\\n",
       "0      0  WHOSIS_000001                 Life expectancy at birth (years)   \n",
       "1      1  WHOSIS_000002  Healthy life expectancy (HALE) at birth (years)   \n",
       "2      2  WHOSIS_000001                 Life expectancy at birth (years)   \n",
       "3      3  WHOSIS_000001                 Life expectancy at birth (years)   \n",
       "4      4  WHOSIS_000015                Life expectancy at age 60 (years)   \n",
       "\n",
       "  PublishStateCode PublishStateDisplay  YearCode  YearDisplay RegionCode  \\\n",
       "0        PUBLISHED           Published      1990         1990        AMR   \n",
       "1        PUBLISHED           Published      2012         2012        EUR   \n",
       "2        PUBLISHED           Published      2000         2000        EMR   \n",
       "3        PUBLISHED           Published      2000         2000        AFR   \n",
       "4        PUBLISHED           Published      1990         1990       SEAR   \n",
       "\n",
       "           RegionDisplay WorldBankIncomeGroupGroupCode  \\\n",
       "0               Americas                        WB_LMI   \n",
       "1                 Europe                         WB_HI   \n",
       "2  Eastern Mediterranean                         WB_LI   \n",
       "3                 Africa                        WB_LMI   \n",
       "4        South_East Asia                        WB_LMI   \n",
       "\n",
       "  WorldBankIncomeGroupDisplay CountryCode CountryDisplay SexCode  SexDisplay  \\\n",
       "0         Lower_middle_income         NIC      Nicaragua     MLE        Male   \n",
       "1                 High_income         IRL        Ireland     MLE        Male   \n",
       "2                  Low_income         YEM          Yemen    BTSX  Both sexes   \n",
       "3         Lower_middle_income         NGA        Nigeria    FMLE      Female   \n",
       "4         Lower_middle_income         THA       Thailand    FMLE      Female   \n",
       "\n",
       "   DisplayValue  Numeric  \n",
       "0            68     68.0  \n",
       "1            69     69.3  \n",
       "2            61     61.0  \n",
       "3            48     48.0  \n",
       "4            19     19.0  "
      ]
     },
     "execution_count": 54,
     "metadata": {},
     "output_type": "execute_result"
    }
   ],
   "source": [
    "df_life.head()"
   ]
  },
  {
   "cell_type": "code",
   "execution_count": 55,
   "metadata": {},
   "outputs": [
    {
     "data": {
      "text/html": [
       "<div>\n",
       "<style scoped>\n",
       "    .dataframe tbody tr th:only-of-type {\n",
       "        vertical-align: middle;\n",
       "    }\n",
       "\n",
       "    .dataframe tbody tr th {\n",
       "        vertical-align: top;\n",
       "    }\n",
       "\n",
       "    .dataframe thead th {\n",
       "        text-align: right;\n",
       "    }\n",
       "</style>\n",
       "<table border=\"1\" class=\"dataframe\">\n",
       "  <thead>\n",
       "    <tr style=\"text-align: right;\">\n",
       "      <th></th>\n",
       "      <th>index</th>\n",
       "      <th>country</th>\n",
       "      <th>beer_servings</th>\n",
       "      <th>spirit_servings</th>\n",
       "      <th>wine_servings</th>\n",
       "      <th>total_litres_of_pure_alcohol</th>\n",
       "    </tr>\n",
       "  </thead>\n",
       "  <tbody>\n",
       "    <tr>\n",
       "      <th>188</th>\n",
       "      <td>188</td>\n",
       "      <td>Venezuela</td>\n",
       "      <td>333</td>\n",
       "      <td>100</td>\n",
       "      <td>3</td>\n",
       "      <td>7.7</td>\n",
       "    </tr>\n",
       "    <tr>\n",
       "      <th>189</th>\n",
       "      <td>189</td>\n",
       "      <td>Vietnam</td>\n",
       "      <td>111</td>\n",
       "      <td>2</td>\n",
       "      <td>1</td>\n",
       "      <td>2.0</td>\n",
       "    </tr>\n",
       "    <tr>\n",
       "      <th>190</th>\n",
       "      <td>190</td>\n",
       "      <td>Yemen</td>\n",
       "      <td>6</td>\n",
       "      <td>0</td>\n",
       "      <td>0</td>\n",
       "      <td>0.1</td>\n",
       "    </tr>\n",
       "    <tr>\n",
       "      <th>191</th>\n",
       "      <td>191</td>\n",
       "      <td>Zambia</td>\n",
       "      <td>32</td>\n",
       "      <td>19</td>\n",
       "      <td>4</td>\n",
       "      <td>2.5</td>\n",
       "    </tr>\n",
       "    <tr>\n",
       "      <th>192</th>\n",
       "      <td>192</td>\n",
       "      <td>Zimbabwe</td>\n",
       "      <td>64</td>\n",
       "      <td>18</td>\n",
       "      <td>4</td>\n",
       "      <td>4.7</td>\n",
       "    </tr>\n",
       "  </tbody>\n",
       "</table>\n",
       "</div>"
      ],
      "text/plain": [
       "     index    country  beer_servings  spirit_servings  wine_servings  \\\n",
       "188    188  Venezuela            333              100              3   \n",
       "189    189    Vietnam            111                2              1   \n",
       "190    190      Yemen              6                0              0   \n",
       "191    191     Zambia             32               19              4   \n",
       "192    192   Zimbabwe             64               18              4   \n",
       "\n",
       "     total_litres_of_pure_alcohol  \n",
       "188                           7.7  \n",
       "189                           2.0  \n",
       "190                           0.1  \n",
       "191                           2.5  \n",
       "192                           4.7  "
      ]
     },
     "execution_count": 55,
     "metadata": {},
     "output_type": "execute_result"
    }
   ],
   "source": [
    "df_drinks.tail()"
   ]
  },
  {
   "cell_type": "code",
   "execution_count": 56,
   "metadata": {},
   "outputs": [
    {
     "data": {
      "text/html": [
       "<div>\n",
       "<style scoped>\n",
       "    .dataframe tbody tr th:only-of-type {\n",
       "        vertical-align: middle;\n",
       "    }\n",
       "\n",
       "    .dataframe tbody tr th {\n",
       "        vertical-align: top;\n",
       "    }\n",
       "\n",
       "    .dataframe thead th {\n",
       "        text-align: right;\n",
       "    }\n",
       "</style>\n",
       "<table border=\"1\" class=\"dataframe\">\n",
       "  <thead>\n",
       "    <tr style=\"text-align: right;\">\n",
       "      <th></th>\n",
       "      <th>index</th>\n",
       "      <th>GhoCode</th>\n",
       "      <th>GhoDisplay</th>\n",
       "      <th>PublishStateCode</th>\n",
       "      <th>PublishStateDisplay</th>\n",
       "      <th>YearCode</th>\n",
       "      <th>YearDisplay</th>\n",
       "      <th>RegionCode</th>\n",
       "      <th>RegionDisplay</th>\n",
       "      <th>WorldBankIncomeGroupGroupCode</th>\n",
       "      <th>WorldBankIncomeGroupDisplay</th>\n",
       "      <th>CountryCode</th>\n",
       "      <th>CountryDisplay</th>\n",
       "      <th>SexCode</th>\n",
       "      <th>SexDisplay</th>\n",
       "      <th>DisplayValue</th>\n",
       "      <th>Numeric</th>\n",
       "    </tr>\n",
       "  </thead>\n",
       "  <tbody>\n",
       "    <tr>\n",
       "      <th>6403</th>\n",
       "      <td>6403</td>\n",
       "      <td>WHOSIS_000001</td>\n",
       "      <td>Life expectancy at birth (years)</td>\n",
       "      <td>PUBLISHED</td>\n",
       "      <td>Published</td>\n",
       "      <td>2000</td>\n",
       "      <td>2000</td>\n",
       "      <td>EMR</td>\n",
       "      <td>Eastern Mediterranean</td>\n",
       "      <td>WB_LMI</td>\n",
       "      <td>Lower_middle_income</td>\n",
       "      <td>MAR</td>\n",
       "      <td>Morocco</td>\n",
       "      <td>BTSX</td>\n",
       "      <td>Both sexes</td>\n",
       "      <td>68</td>\n",
       "      <td>68.00000</td>\n",
       "    </tr>\n",
       "    <tr>\n",
       "      <th>6404</th>\n",
       "      <td>6404</td>\n",
       "      <td>WHOSIS_000015</td>\n",
       "      <td>Life expectancy at age 60 (years)</td>\n",
       "      <td>PUBLISHED</td>\n",
       "      <td>Published</td>\n",
       "      <td>1990</td>\n",
       "      <td>1990</td>\n",
       "      <td>WPR</td>\n",
       "      <td>Western Pacific</td>\n",
       "      <td>WB_UMI</td>\n",
       "      <td>Upper_middle_income</td>\n",
       "      <td>PLW</td>\n",
       "      <td>Palau</td>\n",
       "      <td>BTSX</td>\n",
       "      <td>Both sexes</td>\n",
       "      <td>16</td>\n",
       "      <td>16.00000</td>\n",
       "    </tr>\n",
       "    <tr>\n",
       "      <th>6405</th>\n",
       "      <td>6405</td>\n",
       "      <td>WHOSIS_000001</td>\n",
       "      <td>Life expectancy at birth (years)</td>\n",
       "      <td>PUBLISHED</td>\n",
       "      <td>Published</td>\n",
       "      <td>1990</td>\n",
       "      <td>1990</td>\n",
       "      <td>AFR</td>\n",
       "      <td>Africa</td>\n",
       "      <td>WB_LI</td>\n",
       "      <td>Low_income</td>\n",
       "      <td>BFA</td>\n",
       "      <td>Burkina Faso</td>\n",
       "      <td>FMLE</td>\n",
       "      <td>Female</td>\n",
       "      <td>51</td>\n",
       "      <td>51.00000</td>\n",
       "    </tr>\n",
       "    <tr>\n",
       "      <th>6406</th>\n",
       "      <td>6406</td>\n",
       "      <td>WHOSIS_000002</td>\n",
       "      <td>Healthy life expectancy (HALE) at birth (years)</td>\n",
       "      <td>PUBLISHED</td>\n",
       "      <td>Published</td>\n",
       "      <td>2012</td>\n",
       "      <td>2012</td>\n",
       "      <td>EUR</td>\n",
       "      <td>Europe</td>\n",
       "      <td>WB_LMI</td>\n",
       "      <td>Lower_middle_income</td>\n",
       "      <td>ALB</td>\n",
       "      <td>Albania</td>\n",
       "      <td>MLE</td>\n",
       "      <td>Male</td>\n",
       "      <td>64</td>\n",
       "      <td>63.50000</td>\n",
       "    </tr>\n",
       "    <tr>\n",
       "      <th>6407</th>\n",
       "      <td>6407</td>\n",
       "      <td>WHOSIS_000001</td>\n",
       "      <td>Life expectancy at birth (years)</td>\n",
       "      <td>PUBLISHED</td>\n",
       "      <td>Published</td>\n",
       "      <td>2013</td>\n",
       "      <td>2013</td>\n",
       "      <td>EUR</td>\n",
       "      <td>Europe</td>\n",
       "      <td>NaN</td>\n",
       "      <td>NaN</td>\n",
       "      <td>ARM</td>\n",
       "      <td>Armenia</td>\n",
       "      <td>BTSX</td>\n",
       "      <td>Both sexes</td>\n",
       "      <td>71</td>\n",
       "      <td>71.02699</td>\n",
       "    </tr>\n",
       "  </tbody>\n",
       "</table>\n",
       "</div>"
      ],
      "text/plain": [
       "      index        GhoCode                                       GhoDisplay  \\\n",
       "6403   6403  WHOSIS_000001                 Life expectancy at birth (years)   \n",
       "6404   6404  WHOSIS_000015                Life expectancy at age 60 (years)   \n",
       "6405   6405  WHOSIS_000001                 Life expectancy at birth (years)   \n",
       "6406   6406  WHOSIS_000002  Healthy life expectancy (HALE) at birth (years)   \n",
       "6407   6407  WHOSIS_000001                 Life expectancy at birth (years)   \n",
       "\n",
       "     PublishStateCode PublishStateDisplay  YearCode  YearDisplay RegionCode  \\\n",
       "6403        PUBLISHED           Published      2000         2000        EMR   \n",
       "6404        PUBLISHED           Published      1990         1990        WPR   \n",
       "6405        PUBLISHED           Published      1990         1990        AFR   \n",
       "6406        PUBLISHED           Published      2012         2012        EUR   \n",
       "6407        PUBLISHED           Published      2013         2013        EUR   \n",
       "\n",
       "              RegionDisplay WorldBankIncomeGroupGroupCode  \\\n",
       "6403  Eastern Mediterranean                        WB_LMI   \n",
       "6404        Western Pacific                        WB_UMI   \n",
       "6405                 Africa                         WB_LI   \n",
       "6406                 Europe                        WB_LMI   \n",
       "6407                 Europe                           NaN   \n",
       "\n",
       "     WorldBankIncomeGroupDisplay CountryCode CountryDisplay SexCode  \\\n",
       "6403         Lower_middle_income         MAR        Morocco    BTSX   \n",
       "6404         Upper_middle_income         PLW          Palau    BTSX   \n",
       "6405                  Low_income         BFA   Burkina Faso    FMLE   \n",
       "6406         Lower_middle_income         ALB        Albania     MLE   \n",
       "6407                         NaN         ARM        Armenia    BTSX   \n",
       "\n",
       "      SexDisplay  DisplayValue   Numeric  \n",
       "6403  Both sexes            68  68.00000  \n",
       "6404  Both sexes            16  16.00000  \n",
       "6405      Female            51  51.00000  \n",
       "6406        Male            64  63.50000  \n",
       "6407  Both sexes            71  71.02699  "
      ]
     },
     "execution_count": 56,
     "metadata": {},
     "output_type": "execute_result"
    }
   ],
   "source": [
    "df_life.tail()"
   ]
  },
  {
   "cell_type": "code",
   "execution_count": 62,
   "metadata": {},
   "outputs": [
    {
     "data": {
      "text/plain": [
       "193"
      ]
     },
     "execution_count": 62,
     "metadata": {},
     "output_type": "execute_result"
    }
   ],
   "source": [
    "df_drinks['country'].nunique()"
   ]
  },
  {
   "cell_type": "code",
   "execution_count": 63,
   "metadata": {},
   "outputs": [
    {
     "data": {
      "text/plain": [
       "194"
      ]
     },
     "execution_count": 63,
     "metadata": {},
     "output_type": "execute_result"
    }
   ],
   "source": [
    "df_life['CountryCode'].nunique()"
   ]
  },
  {
   "cell_type": "markdown",
   "metadata": {},
   "source": [
    "Вывод: Данные в df_life - сырые, многие столбцы дублируют сами себя и только перегружают таблицу, что приводит к более трудному восприятию информации. Зато эти данные имеют более ценную для нас смысловую нагрузку. Данные в df_drinks более укомпанованы и с ними работать будет легче. Если говорить про взаимосвязь между двумя таблицами, то в них указано почти одинаковое кол-во уникальных городов, что в дальнейшем можно будет связать продолжительность жизни с количеством выпитого алкоголя в стране."
   ]
  },
  {
   "cell_type": "markdown",
   "metadata": {
    "id": "8f1_cl1Ojg9r"
   },
   "source": [
    "### 2"
   ]
  },
  {
   "cell_type": "markdown",
   "metadata": {
    "id": "hOXMwdDGlAaa"
   },
   "source": [
    "Для каждого признака в рассматриваемых данных укажите тип этого признака и кратко обоснуйте, почему тип именно такой. Тут под номинальным я имел в виду категориальный, т.к в Вики это называется номинальным."
   ]
  },
  {
   "cell_type": "markdown",
   "metadata": {
    "id": "2einwDe8lVry"
   },
   "source": [
    "Тип признаков в df_drinks:  \n",
    "index - Порядковый (указывает номер строки)  \n",
    "country - Номинальный (название страны)  \n",
    "beer_servings - Количественный (количесвто порций пива на человека)  \n",
    "spirit_servings - аналогично пиву  \n",
    "wine_servings - аналогично пиву  \n",
    "total_litres_of_pure_alcohol - количественный (кол-во литров алкоголя, которая потребляет человек в стране)  \n",
    "Тип признаков в df_life:  \n",
    "index - Порядковый (указывает номер строки)  \n",
    "GhoCode - номинальный (код, который обозначает конкретный показатель здоровья)  \n",
    "GhoDisplay - номинальный (описание показателя здоровья, соответствующее GhoCode)  \n",
    "PublishStateCode - номинальный (код, указывающий статус публикации данных)  \n",
    "PublishStateDisplay - номинальный (код, указывающий статус публикации, аналогичен PublishStateCode)  \n",
    "YearCode - Количественный (год, к которому относятся показатели)  \n",
    "YearDisplay - Количественный (год, к которому относятся показатели)  \n",
    "RegionCode - Номинальный (код региона)  \n",
    "RegionDisplay - номинальный (расшифровка RegionCode, полное название региона)  \n",
    "WorldBankIncomeGroupGroupCode - номинальный (код группы по доходу)  \n",
    "WorldBankIncomeGroupDisplay - номинальный (расшифровка WorldBankIncomeGroupGroupCode)  \n",
    "CountryCode - номинальный (код страны)  \n",
    "CountryDisplay - номинальный (расшифровка CountryCode)  \n",
    "SexCode - номинальный (пол, к которому относится)  \n",
    "SexDisplay - номинальный (расшифровка SexCode)  \n",
    "DisplayValue - количественный (значение продолжительности жизни int)  \n",
    "Numeric - количественный (значение прололжительности жизни float)  "
   ]
  },
  {
   "cell_type": "markdown",
   "metadata": {
    "id": "FxJDNYhMljdc"
   },
   "source": [
    "### 3"
   ]
  },
  {
   "cell_type": "markdown",
   "metadata": {
    "id": "UVDua9fQllw6"
   },
   "source": [
    "Внимательно изучите признаки обеих таблиц. Как вы считаете, какая из таблиц является главной (а какая сопутствующей)? Почему вы так думаете?\n",
    "\n",
    "Какой признак может представлять существенный интерес для исследования и являться целевой переменной в рамках представленного датасета? Ответ обоснуйте.\n",
    "\n",
    "***Бонус (1 бон. балл):*** Попробуйте описать задачу машинного обучения, которую вы могли бы решать для данного датасета с учетом выбранной вами раннее целевой переменной и проблематики исследования. Подробнее про постановку и формализацию задач машинного обучения, а также про различные типы таких задач — вы можете прочитать, например, вот в этой [статье](https://habr.com/ru/company/simbirsoft/blog/565396/) (в начале)"
   ]
  },
  {
   "cell_type": "markdown",
   "metadata": {
    "id": "2hrANQDyFYAK"
   },
   "source": [
    "Главной таблицей является life, тк в ней находится наиболее ценная для нас информация. Имеется много столбцов, которые описывают различные показатели, такие как: достаток человека, пол, страна проживания. Мы сможем разбить пользователей на различные выборки и сгруппировать их по различным признакам. Это является наиболее ценной для нас информацией. Таблица про алкоголь будет сопуствующей, она поможет объяснить, почему именно такие цифры содержатся в основной таблице. То есть благодаря ней мы сможем провести исследование, как алкоголь влияет на продолжительность жизни.  \n",
    "Целевой метрикой для нас будет являться GhoDisplay (если говорить прос столбец), а скорее даже показатель Life Expectancy at birth, то есть берем этот столбец и смотрим значение в Numeric (Значение метрики). Данная метрика сможет отражать многие факторы, влияющие на продолжительность жизни: доступность медицины для населения, экологическая ситуация в стране, половой признак и другое. То есть мы будем исследовать как данная метрика меняется от различных факторов. Как алкоголь и другие факторы влияют на продолжительность жизни человека.\n",
    "Бонус. Задача машинного обучения будет заключаться в восстановлении регресии (прогнозирования). То есть регрессия продолжительности жизни на основе вляиния социально-экономических признаков. Цель машинного обучения - научиться предсказывать продолжительность жизни на основе входных данных, таких как: пол, возраст, страна, кол-во алкоголя, достаток. Точность модели мы сможем измерять с помощью метрики MSE - среднеквадратическая ошибка (мы такого не проходили :))"
   ]
  },
  {
   "cell_type": "markdown",
   "metadata": {
    "id": "w4CScFwLZKgg"
   },
   "source": [
    "### 4"
   ]
  },
  {
   "cell_type": "markdown",
   "metadata": {
    "id": "eQLEQXd-ZKgg"
   },
   "source": [
    "Какова доля статей о продолжительности жизни в Африке? Какова доля статей о продолжительности жизни мужчин и доля статей о продолжительности жизни женщин среди всех статей по Африке?\n",
    "\n",
    "***Бонус (2 бон. балла):*** Сравните эти доли с аналогичными долями по другим регионам. Как вы можете объяснить возникающие сходства и различия? Прокомментируйте полученные результаты."
   ]
  },
  {
   "cell_type": "code",
   "execution_count": 81,
   "metadata": {
    "id": "-uzVP9fTZKgg"
   },
   "outputs": [
    {
     "data": {
      "text/plain": [
       "0.2378"
      ]
     },
     "execution_count": 81,
     "metadata": {},
     "output_type": "execute_result"
    }
   ],
   "source": [
    "total_articles = df_life.shape[0]\n",
    "about_africa = df_life[df_life['RegionDisplay'] == 'Africa'].shape[0]\n",
    "share_africa = about_africa / total_articles\n",
    "round(share_africa, 4) #Доля статей о продолжительнсоти жизни в Африке"
   ]
  },
  {
   "cell_type": "code",
   "execution_count": 80,
   "metadata": {},
   "outputs": [
    {
     "name": "stdout",
     "output_type": "stream",
     "text": [
      "Доля статей об Африке - 0.23782771535580524\n",
      "Доля статей в Африке о мужчинах - 0.3333333333333333\n",
      "Доля статей в Африке о женщинах - 0.3333333333333333\n"
     ]
    }
   ],
   "source": [
    "about_males = df_life[(df_life['RegionDisplay'] == 'Africa') & (df_life['SexDisplay'] == 'Male')].shape[0]\n",
    "about_females = df_life[(df_life['RegionDisplay'] == 'Africa') & (df_life['SexDisplay'] == 'Female')].shape[0]\n",
    "share_males = about_males / about_africa\n",
    "share_females = about_females / about_africa\n",
    "print(f'''Доля статей об Африке - {share_africa}\\nДоля статей в Африке о мужчинах - {share_males}\\nДоля статей в Африке о женщинах - {share_females}''')"
   ]
  },
  {
   "cell_type": "code",
   "execution_count": 84,
   "metadata": {},
   "outputs": [],
   "source": [
    "articles_region = df_life['RegionDisplay'].value_counts()"
   ]
  },
  {
   "cell_type": "code",
   "execution_count": 89,
   "metadata": {},
   "outputs": [],
   "source": [
    "import matplotlib.pyplot as plt"
   ]
  },
  {
   "cell_type": "code",
   "execution_count": 94,
   "metadata": {},
   "outputs": [
    {
     "data": {
      "image/png": "[encoded data removed]",
      "text/plain": [
       "<Figure size 1000x600 with 1 Axes>"
      ]
     },
     "metadata": {},
     "output_type": "display_data"
    }
   ],
   "source": [
    "articles_region.plot(kind='pie', figsize=(10, 6) ,autopct='%1.1f%%', startangle=140)\n",
    "plt.title('Доля статей на регион')\n",
    "plt.ylabel('') \n",
    "plt.show()"
   ]
  },
  {
   "cell_type": "markdown",
   "metadata": {},
   "source": [
    "Как мы видим, что наибольшую долю статей занимает Европа, т.к данный регион является лидирующим в развитии здравоохранении, поэтому и большиство статей были написаны в нем. Африка занимает второе место, потому что около 11 миллионов африканцев переходят черту крайней нищеты, и более развитые страные стараются поддерживать данный регион. Также Африка явлется довольно интересным объектом исследования, т.к жизнь в этом регионе сильно отличается от привычного нам. Америка отстает от Европы на 9 процентных пунктов. Доволньо интересное наблюдение, т.к население во всей Америке больше на 300 млн человек, чем население всей Европы и Америка вкладывает 18% ВВП в медицину."
   ]
  },
  {
   "cell_type": "markdown",
   "metadata": {
    "id": "3Y8ILyzlZKgg"
   },
   "source": [
    "### 5"
   ]
  },
  {
   "cell_type": "markdown",
   "metadata": {
    "id": "nEfsxhQUZKgg"
   },
   "source": [
    "Сколько всего существует видов статей с точки зрения оцениваемого параметра продолжительности жизни? Какой из этих видов статей самый популярный (написано наибольшее количество научных работ)? В рамках найденного вами самого популярного вида статей проведите сравнение, относительно какой из половых групп: мужчины, женщины или же оба пола — статей в нем было больше всего?"
   ]
  },
  {
   "cell_type": "code",
   "execution_count": 96,
   "metadata": {
    "id": "kQVTfRKFZKgg"
   },
   "outputs": [
    {
     "data": {
      "text/plain": [
       "Life expectancy at birth (years)                   2328\n",
       "Life expectancy at age 60 (years)                  2328\n",
       "Healthy life expectancy (HALE) at birth (years)    1752\n",
       "Name: GhoDisplay, dtype: int64"
      ]
     },
     "execution_count": 96,
     "metadata": {},
     "output_type": "execute_result"
    }
   ],
   "source": [
    "total_articles_gho = df_life['GhoDisplay'].value_counts()\n",
    "total_articles_gho"
   ]
  },
  {
   "cell_type": "markdown",
   "metadata": {},
   "source": [
    "У нас получилось, что у двух групп: продолжительность жизни в 60 лет и продолжительность жизни с рождения написано одинаковое количество статей - 2328. Наиболее интересный для меня предмет исследования - Life expectancy at birth (years), т.к он указывает на продолжительность жизни при рождении человека."
   ]
  },
  {
   "cell_type": "code",
   "execution_count": 99,
   "metadata": {},
   "outputs": [
    {
     "data": {
      "text/plain": [
       "Male          776\n",
       "Both sexes    776\n",
       "Female        776\n",
       "Name: SexDisplay, dtype: int64"
      ]
     },
     "execution_count": 99,
     "metadata": {},
     "output_type": "execute_result"
    }
   ],
   "source": [
    "popular_gho_sex = df_life[df_life['GhoDisplay'] == 'Life expectancy at birth (years)']['SexDisplay'].value_counts()\n",
    "popular_gho_sex"
   ]
  },
  {
   "cell_type": "markdown",
   "metadata": {},
   "source": [
    "Как мы видим распределение статей по половым признаком - равномерное, т.к содержит одинаковое кол-во статей в каждой группе - 776."
   ]
  },
  {
   "cell_type": "markdown",
   "metadata": {
    "id": "d9G-K_H0ZKgh"
   },
   "source": [
    "### 6"
   ]
  },
  {
   "cell_type": "markdown",
   "metadata": {
    "id": "gM69Tv9sZKgh"
   },
   "source": [
    "Выведите минимальную, среднюю, медианную и максимальную оцененную продолжительность жизни людей от рождения (life expectancy at birth). Выберите любые три страны на ваш вкус и проделайте то же самое только для статей по этим странам. Что можно сказать на основе результатов, которые вы получили?"
   ]
  },
  {
   "cell_type": "code",
   "execution_count": 106,
   "metadata": {
    "id": "JNyWyX1pZKgh"
   },
   "outputs": [
    {
     "name": "stdout",
     "output_type": "stream",
     "text": [
      "Минимальная - 38.0\n",
      "\n",
      "Средняя продолжительность - 68.44137943298968\n",
      "\n",
      "Медиана - 70.857895\n",
      "\n",
      "Максимальная - 87.15457\n",
      "\n",
      "\n"
     ]
    }
   ],
   "source": [
    "min_expect_birth = df_life[df_life['GhoDisplay'] == 'Life expectancy at birth (years)']['Numeric'].min()\n",
    "mean_expect_birth = df_life[df_life['GhoDisplay'] == 'Life expectancy at birth (years)']['Numeric'].mean()\n",
    "median_expect_birth = df_life[df_life['GhoDisplay'] == 'Life expectancy at birth (years)']['Numeric'].median()\n",
    "max_expect_birth = df_life[df_life['GhoDisplay'] == 'Life expectancy at birth (years)']['Numeric'].max()\n",
    "print(f'''Минимальная - {min_expect_birth}\\n\n",
    "Средняя продолжительность - {mean_expect_birth}\\n\n",
    "Медиана - {median_expect_birth}\\n\n",
    "Максимальная - {max_expect_birth}\\n\n",
    "''')"
   ]
  },
  {
   "cell_type": "code",
   "execution_count": 115,
   "metadata": {},
   "outputs": [
    {
     "data": {
      "text/html": [
       "<div>\n",
       "<style scoped>\n",
       "    .dataframe tbody tr th:only-of-type {\n",
       "        vertical-align: middle;\n",
       "    }\n",
       "\n",
       "    .dataframe tbody tr th {\n",
       "        vertical-align: top;\n",
       "    }\n",
       "\n",
       "    .dataframe thead th {\n",
       "        text-align: right;\n",
       "    }\n",
       "</style>\n",
       "<table border=\"1\" class=\"dataframe\">\n",
       "  <thead>\n",
       "    <tr style=\"text-align: right;\">\n",
       "      <th></th>\n",
       "      <th>min</th>\n",
       "      <th>mean</th>\n",
       "      <th>median</th>\n",
       "      <th>max</th>\n",
       "    </tr>\n",
       "    <tr>\n",
       "      <th>CountryDisplay</th>\n",
       "      <th></th>\n",
       "      <th></th>\n",
       "      <th></th>\n",
       "      <th></th>\n",
       "    </tr>\n",
       "  </thead>\n",
       "  <tbody>\n",
       "    <tr>\n",
       "      <th>Canada</th>\n",
       "      <td>19.0</td>\n",
       "      <td>57.131743</td>\n",
       "      <td>71.8</td>\n",
       "      <td>84.01681</td>\n",
       "    </tr>\n",
       "    <tr>\n",
       "      <th>Germany</th>\n",
       "      <td>18.0</td>\n",
       "      <td>55.954190</td>\n",
       "      <td>71.0</td>\n",
       "      <td>83.27878</td>\n",
       "    </tr>\n",
       "    <tr>\n",
       "      <th>Nigeria</th>\n",
       "      <td>14.0</td>\n",
       "      <td>36.071809</td>\n",
       "      <td>46.0</td>\n",
       "      <td>55.40039</td>\n",
       "    </tr>\n",
       "  </tbody>\n",
       "</table>\n",
       "</div>"
      ],
      "text/plain": [
       "                 min       mean  median       max\n",
       "CountryDisplay                                   \n",
       "Canada          19.0  57.131743    71.8  84.01681\n",
       "Germany         18.0  55.954190    71.0  83.27878\n",
       "Nigeria         14.0  36.071809    46.0  55.40039"
      ]
     },
     "execution_count": 115,
     "metadata": {},
     "output_type": "execute_result"
    }
   ],
   "source": [
    "countries = ['Nigeria', 'Germany', 'Canada']\n",
    "countries_res = df_life[df_life['CountryDisplay'].isin(countries)].groupby('CountryDisplay')['Numeric'].agg(['min', 'mean', 'median', 'max'])\n",
    "countries_res"
   ]
  },
  {
   "cell_type": "markdown",
   "metadata": {},
   "source": [
    "Как мы видим, что значения в Германии и в Канаде довольно похожие, что можно увидеть по медиане, которая учитывает выбросы выборки. В Нигерии медиана ниже на 64,7%, что говорит о низком уровне жизни в странах Африки, а максимальная продолжительность жизни в Нигерии всего 55 лет, что удивиетельно."
   ]
  },
  {
   "cell_type": "markdown",
   "metadata": {
    "id": "ZhzV-ygY0NI0"
   },
   "source": [
    "### 7\n",
    "\n",
    "Сформируйте результирующий датафрейм на основе проделанных вами действий в предыдущем номере. У датафрейма должно быть 4 столбца, в соответствии с заданными агреггирующими функциями: минимум, среднее, медиана, максимум, — а также 4 строки: статистика по всему датасету; статистика по трем выбранным вами странам. Сохраните программно созданный вами датафрейм в виде csv файла.\n",
    "\n",
    "*Примечание. Датафрейм необходимо создавать автоматизированным образом. Не допускается ручной перенос значений из полученных в предыдущем задании ячеек в пустой датафрейм и/или прописывание конкретных значений (чисел) в коде программы. Представьте, что у нас не 3 страны, а 100 и не 4 агреггирующих метрики, а 100!*"
   ]
  },
  {
   "cell_type": "markdown",
   "metadata": {
    "id": "kdVvSBfq0oUn"
   },
   "source": [
    "Случайно сделал это в предыдущем задании, что меня очень сильно порадовало в час ночи, т.к заданий стало на одно меньше, а усилий я не приложил, осталось только сохранить его в csv файл, что я и сделаю :))))"
   ]
  },
  {
   "cell_type": "code",
   "execution_count": 116,
   "metadata": {},
   "outputs": [],
   "source": [
    "countries_res.to_csv('stats_countries')"
   ]
  },
  {
   "cell_type": "markdown",
   "metadata": {
    "id": "L5KAIFPBZKgi"
   },
   "source": [
    "### 8"
   ]
  },
  {
   "cell_type": "markdown",
   "metadata": {
    "id": "Tv3QepvHZKgi"
   },
   "source": [
    "Есть ли в наших датасетах пропуски? Если да, то в каких столбцах? Сколько пропусков в каждом из них?\n",
    "\n",
    "Подумайте, как стоит избавиться от пропусков в каждом из столбцов, и сделайте это. Аргументируйте ваши действия.\n",
    "\n",
    "Проверьте, что пропусков нигде не осталось.\n",
    "\n",
    "*Примечание. Не забудьте сохранить все изменения! В последующих заданиях вы должны работать с уже обновленными датасетами.*"
   ]
  },
  {
   "cell_type": "code",
   "execution_count": 126,
   "metadata": {
    "id": "wgP23TD3ZKgi"
   },
   "outputs": [
    {
     "data": {
      "text/plain": [
       "index                               0\n",
       "GhoCode                             0\n",
       "GhoDisplay                          0\n",
       "PublishStateCode                    0\n",
       "PublishStateDisplay                 0\n",
       "YearCode                            0\n",
       "YearDisplay                         0\n",
       "RegionCode                          0\n",
       "RegionDisplay                       0\n",
       "WorldBankIncomeGroupGroupCode    1164\n",
       "WorldBankIncomeGroupDisplay      1164\n",
       "CountryCode                         0\n",
       "CountryDisplay                      0\n",
       "SexCode                             0\n",
       "SexDisplay                          0\n",
       "DisplayValue                        0\n",
       "Numeric                             0\n",
       "dtype: int64"
      ]
     },
     "execution_count": 126,
     "metadata": {},
     "output_type": "execute_result"
    }
   ],
   "source": [
    "count_null_life = df_life.isnull().sum()\n",
    "count_null_life"
   ]
  },
  {
   "cell_type": "code",
   "execution_count": 127,
   "metadata": {},
   "outputs": [
    {
     "data": {
      "text/plain": [
       "index                           0\n",
       "country                         0\n",
       "beer_servings                   0\n",
       "spirit_servings                 0\n",
       "wine_servings                   0\n",
       "total_litres_of_pure_alcohol    0\n",
       "dtype: int64"
      ]
     },
     "execution_count": 127,
     "metadata": {},
     "output_type": "execute_result"
    }
   ],
   "source": [
    "count_null_drinks = df_drinks.isnull().sum()\n",
    "count_null_drinks"
   ]
  },
  {
   "cell_type": "markdown",
   "metadata": {},
   "source": [
    "В датасете df_drinks пропусков - нет  \n",
    "В датасете df_life есть одинаковое количество пропусков в 1164 строках в столбцах WorldBankIncomeGroupGroupCode и WorldBankIncomeGroupDisplay, т.к они отображают одно и тоже (писал выше)  \n",
    "Всего у нас 6408 строк, из них 1164 - пропуски по колонке дохода, так что удалять значения будет не особо честно, так как это почти 20% всей выборки. Поэтому заполним их просто значением 'Unknown', показав, что данные об этих исследованиях нам неизвестны."
   ]
  },
  {
   "cell_type": "code",
   "execution_count": 128,
   "metadata": {},
   "outputs": [],
   "source": [
    "df_life.fillna('Unknown', inplace=True)"
   ]
  },
  {
   "cell_type": "code",
   "execution_count": 129,
   "metadata": {},
   "outputs": [
    {
     "data": {
      "text/plain": [
       "index                            0\n",
       "GhoCode                          0\n",
       "GhoDisplay                       0\n",
       "PublishStateCode                 0\n",
       "PublishStateDisplay              0\n",
       "YearCode                         0\n",
       "YearDisplay                      0\n",
       "RegionCode                       0\n",
       "RegionDisplay                    0\n",
       "WorldBankIncomeGroupGroupCode    0\n",
       "WorldBankIncomeGroupDisplay      0\n",
       "CountryCode                      0\n",
       "CountryDisplay                   0\n",
       "SexCode                          0\n",
       "SexDisplay                       0\n",
       "DisplayValue                     0\n",
       "Numeric                          0\n",
       "dtype: int64"
      ]
     },
     "execution_count": 129,
     "metadata": {},
     "output_type": "execute_result"
    }
   ],
   "source": [
    "count_null_life = df_life.isnull().sum()\n",
    "count_null_life"
   ]
  },
  {
   "cell_type": "markdown",
   "metadata": {},
   "source": [
    "Как видим пропусков стало ноль."
   ]
  },
  {
   "cell_type": "markdown",
   "metadata": {
    "id": "VQ_ocDkOZKgh"
   },
   "source": [
    "### 9"
   ]
  },
  {
   "cell_type": "markdown",
   "metadata": {
    "id": "Z92wE5uJZKgh"
   },
   "source": [
    "Все ли признаки несут в себе полезную информацию? Почему вы так считаете? Избавьтесь от ненужных столбцов. Свой выбор аргументируйте\n",
    "\n",
    "*Примечание. Не забудьте сохранить все изменения! В последующих заданиях вы должны работать с уже обновленными датасетами.*"
   ]
  },
  {
   "cell_type": "markdown",
   "metadata": {
    "collapsed": true,
    "id": "f79iiwhuZKgh"
   },
   "source": [
    "Не все признаки несут в себе полезную информацию. Как я писал ранее некоторые колонки дублируют друг друга, например: PublishStateCode-PublishStateDisplay,\tYearCode-YearDisplay, DisplayValue-Numeric.  \n",
    "Также есть столбцы, которые отражают код и название, в принципе названия будет достаточно или кода, так что можно один из столбцов оставить, а второй - убрать."
   ]
  },
  {
   "cell_type": "code",
   "execution_count": 147,
   "metadata": {},
   "outputs": [],
   "source": [
    "df_life_new = df_life.drop(['GhoCode', 'PublishStateCode', 'YearCode', 'RegionCode', 'WorldBankIncomeGroupGroupCode', 'CountryCode', 'SexCode', 'DisplayValue'], axis = 1)\n"
   ]
  },
  {
   "cell_type": "code",
   "execution_count": 148,
   "metadata": {},
   "outputs": [
    {
     "data": {
      "text/html": [
       "<div>\n",
       "<style scoped>\n",
       "    .dataframe tbody tr th:only-of-type {\n",
       "        vertical-align: middle;\n",
       "    }\n",
       "\n",
       "    .dataframe tbody tr th {\n",
       "        vertical-align: top;\n",
       "    }\n",
       "\n",
       "    .dataframe thead th {\n",
       "        text-align: right;\n",
       "    }\n",
       "</style>\n",
       "<table border=\"1\" class=\"dataframe\">\n",
       "  <thead>\n",
       "    <tr style=\"text-align: right;\">\n",
       "      <th></th>\n",
       "      <th>index</th>\n",
       "      <th>GhoDisplay</th>\n",
       "      <th>PublishStateDisplay</th>\n",
       "      <th>YearDisplay</th>\n",
       "      <th>RegionDisplay</th>\n",
       "      <th>WorldBankIncomeGroupDisplay</th>\n",
       "      <th>CountryDisplay</th>\n",
       "      <th>SexDisplay</th>\n",
       "      <th>Numeric</th>\n",
       "    </tr>\n",
       "  </thead>\n",
       "  <tbody>\n",
       "    <tr>\n",
       "      <th>0</th>\n",
       "      <td>0</td>\n",
       "      <td>Life expectancy at birth (years)</td>\n",
       "      <td>Published</td>\n",
       "      <td>1990</td>\n",
       "      <td>Americas</td>\n",
       "      <td>Lower_middle_income</td>\n",
       "      <td>Nicaragua</td>\n",
       "      <td>Male</td>\n",
       "      <td>68.0</td>\n",
       "    </tr>\n",
       "    <tr>\n",
       "      <th>1</th>\n",
       "      <td>1</td>\n",
       "      <td>Healthy life expectancy (HALE) at birth (years)</td>\n",
       "      <td>Published</td>\n",
       "      <td>2012</td>\n",
       "      <td>Europe</td>\n",
       "      <td>High_income</td>\n",
       "      <td>Ireland</td>\n",
       "      <td>Male</td>\n",
       "      <td>69.3</td>\n",
       "    </tr>\n",
       "    <tr>\n",
       "      <th>2</th>\n",
       "      <td>2</td>\n",
       "      <td>Life expectancy at birth (years)</td>\n",
       "      <td>Published</td>\n",
       "      <td>2000</td>\n",
       "      <td>Eastern Mediterranean</td>\n",
       "      <td>Low_income</td>\n",
       "      <td>Yemen</td>\n",
       "      <td>Both sexes</td>\n",
       "      <td>61.0</td>\n",
       "    </tr>\n",
       "    <tr>\n",
       "      <th>3</th>\n",
       "      <td>3</td>\n",
       "      <td>Life expectancy at birth (years)</td>\n",
       "      <td>Published</td>\n",
       "      <td>2000</td>\n",
       "      <td>Africa</td>\n",
       "      <td>Lower_middle_income</td>\n",
       "      <td>Nigeria</td>\n",
       "      <td>Female</td>\n",
       "      <td>48.0</td>\n",
       "    </tr>\n",
       "    <tr>\n",
       "      <th>4</th>\n",
       "      <td>4</td>\n",
       "      <td>Life expectancy at age 60 (years)</td>\n",
       "      <td>Published</td>\n",
       "      <td>1990</td>\n",
       "      <td>South_East Asia</td>\n",
       "      <td>Lower_middle_income</td>\n",
       "      <td>Thailand</td>\n",
       "      <td>Female</td>\n",
       "      <td>19.0</td>\n",
       "    </tr>\n",
       "  </tbody>\n",
       "</table>\n",
       "</div>"
      ],
      "text/plain": [
       "   index                                       GhoDisplay PublishStateDisplay  \\\n",
       "0      0                 Life expectancy at birth (years)           Published   \n",
       "1      1  Healthy life expectancy (HALE) at birth (years)           Published   \n",
       "2      2                 Life expectancy at birth (years)           Published   \n",
       "3      3                 Life expectancy at birth (years)           Published   \n",
       "4      4                Life expectancy at age 60 (years)           Published   \n",
       "\n",
       "   YearDisplay          RegionDisplay WorldBankIncomeGroupDisplay  \\\n",
       "0         1990               Americas         Lower_middle_income   \n",
       "1         2012                 Europe                 High_income   \n",
       "2         2000  Eastern Mediterranean                  Low_income   \n",
       "3         2000                 Africa         Lower_middle_income   \n",
       "4         1990        South_East Asia         Lower_middle_income   \n",
       "\n",
       "  CountryDisplay  SexDisplay  Numeric  \n",
       "0      Nicaragua        Male     68.0  \n",
       "1        Ireland        Male     69.3  \n",
       "2          Yemen  Both sexes     61.0  \n",
       "3        Nigeria      Female     48.0  \n",
       "4       Thailand      Female     19.0  "
      ]
     },
     "execution_count": 148,
     "metadata": {},
     "output_type": "execute_result"
    }
   ],
   "source": [
    "df_life_new.head()"
   ]
  },
  {
   "cell_type": "markdown",
   "metadata": {
    "id": "sTOh2jQ2ZKgj"
   },
   "source": [
    "### 10"
   ]
  },
  {
   "cell_type": "markdown",
   "metadata": {
    "id": "961UOK2CZKgj"
   },
   "source": [
    "Посчитайте, насколько сильно коррелируют друг с другом потребления разных видов алкоголя (beer_servings,\tspirit_servings и\twine_servings). Создайте датафрейм с попарными корреляциями этих столбцов друг с другом. Какие выводы можно сделать?"
   ]
  },
  {
   "cell_type": "code",
   "execution_count": 152,
   "metadata": {
    "id": "9T42qGrkZKgj"
   },
   "outputs": [
    {
     "data": {
      "text/html": [
       "<div>\n",
       "<style scoped>\n",
       "    .dataframe tbody tr th:only-of-type {\n",
       "        vertical-align: middle;\n",
       "    }\n",
       "\n",
       "    .dataframe tbody tr th {\n",
       "        vertical-align: top;\n",
       "    }\n",
       "\n",
       "    .dataframe thead th {\n",
       "        text-align: right;\n",
       "    }\n",
       "</style>\n",
       "<table border=\"1\" class=\"dataframe\">\n",
       "  <thead>\n",
       "    <tr style=\"text-align: right;\">\n",
       "      <th></th>\n",
       "      <th>beer_servings</th>\n",
       "      <th>spirit_servings</th>\n",
       "      <th>wine_servings</th>\n",
       "    </tr>\n",
       "  </thead>\n",
       "  <tbody>\n",
       "    <tr>\n",
       "      <th>beer_servings</th>\n",
       "      <td>1.000000</td>\n",
       "      <td>0.458819</td>\n",
       "      <td>0.527172</td>\n",
       "    </tr>\n",
       "    <tr>\n",
       "      <th>spirit_servings</th>\n",
       "      <td>0.458819</td>\n",
       "      <td>1.000000</td>\n",
       "      <td>0.194797</td>\n",
       "    </tr>\n",
       "    <tr>\n",
       "      <th>wine_servings</th>\n",
       "      <td>0.527172</td>\n",
       "      <td>0.194797</td>\n",
       "      <td>1.000000</td>\n",
       "    </tr>\n",
       "  </tbody>\n",
       "</table>\n",
       "</div>"
      ],
      "text/plain": [
       "                 beer_servings  spirit_servings  wine_servings\n",
       "beer_servings         1.000000         0.458819       0.527172\n",
       "spirit_servings       0.458819         1.000000       0.194797\n",
       "wine_servings         0.527172         0.194797       1.000000"
      ]
     },
     "execution_count": 152,
     "metadata": {},
     "output_type": "execute_result"
    }
   ],
   "source": [
    "drinks_correlations = df_drinks[['beer_servings', 'spirit_servings', 'wine_servings']].corr()\n",
    "drinks_correlations"
   ]
  },
  {
   "cell_type": "markdown",
   "metadata": {},
   "source": [
    "Мы видим, что пиво лучше всего коррелирует со всеми остальными алкогольными напитками. Люди, склонные употрлеблять вино редко употребляют крепкие алкогольные напитки"
   ]
  },
  {
   "cell_type": "markdown",
   "metadata": {
    "id": "APDi6QkS8yWo"
   },
   "source": [
    "### 11"
   ]
  },
  {
   "cell_type": "markdown",
   "metadata": {
    "id": "ewdm3OQ98yWx"
   },
   "source": [
    "Каким образом следует осуществить соединение двух имеющихся у нас таблиц? Почему? Соедините таблицы!\n",
    "\n",
    "Получилось ли у вас задействовать все строки, и если нет, то почему? Что делать с теми строками, которые не удается задействовать, если таковые есть? Ответ обоснуйте.\n",
    "\n",
    "*Подсказка. В ответе на первый вопрос задания, а также в обосновании способа соединения таблиц вам может помочь задание 3 данного раздела ДЗ и соответствующий семинарский ноутбук!*\n",
    "\n",
    "*Примечание. Не забудьте сохранить все изменения! В последующих заданиях вы должны работать с одним объединенным датасетом.*"
   ]
  },
  {
   "cell_type": "code",
   "execution_count": 156,
   "metadata": {
    "id": "E836k-js8yWx"
   },
   "outputs": [
    {
     "name": "stdout",
     "output_type": "stream",
     "text": [
      "<class 'pandas.core.frame.DataFrame'>\n",
      "Int64Index: 6408 entries, 0 to 6407\n",
      "Data columns (total 15 columns):\n",
      " #   Column                        Non-Null Count  Dtype  \n",
      "---  ------                        --------------  -----  \n",
      " 0   index_x                       6408 non-null   int64  \n",
      " 1   GhoDisplay                    6408 non-null   object \n",
      " 2   PublishStateDisplay           6408 non-null   object \n",
      " 3   YearDisplay                   6408 non-null   int64  \n",
      " 4   RegionDisplay                 6408 non-null   object \n",
      " 5   WorldBankIncomeGroupDisplay   5244 non-null   object \n",
      " 6   CountryDisplay                6408 non-null   object \n",
      " 7   SexDisplay                    6408 non-null   object \n",
      " 8   Numeric                       6408 non-null   float64\n",
      " 9   index_y                       5511 non-null   float64\n",
      " 10  country                       5511 non-null   object \n",
      " 11  beer_servings                 5511 non-null   float64\n",
      " 12  spirit_servings               5511 non-null   float64\n",
      " 13  wine_servings                 5511 non-null   float64\n",
      " 14  total_litres_of_pure_alcohol  5511 non-null   float64\n",
      "dtypes: float64(6), int64(2), object(7)\n",
      "memory usage: 801.0+ KB\n"
     ]
    }
   ],
   "source": [
    "df_together = pd.merge(left=df_life_new, right=df_drinks, how='left', left_on='CountryDisplay', right_on='country')\n",
    "df_together.info()"
   ]
  },
  {
   "cell_type": "markdown",
   "metadata": {},
   "source": [
    "Мы делаем лефт джоин, чтобы из основной таблицы не потерялись никакие данные, но как мы видим некоторые колонки - не полностью заполнены, то есть не по всем странам есть информация. Как мы видели в начале исследования, в одном датасете было 163 страны, а в другом - 164."
   ]
  },
  {
   "cell_type": "markdown",
   "metadata": {
    "id": "mwGBdBzhZKgj"
   },
   "source": [
    "### 12"
   ]
  },
  {
   "cell_type": "markdown",
   "metadata": {
    "id": "AmYX1S_HZKgj"
   },
   "source": [
    "Осуществите группировку данных по странам и типу научной статьи (многомерная группировка). В качестве столбцов значений для группировки возьмите оцененную продолжительность жизни и общее потребление алкоголя в литрах. В качестве агреггирующих функций для продолжительности жизни возьмите среднее, медиану, минимум и максимум, а для потребления алкоголя — агреггирующую функцию/функции выберите самостоятельно. Как вы можете прокомментировать свой выбор и что вы наблюдаете?"
   ]
  },
  {
   "cell_type": "code",
   "execution_count": 160,
   "metadata": {
    "id": "xjWnCLgpZKgj"
   },
   "outputs": [
    {
     "data": {
      "text/html": [
       "<div>\n",
       "<style scoped>\n",
       "    .dataframe tbody tr th:only-of-type {\n",
       "        vertical-align: middle;\n",
       "    }\n",
       "\n",
       "    .dataframe tbody tr th {\n",
       "        vertical-align: top;\n",
       "    }\n",
       "\n",
       "    .dataframe thead tr th {\n",
       "        text-align: left;\n",
       "    }\n",
       "\n",
       "    .dataframe thead tr:last-of-type th {\n",
       "        text-align: right;\n",
       "    }\n",
       "</style>\n",
       "<table border=\"1\" class=\"dataframe\">\n",
       "  <thead>\n",
       "    <tr>\n",
       "      <th></th>\n",
       "      <th></th>\n",
       "      <th colspan=\"4\" halign=\"left\">Numeric</th>\n",
       "      <th>total_litres_of_pure_alcohol</th>\n",
       "    </tr>\n",
       "    <tr>\n",
       "      <th></th>\n",
       "      <th></th>\n",
       "      <th>mean</th>\n",
       "      <th>median</th>\n",
       "      <th>min</th>\n",
       "      <th>max</th>\n",
       "      <th>mean</th>\n",
       "    </tr>\n",
       "    <tr>\n",
       "      <th>CountryDisplay</th>\n",
       "      <th>GhoDisplay</th>\n",
       "      <th></th>\n",
       "      <th></th>\n",
       "      <th></th>\n",
       "      <th></th>\n",
       "      <th></th>\n",
       "    </tr>\n",
       "  </thead>\n",
       "  <tbody>\n",
       "    <tr>\n",
       "      <th rowspan=\"3\" valign=\"top\">Afghanistan</th>\n",
       "      <th>Healthy life expectancy (HALE) at birth (years)</th>\n",
       "      <td>47.833333</td>\n",
       "      <td>48.800000</td>\n",
       "      <td>44.6</td>\n",
       "      <td>50.50000</td>\n",
       "      <td>0.0</td>\n",
       "    </tr>\n",
       "    <tr>\n",
       "      <th>Life expectancy at age 60 (years)</th>\n",
       "      <td>15.223012</td>\n",
       "      <td>15.061535</td>\n",
       "      <td>13.0</td>\n",
       "      <td>17.00000</td>\n",
       "      <td>0.0</td>\n",
       "    </tr>\n",
       "    <tr>\n",
       "      <th>Life expectancy at birth (years)</th>\n",
       "      <td>56.311805</td>\n",
       "      <td>57.000000</td>\n",
       "      <td>49.0</td>\n",
       "      <td>61.97733</td>\n",
       "      <td>0.0</td>\n",
       "    </tr>\n",
       "    <tr>\n",
       "      <th rowspan=\"3\" valign=\"top\">Albania</th>\n",
       "      <th>Healthy life expectancy (HALE) at birth (years)</th>\n",
       "      <td>63.800000</td>\n",
       "      <td>63.900000</td>\n",
       "      <td>59.9</td>\n",
       "      <td>66.00000</td>\n",
       "      <td>4.9</td>\n",
       "    </tr>\n",
       "    <tr>\n",
       "      <th>Life expectancy at age 60 (years)</th>\n",
       "      <td>17.728610</td>\n",
       "      <td>18.000000</td>\n",
       "      <td>15.0</td>\n",
       "      <td>20.00000</td>\n",
       "      <td>4.9</td>\n",
       "    </tr>\n",
       "    <tr>\n",
       "      <th>Life expectancy at birth (years)</th>\n",
       "      <td>71.871584</td>\n",
       "      <td>72.910505</td>\n",
       "      <td>67.0</td>\n",
       "      <td>75.50800</td>\n",
       "      <td>4.9</td>\n",
       "    </tr>\n",
       "    <tr>\n",
       "      <th rowspan=\"3\" valign=\"top\">Algeria</th>\n",
       "      <th>Healthy life expectancy (HALE) at birth (years)</th>\n",
       "      <td>61.622222</td>\n",
       "      <td>61.700000</td>\n",
       "      <td>59.4</td>\n",
       "      <td>63.20000</td>\n",
       "      <td>0.7</td>\n",
       "    </tr>\n",
       "    <tr>\n",
       "      <th>Life expectancy at age 60 (years)</th>\n",
       "      <td>17.635895</td>\n",
       "      <td>17.933450</td>\n",
       "      <td>16.0</td>\n",
       "      <td>19.00000</td>\n",
       "      <td>0.7</td>\n",
       "    </tr>\n",
       "    <tr>\n",
       "      <th>Life expectancy at birth (years)</th>\n",
       "      <td>70.216262</td>\n",
       "      <td>70.125475</td>\n",
       "      <td>66.0</td>\n",
       "      <td>73.51464</td>\n",
       "      <td>0.7</td>\n",
       "    </tr>\n",
       "    <tr>\n",
       "      <th rowspan=\"3\" valign=\"top\">Andorra</th>\n",
       "      <th>Healthy life expectancy (HALE) at birth (years)</th>\n",
       "      <td>70.966667</td>\n",
       "      <td>71.700000</td>\n",
       "      <td>66.9</td>\n",
       "      <td>74.00000</td>\n",
       "      <td>12.4</td>\n",
       "    </tr>\n",
       "    <tr>\n",
       "      <th>Life expectancy at age 60 (years)</th>\n",
       "      <td>23.884953</td>\n",
       "      <td>23.500000</td>\n",
       "      <td>19.0</td>\n",
       "      <td>28.00000</td>\n",
       "      <td>12.4</td>\n",
       "    </tr>\n",
       "    <tr>\n",
       "      <th>Life expectancy at birth (years)</th>\n",
       "      <td>80.576820</td>\n",
       "      <td>80.500000</td>\n",
       "      <td>74.0</td>\n",
       "      <td>86.00000</td>\n",
       "      <td>12.4</td>\n",
       "    </tr>\n",
       "    <tr>\n",
       "      <th rowspan=\"3\" valign=\"top\">Angola</th>\n",
       "      <th>Healthy life expectancy (HALE) at birth (years)</th>\n",
       "      <td>42.444444</td>\n",
       "      <td>43.300000</td>\n",
       "      <td>37.9</td>\n",
       "      <td>45.60000</td>\n",
       "      <td>5.9</td>\n",
       "    </tr>\n",
       "    <tr>\n",
       "      <th>Life expectancy at age 60 (years)</th>\n",
       "      <td>14.931843</td>\n",
       "      <td>15.000000</td>\n",
       "      <td>13.0</td>\n",
       "      <td>16.28222</td>\n",
       "      <td>5.9</td>\n",
       "    </tr>\n",
       "    <tr>\n",
       "      <th>Life expectancy at birth (years)</th>\n",
       "      <td>47.852151</td>\n",
       "      <td>48.500000</td>\n",
       "      <td>41.0</td>\n",
       "      <td>53.19343</td>\n",
       "      <td>5.9</td>\n",
       "    </tr>\n",
       "    <tr>\n",
       "      <th rowspan=\"3\" valign=\"top\">Antigua and Barbuda</th>\n",
       "      <th>Healthy life expectancy (HALE) at birth (years)</th>\n",
       "      <td>64.066667</td>\n",
       "      <td>64.100000</td>\n",
       "      <td>62.5</td>\n",
       "      <td>65.80000</td>\n",
       "      <td>NaN</td>\n",
       "    </tr>\n",
       "    <tr>\n",
       "      <th>Life expectancy at age 60 (years)</th>\n",
       "      <td>20.382623</td>\n",
       "      <td>20.500000</td>\n",
       "      <td>17.0</td>\n",
       "      <td>23.32367</td>\n",
       "      <td>NaN</td>\n",
       "    </tr>\n",
       "    <tr>\n",
       "      <th>Life expectancy at birth (years)</th>\n",
       "      <td>73.595177</td>\n",
       "      <td>73.218795</td>\n",
       "      <td>70.0</td>\n",
       "      <td>77.32654</td>\n",
       "      <td>NaN</td>\n",
       "    </tr>\n",
       "    <tr>\n",
       "      <th rowspan=\"3\" valign=\"top\">Argentina</th>\n",
       "      <th>Healthy life expectancy (HALE) at birth (years)</th>\n",
       "      <td>66.077778</td>\n",
       "      <td>66.500000</td>\n",
       "      <td>62.2</td>\n",
       "      <td>69.20000</td>\n",
       "      <td>8.3</td>\n",
       "    </tr>\n",
       "    <tr>\n",
       "      <th>Life expectancy at age 60 (years)</th>\n",
       "      <td>20.768218</td>\n",
       "      <td>21.000000</td>\n",
       "      <td>17.0</td>\n",
       "      <td>24.00000</td>\n",
       "      <td>8.3</td>\n",
       "    </tr>\n",
       "    <tr>\n",
       "      <th>Life expectancy at birth (years)</th>\n",
       "      <td>74.903068</td>\n",
       "      <td>75.500000</td>\n",
       "      <td>69.0</td>\n",
       "      <td>79.61579</td>\n",
       "      <td>8.3</td>\n",
       "    </tr>\n",
       "    <tr>\n",
       "      <th rowspan=\"3\" valign=\"top\">Armenia</th>\n",
       "      <th>Healthy life expectancy (HALE) at birth (years)</th>\n",
       "      <td>62.355556</td>\n",
       "      <td>62.300000</td>\n",
       "      <td>59.4</td>\n",
       "      <td>65.80000</td>\n",
       "      <td>3.8</td>\n",
       "    </tr>\n",
       "    <tr>\n",
       "      <th>Life expectancy at age 60 (years)</th>\n",
       "      <td>16.897574</td>\n",
       "      <td>16.953515</td>\n",
       "      <td>14.0</td>\n",
       "      <td>19.22925</td>\n",
       "      <td>3.8</td>\n",
       "    </tr>\n",
       "    <tr>\n",
       "      <th>Life expectancy at birth (years)</th>\n",
       "      <td>70.046697</td>\n",
       "      <td>71.000000</td>\n",
       "      <td>63.0</td>\n",
       "      <td>75.20872</td>\n",
       "      <td>3.8</td>\n",
       "    </tr>\n",
       "    <tr>\n",
       "      <th rowspan=\"3\" valign=\"top\">Australia</th>\n",
       "      <th>Healthy life expectancy (HALE) at birth (years)</th>\n",
       "      <td>71.733333</td>\n",
       "      <td>72.100000</td>\n",
       "      <td>68.1</td>\n",
       "      <td>74.10000</td>\n",
       "      <td>10.4</td>\n",
       "    </tr>\n",
       "    <tr>\n",
       "      <th>Life expectancy at age 60 (years)</th>\n",
       "      <td>23.672306</td>\n",
       "      <td>23.870500</td>\n",
       "      <td>19.0</td>\n",
       "      <td>27.00000</td>\n",
       "      <td>10.4</td>\n",
       "    </tr>\n",
       "    <tr>\n",
       "      <th>Life expectancy at birth (years)</th>\n",
       "      <td>80.647330</td>\n",
       "      <td>80.685080</td>\n",
       "      <td>74.0</td>\n",
       "      <td>85.00000</td>\n",
       "      <td>10.4</td>\n",
       "    </tr>\n",
       "    <tr>\n",
       "      <th rowspan=\"3\" valign=\"top\">Austria</th>\n",
       "      <th>Healthy life expectancy (HALE) at birth (years)</th>\n",
       "      <td>69.855556</td>\n",
       "      <td>70.400000</td>\n",
       "      <td>66.2</td>\n",
       "      <td>72.70000</td>\n",
       "      <td>9.7</td>\n",
       "    </tr>\n",
       "    <tr>\n",
       "      <th>Life expectancy at age 60 (years)</th>\n",
       "      <td>22.507437</td>\n",
       "      <td>22.000000</td>\n",
       "      <td>18.0</td>\n",
       "      <td>25.99659</td>\n",
       "      <td>9.7</td>\n",
       "    </tr>\n",
       "    <tr>\n",
       "      <th>Life expectancy at birth (years)</th>\n",
       "      <td>78.901652</td>\n",
       "      <td>78.783930</td>\n",
       "      <td>72.0</td>\n",
       "      <td>83.93590</td>\n",
       "      <td>9.7</td>\n",
       "    </tr>\n",
       "  </tbody>\n",
       "</table>\n",
       "</div>"
      ],
      "text/plain": [
       "                                                                       Numeric  \\\n",
       "                                                                          mean   \n",
       "CountryDisplay      GhoDisplay                                                   \n",
       "Afghanistan         Healthy life expectancy (HALE) at birth (years)  47.833333   \n",
       "                    Life expectancy at age 60 (years)                15.223012   \n",
       "                    Life expectancy at birth (years)                 56.311805   \n",
       "Albania             Healthy life expectancy (HALE) at birth (years)  63.800000   \n",
       "                    Life expectancy at age 60 (years)                17.728610   \n",
       "                    Life expectancy at birth (years)                 71.871584   \n",
       "Algeria             Healthy life expectancy (HALE) at birth (years)  61.622222   \n",
       "                    Life expectancy at age 60 (years)                17.635895   \n",
       "                    Life expectancy at birth (years)                 70.216262   \n",
       "Andorra             Healthy life expectancy (HALE) at birth (years)  70.966667   \n",
       "                    Life expectancy at age 60 (years)                23.884953   \n",
       "                    Life expectancy at birth (years)                 80.576820   \n",
       "Angola              Healthy life expectancy (HALE) at birth (years)  42.444444   \n",
       "                    Life expectancy at age 60 (years)                14.931843   \n",
       "                    Life expectancy at birth (years)                 47.852151   \n",
       "Antigua and Barbuda Healthy life expectancy (HALE) at birth (years)  64.066667   \n",
       "                    Life expectancy at age 60 (years)                20.382623   \n",
       "                    Life expectancy at birth (years)                 73.595177   \n",
       "Argentina           Healthy life expectancy (HALE) at birth (years)  66.077778   \n",
       "                    Life expectancy at age 60 (years)                20.768218   \n",
       "                    Life expectancy at birth (years)                 74.903068   \n",
       "Armenia             Healthy life expectancy (HALE) at birth (years)  62.355556   \n",
       "                    Life expectancy at age 60 (years)                16.897574   \n",
       "                    Life expectancy at birth (years)                 70.046697   \n",
       "Australia           Healthy life expectancy (HALE) at birth (years)  71.733333   \n",
       "                    Life expectancy at age 60 (years)                23.672306   \n",
       "                    Life expectancy at birth (years)                 80.647330   \n",
       "Austria             Healthy life expectancy (HALE) at birth (years)  69.855556   \n",
       "                    Life expectancy at age 60 (years)                22.507437   \n",
       "                    Life expectancy at birth (years)                 78.901652   \n",
       "\n",
       "                                                                                \\\n",
       "                                                                        median   \n",
       "CountryDisplay      GhoDisplay                                                   \n",
       "Afghanistan         Healthy life expectancy (HALE) at birth (years)  48.800000   \n",
       "                    Life expectancy at age 60 (years)                15.061535   \n",
       "                    Life expectancy at birth (years)                 57.000000   \n",
       "Albania             Healthy life expectancy (HALE) at birth (years)  63.900000   \n",
       "                    Life expectancy at age 60 (years)                18.000000   \n",
       "                    Life expectancy at birth (years)                 72.910505   \n",
       "Algeria             Healthy life expectancy (HALE) at birth (years)  61.700000   \n",
       "                    Life expectancy at age 60 (years)                17.933450   \n",
       "                    Life expectancy at birth (years)                 70.125475   \n",
       "Andorra             Healthy life expectancy (HALE) at birth (years)  71.700000   \n",
       "                    Life expectancy at age 60 (years)                23.500000   \n",
       "                    Life expectancy at birth (years)                 80.500000   \n",
       "Angola              Healthy life expectancy (HALE) at birth (years)  43.300000   \n",
       "                    Life expectancy at age 60 (years)                15.000000   \n",
       "                    Life expectancy at birth (years)                 48.500000   \n",
       "Antigua and Barbuda Healthy life expectancy (HALE) at birth (years)  64.100000   \n",
       "                    Life expectancy at age 60 (years)                20.500000   \n",
       "                    Life expectancy at birth (years)                 73.218795   \n",
       "Argentina           Healthy life expectancy (HALE) at birth (years)  66.500000   \n",
       "                    Life expectancy at age 60 (years)                21.000000   \n",
       "                    Life expectancy at birth (years)                 75.500000   \n",
       "Armenia             Healthy life expectancy (HALE) at birth (years)  62.300000   \n",
       "                    Life expectancy at age 60 (years)                16.953515   \n",
       "                    Life expectancy at birth (years)                 71.000000   \n",
       "Australia           Healthy life expectancy (HALE) at birth (years)  72.100000   \n",
       "                    Life expectancy at age 60 (years)                23.870500   \n",
       "                    Life expectancy at birth (years)                 80.685080   \n",
       "Austria             Healthy life expectancy (HALE) at birth (years)  70.400000   \n",
       "                    Life expectancy at age 60 (years)                22.000000   \n",
       "                    Life expectancy at birth (years)                 78.783930   \n",
       "\n",
       "                                                                           \\\n",
       "                                                                      min   \n",
       "CountryDisplay      GhoDisplay                                              \n",
       "Afghanistan         Healthy life expectancy (HALE) at birth (years)  44.6   \n",
       "                    Life expectancy at age 60 (years)                13.0   \n",
       "                    Life expectancy at birth (years)                 49.0   \n",
       "Albania             Healthy life expectancy (HALE) at birth (years)  59.9   \n",
       "                    Life expectancy at age 60 (years)                15.0   \n",
       "                    Life expectancy at birth (years)                 67.0   \n",
       "Algeria             Healthy life expectancy (HALE) at birth (years)  59.4   \n",
       "                    Life expectancy at age 60 (years)                16.0   \n",
       "                    Life expectancy at birth (years)                 66.0   \n",
       "Andorra             Healthy life expectancy (HALE) at birth (years)  66.9   \n",
       "                    Life expectancy at age 60 (years)                19.0   \n",
       "                    Life expectancy at birth (years)                 74.0   \n",
       "Angola              Healthy life expectancy (HALE) at birth (years)  37.9   \n",
       "                    Life expectancy at age 60 (years)                13.0   \n",
       "                    Life expectancy at birth (years)                 41.0   \n",
       "Antigua and Barbuda Healthy life expectancy (HALE) at birth (years)  62.5   \n",
       "                    Life expectancy at age 60 (years)                17.0   \n",
       "                    Life expectancy at birth (years)                 70.0   \n",
       "Argentina           Healthy life expectancy (HALE) at birth (years)  62.2   \n",
       "                    Life expectancy at age 60 (years)                17.0   \n",
       "                    Life expectancy at birth (years)                 69.0   \n",
       "Armenia             Healthy life expectancy (HALE) at birth (years)  59.4   \n",
       "                    Life expectancy at age 60 (years)                14.0   \n",
       "                    Life expectancy at birth (years)                 63.0   \n",
       "Australia           Healthy life expectancy (HALE) at birth (years)  68.1   \n",
       "                    Life expectancy at age 60 (years)                19.0   \n",
       "                    Life expectancy at birth (years)                 74.0   \n",
       "Austria             Healthy life expectancy (HALE) at birth (years)  66.2   \n",
       "                    Life expectancy at age 60 (years)                18.0   \n",
       "                    Life expectancy at birth (years)                 72.0   \n",
       "\n",
       "                                                                               \\\n",
       "                                                                          max   \n",
       "CountryDisplay      GhoDisplay                                                  \n",
       "Afghanistan         Healthy life expectancy (HALE) at birth (years)  50.50000   \n",
       "                    Life expectancy at age 60 (years)                17.00000   \n",
       "                    Life expectancy at birth (years)                 61.97733   \n",
       "Albania             Healthy life expectancy (HALE) at birth (years)  66.00000   \n",
       "                    Life expectancy at age 60 (years)                20.00000   \n",
       "                    Life expectancy at birth (years)                 75.50800   \n",
       "Algeria             Healthy life expectancy (HALE) at birth (years)  63.20000   \n",
       "                    Life expectancy at age 60 (years)                19.00000   \n",
       "                    Life expectancy at birth (years)                 73.51464   \n",
       "Andorra             Healthy life expectancy (HALE) at birth (years)  74.00000   \n",
       "                    Life expectancy at age 60 (years)                28.00000   \n",
       "                    Life expectancy at birth (years)                 86.00000   \n",
       "Angola              Healthy life expectancy (HALE) at birth (years)  45.60000   \n",
       "                    Life expectancy at age 60 (years)                16.28222   \n",
       "                    Life expectancy at birth (years)                 53.19343   \n",
       "Antigua and Barbuda Healthy life expectancy (HALE) at birth (years)  65.80000   \n",
       "                    Life expectancy at age 60 (years)                23.32367   \n",
       "                    Life expectancy at birth (years)                 77.32654   \n",
       "Argentina           Healthy life expectancy (HALE) at birth (years)  69.20000   \n",
       "                    Life expectancy at age 60 (years)                24.00000   \n",
       "                    Life expectancy at birth (years)                 79.61579   \n",
       "Armenia             Healthy life expectancy (HALE) at birth (years)  65.80000   \n",
       "                    Life expectancy at age 60 (years)                19.22925   \n",
       "                    Life expectancy at birth (years)                 75.20872   \n",
       "Australia           Healthy life expectancy (HALE) at birth (years)  74.10000   \n",
       "                    Life expectancy at age 60 (years)                27.00000   \n",
       "                    Life expectancy at birth (years)                 85.00000   \n",
       "Austria             Healthy life expectancy (HALE) at birth (years)  72.70000   \n",
       "                    Life expectancy at age 60 (years)                25.99659   \n",
       "                    Life expectancy at birth (years)                 83.93590   \n",
       "\n",
       "                                                                    total_litres_of_pure_alcohol  \n",
       "                                                                                            mean  \n",
       "CountryDisplay      GhoDisplay                                                                    \n",
       "Afghanistan         Healthy life expectancy (HALE) at birth (years)                          0.0  \n",
       "                    Life expectancy at age 60 (years)                                        0.0  \n",
       "                    Life expectancy at birth (years)                                         0.0  \n",
       "Albania             Healthy life expectancy (HALE) at birth (years)                          4.9  \n",
       "                    Life expectancy at age 60 (years)                                        4.9  \n",
       "                    Life expectancy at birth (years)                                         4.9  \n",
       "Algeria             Healthy life expectancy (HALE) at birth (years)                          0.7  \n",
       "                    Life expectancy at age 60 (years)                                        0.7  \n",
       "                    Life expectancy at birth (years)                                         0.7  \n",
       "Andorra             Healthy life expectancy (HALE) at birth (years)                         12.4  \n",
       "                    Life expectancy at age 60 (years)                                       12.4  \n",
       "                    Life expectancy at birth (years)                                        12.4  \n",
       "Angola              Healthy life expectancy (HALE) at birth (years)                          5.9  \n",
       "                    Life expectancy at age 60 (years)                                        5.9  \n",
       "                    Life expectancy at birth (years)                                         5.9  \n",
       "Antigua and Barbuda Healthy life expectancy (HALE) at birth (years)                          NaN  \n",
       "                    Life expectancy at age 60 (years)                                        NaN  \n",
       "                    Life expectancy at birth (years)                                         NaN  \n",
       "Argentina           Healthy life expectancy (HALE) at birth (years)                          8.3  \n",
       "                    Life expectancy at age 60 (years)                                        8.3  \n",
       "                    Life expectancy at birth (years)                                         8.3  \n",
       "Armenia             Healthy life expectancy (HALE) at birth (years)                          3.8  \n",
       "                    Life expectancy at age 60 (years)                                        3.8  \n",
       "                    Life expectancy at birth (years)                                         3.8  \n",
       "Australia           Healthy life expectancy (HALE) at birth (years)                         10.4  \n",
       "                    Life expectancy at age 60 (years)                                       10.4  \n",
       "                    Life expectancy at birth (years)                                        10.4  \n",
       "Austria             Healthy life expectancy (HALE) at birth (years)                          9.7  \n",
       "                    Life expectancy at age 60 (years)                                        9.7  \n",
       "                    Life expectancy at birth (years)                                         9.7  "
      ]
     },
     "execution_count": 160,
     "metadata": {},
     "output_type": "execute_result"
    }
   ],
   "source": [
    "info_group = df_together.groupby(['CountryDisplay', 'GhoDisplay']).agg({\n",
    "    'Numeric': ['mean', 'median', 'min', 'max'],  \n",
    "    'total_litres_of_pure_alcohol': ['mean']  \n",
    "})\n",
    "info_group.head(30)"
   ]
  },
  {
   "cell_type": "markdown",
   "metadata": {},
   "source": [
    "В данном исследовании мы вообще не можем брать никакую агрегирующую функцию для общего кол-ва выпитого алкоголя, потому что у нас и так данные сгруппированы по странам изначально в датасете df_drinks и они уникальны по каждой стране, но пусть эта функция будет mean. Как мы видим, что не наблюдается никакой прямой зависимости от количества выпитого алкоголя и медианной продолжительности жизни."
   ]
  },
  {
   "cell_type": "markdown",
   "metadata": {},
   "source": [
    "Как раз одной страны, которой нет - это Antigua and Barbuda, вот она и нашлась :)))"
   ]
  },
  {
   "cell_type": "markdown",
   "metadata": {
    "id": "WDURfWMQZxno"
   },
   "source": [
    "### 13"
   ]
  },
  {
   "cell_type": "markdown",
   "metadata": {
    "id": "yXkPGyZDZxnv"
   },
   "source": [
    "Вставьте любые два столбца из предыдущего задания, которые вы получили путем группировки, в исходную таблицу в качестве двух новых столбцов (назвать вы их можете как хотите). Разумеется, значения этих столбцов должны соответствовать значениям исходной таблицы по указанным в прошлом задании категориям.\n",
    "\n",
    "*Примечание. Не забудьте сохранить все изменения! В последующих заданиях вы должны работать с обновленным датасетом.*"
   ]
  },
  {
   "cell_type": "code",
   "execution_count": 162,
   "metadata": {
    "id": "c5Lw4DLiZxnw"
   },
   "outputs": [
    {
     "name": "stderr",
     "output_type": "stream",
     "text": [
      "C:\\Users\\barzd\\AppData\\Local\\Temp\\ipykernel_1136\\3109475016.py:1: FutureWarning: merging between different levels is deprecated and will be removed in a future version. (1 levels on the left, 2 on the right)\n",
      "  df_final = pd.merge(df_together, info_group, on=['CountryDisplay', 'GhoDisplay'], how='left')\n"
     ]
    },
    {
     "data": {
      "text/html": [
       "<div>\n",
       "<style scoped>\n",
       "    .dataframe tbody tr th:only-of-type {\n",
       "        vertical-align: middle;\n",
       "    }\n",
       "\n",
       "    .dataframe tbody tr th {\n",
       "        vertical-align: top;\n",
       "    }\n",
       "\n",
       "    .dataframe thead th {\n",
       "        text-align: right;\n",
       "    }\n",
       "</style>\n",
       "<table border=\"1\" class=\"dataframe\">\n",
       "  <thead>\n",
       "    <tr style=\"text-align: right;\">\n",
       "      <th></th>\n",
       "      <th>index_x</th>\n",
       "      <th>GhoDisplay</th>\n",
       "      <th>PublishStateDisplay</th>\n",
       "      <th>YearDisplay</th>\n",
       "      <th>RegionDisplay</th>\n",
       "      <th>WorldBankIncomeGroupDisplay</th>\n",
       "      <th>CountryDisplay</th>\n",
       "      <th>SexDisplay</th>\n",
       "      <th>Numeric</th>\n",
       "      <th>index_y</th>\n",
       "      <th>country</th>\n",
       "      <th>beer_servings</th>\n",
       "      <th>spirit_servings</th>\n",
       "      <th>wine_servings</th>\n",
       "      <th>total_litres_of_pure_alcohol</th>\n",
       "      <th>(Numeric, mean)</th>\n",
       "      <th>(Numeric, median)</th>\n",
       "      <th>(Numeric, min)</th>\n",
       "      <th>(Numeric, max)</th>\n",
       "      <th>(total_litres_of_pure_alcohol, mean)</th>\n",
       "    </tr>\n",
       "  </thead>\n",
       "  <tbody>\n",
       "    <tr>\n",
       "      <th>0</th>\n",
       "      <td>0</td>\n",
       "      <td>Life expectancy at birth (years)</td>\n",
       "      <td>Published</td>\n",
       "      <td>1990</td>\n",
       "      <td>Americas</td>\n",
       "      <td>Lower_middle_income</td>\n",
       "      <td>Nicaragua</td>\n",
       "      <td>Male</td>\n",
       "      <td>68.0</td>\n",
       "      <td>122.0</td>\n",
       "      <td>Nicaragua</td>\n",
       "      <td>78.0</td>\n",
       "      <td>118.0</td>\n",
       "      <td>1.0</td>\n",
       "      <td>3.5</td>\n",
       "      <td>72.667402</td>\n",
       "      <td>73.0</td>\n",
       "      <td>68.0</td>\n",
       "      <td>76.62982</td>\n",
       "      <td>3.5</td>\n",
       "    </tr>\n",
       "    <tr>\n",
       "      <th>1</th>\n",
       "      <td>1</td>\n",
       "      <td>Healthy life expectancy (HALE) at birth (years)</td>\n",
       "      <td>Published</td>\n",
       "      <td>2012</td>\n",
       "      <td>Europe</td>\n",
       "      <td>High_income</td>\n",
       "      <td>Ireland</td>\n",
       "      <td>Male</td>\n",
       "      <td>69.3</td>\n",
       "      <td>81.0</td>\n",
       "      <td>Ireland</td>\n",
       "      <td>313.0</td>\n",
       "      <td>118.0</td>\n",
       "      <td>165.0</td>\n",
       "      <td>11.4</td>\n",
       "      <td>69.911111</td>\n",
       "      <td>69.8</td>\n",
       "      <td>65.7</td>\n",
       "      <td>72.60000</td>\n",
       "      <td>11.4</td>\n",
       "    </tr>\n",
       "    <tr>\n",
       "      <th>2</th>\n",
       "      <td>2</td>\n",
       "      <td>Life expectancy at birth (years)</td>\n",
       "      <td>Published</td>\n",
       "      <td>2000</td>\n",
       "      <td>Eastern Mediterranean</td>\n",
       "      <td>Low_income</td>\n",
       "      <td>Yemen</td>\n",
       "      <td>Both sexes</td>\n",
       "      <td>61.0</td>\n",
       "      <td>190.0</td>\n",
       "      <td>Yemen</td>\n",
       "      <td>6.0</td>\n",
       "      <td>0.0</td>\n",
       "      <td>0.0</td>\n",
       "      <td>0.1</td>\n",
       "      <td>61.567050</td>\n",
       "      <td>62.0</td>\n",
       "      <td>56.0</td>\n",
       "      <td>65.70657</td>\n",
       "      <td>0.1</td>\n",
       "    </tr>\n",
       "    <tr>\n",
       "      <th>3</th>\n",
       "      <td>3</td>\n",
       "      <td>Life expectancy at birth (years)</td>\n",
       "      <td>Published</td>\n",
       "      <td>2000</td>\n",
       "      <td>Africa</td>\n",
       "      <td>Lower_middle_income</td>\n",
       "      <td>Nigeria</td>\n",
       "      <td>Female</td>\n",
       "      <td>48.0</td>\n",
       "      <td>124.0</td>\n",
       "      <td>Nigeria</td>\n",
       "      <td>42.0</td>\n",
       "      <td>5.0</td>\n",
       "      <td>2.0</td>\n",
       "      <td>9.1</td>\n",
       "      <td>50.473338</td>\n",
       "      <td>50.5</td>\n",
       "      <td>45.0</td>\n",
       "      <td>55.40039</td>\n",
       "      <td>9.1</td>\n",
       "    </tr>\n",
       "    <tr>\n",
       "      <th>4</th>\n",
       "      <td>4</td>\n",
       "      <td>Life expectancy at age 60 (years)</td>\n",
       "      <td>Published</td>\n",
       "      <td>1990</td>\n",
       "      <td>South_East Asia</td>\n",
       "      <td>Lower_middle_income</td>\n",
       "      <td>Thailand</td>\n",
       "      <td>Female</td>\n",
       "      <td>19.0</td>\n",
       "      <td>169.0</td>\n",
       "      <td>Thailand</td>\n",
       "      <td>99.0</td>\n",
       "      <td>258.0</td>\n",
       "      <td>1.0</td>\n",
       "      <td>6.4</td>\n",
       "      <td>19.895824</td>\n",
       "      <td>19.5</td>\n",
       "      <td>16.0</td>\n",
       "      <td>23.14883</td>\n",
       "      <td>6.4</td>\n",
       "    </tr>\n",
       "  </tbody>\n",
       "</table>\n",
       "</div>"
      ],
      "text/plain": [
       "   index_x                                       GhoDisplay  \\\n",
       "0        0                 Life expectancy at birth (years)   \n",
       "1        1  Healthy life expectancy (HALE) at birth (years)   \n",
       "2        2                 Life expectancy at birth (years)   \n",
       "3        3                 Life expectancy at birth (years)   \n",
       "4        4                Life expectancy at age 60 (years)   \n",
       "\n",
       "  PublishStateDisplay  YearDisplay          RegionDisplay  \\\n",
       "0           Published         1990               Americas   \n",
       "1           Published         2012                 Europe   \n",
       "2           Published         2000  Eastern Mediterranean   \n",
       "3           Published         2000                 Africa   \n",
       "4           Published         1990        South_East Asia   \n",
       "\n",
       "  WorldBankIncomeGroupDisplay CountryDisplay  SexDisplay  Numeric  index_y  \\\n",
       "0         Lower_middle_income      Nicaragua        Male     68.0    122.0   \n",
       "1                 High_income        Ireland        Male     69.3     81.0   \n",
       "2                  Low_income          Yemen  Both sexes     61.0    190.0   \n",
       "3         Lower_middle_income        Nigeria      Female     48.0    124.0   \n",
       "4         Lower_middle_income       Thailand      Female     19.0    169.0   \n",
       "\n",
       "     country  beer_servings  spirit_servings  wine_servings  \\\n",
       "0  Nicaragua           78.0            118.0            1.0   \n",
       "1    Ireland          313.0            118.0          165.0   \n",
       "2      Yemen            6.0              0.0            0.0   \n",
       "3    Nigeria           42.0              5.0            2.0   \n",
       "4   Thailand           99.0            258.0            1.0   \n",
       "\n",
       "   total_litres_of_pure_alcohol  (Numeric, mean)  (Numeric, median)  \\\n",
       "0                           3.5        72.667402               73.0   \n",
       "1                          11.4        69.911111               69.8   \n",
       "2                           0.1        61.567050               62.0   \n",
       "3                           9.1        50.473338               50.5   \n",
       "4                           6.4        19.895824               19.5   \n",
       "\n",
       "   (Numeric, min)  (Numeric, max)  (total_litres_of_pure_alcohol, mean)  \n",
       "0            68.0        76.62982                                   3.5  \n",
       "1            65.7        72.60000                                  11.4  \n",
       "2            56.0        65.70657                                   0.1  \n",
       "3            45.0        55.40039                                   9.1  \n",
       "4            16.0        23.14883                                   6.4  "
      ]
     },
     "execution_count": 162,
     "metadata": {},
     "output_type": "execute_result"
    }
   ],
   "source": [
    "df_final = pd.merge(df_together, info_group, on=['CountryDisplay', 'GhoDisplay'], how='left')\n",
    "df_final.head()"
   ]
  },
  {
   "cell_type": "code",
   "execution_count": 168,
   "metadata": {},
   "outputs": [
    {
     "name": "stdout",
     "output_type": "stream",
     "text": [
      "<class 'pandas.core.frame.DataFrame'>\n",
      "Int64Index: 6408 entries, 0 to 6407\n",
      "Data columns (total 20 columns):\n",
      " #   Column                                Non-Null Count  Dtype  \n",
      "---  ------                                --------------  -----  \n",
      " 0   index_x                               6408 non-null   int64  \n",
      " 1   GhoDisplay                            6408 non-null   object \n",
      " 2   PublishStateDisplay                   6408 non-null   object \n",
      " 3   YearDisplay                           6408 non-null   int64  \n",
      " 4   RegionDisplay                         6408 non-null   object \n",
      " 5   WorldBankIncomeGroupDisplay           5244 non-null   object \n",
      " 6   CountryDisplay                        6408 non-null   object \n",
      " 7   SexDisplay                            6408 non-null   object \n",
      " 8   Numeric                               6408 non-null   float64\n",
      " 9   index_y                               5511 non-null   float64\n",
      " 10  country                               5511 non-null   object \n",
      " 11  beer_servings                         5511 non-null   float64\n",
      " 12  spirit_servings                       5511 non-null   float64\n",
      " 13  wine_servings                         5511 non-null   float64\n",
      " 14  total_litres_of_pure_alcohol          5511 non-null   float64\n",
      " 15  (Numeric, mean)                       6408 non-null   float64\n",
      " 16  (Numeric, median)                     6408 non-null   float64\n",
      " 17  (Numeric, min)                        6408 non-null   float64\n",
      " 18  (Numeric, max)                        6408 non-null   float64\n",
      " 19  (total_litres_of_pure_alcohol, mean)  5511 non-null   float64\n",
      "dtypes: float64(11), int64(2), object(7)\n",
      "memory usage: 1.3+ MB\n"
     ]
    }
   ],
   "source": [
    "df_final.info()"
   ]
  },
  {
   "cell_type": "code",
   "execution_count": 172,
   "metadata": {},
   "outputs": [],
   "source": [
    "df_final.drop([('Numeric', 'max')], axis=1, inplace=True)\n"
   ]
  },
  {
   "cell_type": "code",
   "execution_count": 173,
   "metadata": {},
   "outputs": [],
   "source": [
    "df_final.drop([('Numeric', 'min')], axis=1, inplace=True)\n",
    "df_final.drop([('Numeric', 'mean')], axis=1, inplace=True)"
   ]
  },
  {
   "cell_type": "code",
   "execution_count": 174,
   "metadata": {},
   "outputs": [
    {
     "data": {
      "text/html": [
       "<div>\n",
       "<style scoped>\n",
       "    .dataframe tbody tr th:only-of-type {\n",
       "        vertical-align: middle;\n",
       "    }\n",
       "\n",
       "    .dataframe tbody tr th {\n",
       "        vertical-align: top;\n",
       "    }\n",
       "\n",
       "    .dataframe thead th {\n",
       "        text-align: right;\n",
       "    }\n",
       "</style>\n",
       "<table border=\"1\" class=\"dataframe\">\n",
       "  <thead>\n",
       "    <tr style=\"text-align: right;\">\n",
       "      <th></th>\n",
       "      <th>index_x</th>\n",
       "      <th>GhoDisplay</th>\n",
       "      <th>PublishStateDisplay</th>\n",
       "      <th>YearDisplay</th>\n",
       "      <th>RegionDisplay</th>\n",
       "      <th>WorldBankIncomeGroupDisplay</th>\n",
       "      <th>CountryDisplay</th>\n",
       "      <th>SexDisplay</th>\n",
       "      <th>Numeric</th>\n",
       "      <th>index_y</th>\n",
       "      <th>country</th>\n",
       "      <th>beer_servings</th>\n",
       "      <th>spirit_servings</th>\n",
       "      <th>wine_servings</th>\n",
       "      <th>total_litres_of_pure_alcohol</th>\n",
       "      <th>(Numeric, median)</th>\n",
       "      <th>(total_litres_of_pure_alcohol, mean)</th>\n",
       "    </tr>\n",
       "  </thead>\n",
       "  <tbody>\n",
       "    <tr>\n",
       "      <th>0</th>\n",
       "      <td>0</td>\n",
       "      <td>Life expectancy at birth (years)</td>\n",
       "      <td>Published</td>\n",
       "      <td>1990</td>\n",
       "      <td>Americas</td>\n",
       "      <td>Lower_middle_income</td>\n",
       "      <td>Nicaragua</td>\n",
       "      <td>Male</td>\n",
       "      <td>68.0</td>\n",
       "      <td>122.0</td>\n",
       "      <td>Nicaragua</td>\n",
       "      <td>78.0</td>\n",
       "      <td>118.0</td>\n",
       "      <td>1.0</td>\n",
       "      <td>3.5</td>\n",
       "      <td>73.0</td>\n",
       "      <td>3.5</td>\n",
       "    </tr>\n",
       "    <tr>\n",
       "      <th>1</th>\n",
       "      <td>1</td>\n",
       "      <td>Healthy life expectancy (HALE) at birth (years)</td>\n",
       "      <td>Published</td>\n",
       "      <td>2012</td>\n",
       "      <td>Europe</td>\n",
       "      <td>High_income</td>\n",
       "      <td>Ireland</td>\n",
       "      <td>Male</td>\n",
       "      <td>69.3</td>\n",
       "      <td>81.0</td>\n",
       "      <td>Ireland</td>\n",
       "      <td>313.0</td>\n",
       "      <td>118.0</td>\n",
       "      <td>165.0</td>\n",
       "      <td>11.4</td>\n",
       "      <td>69.8</td>\n",
       "      <td>11.4</td>\n",
       "    </tr>\n",
       "    <tr>\n",
       "      <th>2</th>\n",
       "      <td>2</td>\n",
       "      <td>Life expectancy at birth (years)</td>\n",
       "      <td>Published</td>\n",
       "      <td>2000</td>\n",
       "      <td>Eastern Mediterranean</td>\n",
       "      <td>Low_income</td>\n",
       "      <td>Yemen</td>\n",
       "      <td>Both sexes</td>\n",
       "      <td>61.0</td>\n",
       "      <td>190.0</td>\n",
       "      <td>Yemen</td>\n",
       "      <td>6.0</td>\n",
       "      <td>0.0</td>\n",
       "      <td>0.0</td>\n",
       "      <td>0.1</td>\n",
       "      <td>62.0</td>\n",
       "      <td>0.1</td>\n",
       "    </tr>\n",
       "    <tr>\n",
       "      <th>3</th>\n",
       "      <td>3</td>\n",
       "      <td>Life expectancy at birth (years)</td>\n",
       "      <td>Published</td>\n",
       "      <td>2000</td>\n",
       "      <td>Africa</td>\n",
       "      <td>Lower_middle_income</td>\n",
       "      <td>Nigeria</td>\n",
       "      <td>Female</td>\n",
       "      <td>48.0</td>\n",
       "      <td>124.0</td>\n",
       "      <td>Nigeria</td>\n",
       "      <td>42.0</td>\n",
       "      <td>5.0</td>\n",
       "      <td>2.0</td>\n",
       "      <td>9.1</td>\n",
       "      <td>50.5</td>\n",
       "      <td>9.1</td>\n",
       "    </tr>\n",
       "    <tr>\n",
       "      <th>4</th>\n",
       "      <td>4</td>\n",
       "      <td>Life expectancy at age 60 (years)</td>\n",
       "      <td>Published</td>\n",
       "      <td>1990</td>\n",
       "      <td>South_East Asia</td>\n",
       "      <td>Lower_middle_income</td>\n",
       "      <td>Thailand</td>\n",
       "      <td>Female</td>\n",
       "      <td>19.0</td>\n",
       "      <td>169.0</td>\n",
       "      <td>Thailand</td>\n",
       "      <td>99.0</td>\n",
       "      <td>258.0</td>\n",
       "      <td>1.0</td>\n",
       "      <td>6.4</td>\n",
       "      <td>19.5</td>\n",
       "      <td>6.4</td>\n",
       "    </tr>\n",
       "  </tbody>\n",
       "</table>\n",
       "</div>"
      ],
      "text/plain": [
       "   index_x                                       GhoDisplay  \\\n",
       "0        0                 Life expectancy at birth (years)   \n",
       "1        1  Healthy life expectancy (HALE) at birth (years)   \n",
       "2        2                 Life expectancy at birth (years)   \n",
       "3        3                 Life expectancy at birth (years)   \n",
       "4        4                Life expectancy at age 60 (years)   \n",
       "\n",
       "  PublishStateDisplay  YearDisplay          RegionDisplay  \\\n",
       "0           Published         1990               Americas   \n",
       "1           Published         2012                 Europe   \n",
       "2           Published         2000  Eastern Mediterranean   \n",
       "3           Published         2000                 Africa   \n",
       "4           Published         1990        South_East Asia   \n",
       "\n",
       "  WorldBankIncomeGroupDisplay CountryDisplay  SexDisplay  Numeric  index_y  \\\n",
       "0         Lower_middle_income      Nicaragua        Male     68.0    122.0   \n",
       "1                 High_income        Ireland        Male     69.3     81.0   \n",
       "2                  Low_income          Yemen  Both sexes     61.0    190.0   \n",
       "3         Lower_middle_income        Nigeria      Female     48.0    124.0   \n",
       "4         Lower_middle_income       Thailand      Female     19.0    169.0   \n",
       "\n",
       "     country  beer_servings  spirit_servings  wine_servings  \\\n",
       "0  Nicaragua           78.0            118.0            1.0   \n",
       "1    Ireland          313.0            118.0          165.0   \n",
       "2      Yemen            6.0              0.0            0.0   \n",
       "3    Nigeria           42.0              5.0            2.0   \n",
       "4   Thailand           99.0            258.0            1.0   \n",
       "\n",
       "   total_litres_of_pure_alcohol  (Numeric, median)  \\\n",
       "0                           3.5               73.0   \n",
       "1                          11.4               69.8   \n",
       "2                           0.1               62.0   \n",
       "3                           9.1               50.5   \n",
       "4                           6.4               19.5   \n",
       "\n",
       "   (total_litres_of_pure_alcohol, mean)  \n",
       "0                                   3.5  \n",
       "1                                  11.4  \n",
       "2                                   0.1  \n",
       "3                                   9.1  \n",
       "4                                   6.4  "
      ]
     },
     "execution_count": 174,
     "metadata": {},
     "output_type": "execute_result"
    }
   ],
   "source": [
    "df_final.head()"
   ]
  },
  {
   "cell_type": "markdown",
   "metadata": {
    "id": "zDE9degBY1sf"
   },
   "source": [
    "### 14"
   ]
  },
  {
   "cell_type": "markdown",
   "metadata": {
    "id": "V7gt5vzbY1so"
   },
   "source": [
    "Используя группировки, аргументированно ответьте на вопрос: на каких континентах средняя ожидаемая продолжительность жизни выше у мужчин, а на каких у женщин?\n",
    "\n",
    "А медианная ожидаемая продолжительность?\n",
    "\n",
    "А минимальная ожидаемая продолжительность?\n",
    "\n",
    "Сделайте выводы!\n",
    "\n",
    "*Подсказка. Казалось бы, при чем здесь тип научной статьи?*"
   ]
  },
  {
   "cell_type": "code",
   "execution_count": 179,
   "metadata": {
    "id": "Wo2cmk4hY1so"
   },
   "outputs": [],
   "source": [
    "df_final_group = df_final.groupby(['RegionDisplay', 'SexDisplay'])['Numeric'].agg(['mean', 'median', 'min']).reset_index()\n"
   ]
  },
  {
   "cell_type": "code",
   "execution_count": 177,
   "metadata": {},
   "outputs": [
    {
     "data": {
      "text/html": [
       "<div>\n",
       "<style scoped>\n",
       "    .dataframe tbody tr th:only-of-type {\n",
       "        vertical-align: middle;\n",
       "    }\n",
       "\n",
       "    .dataframe tbody tr th {\n",
       "        vertical-align: top;\n",
       "    }\n",
       "\n",
       "    .dataframe thead th {\n",
       "        text-align: right;\n",
       "    }\n",
       "</style>\n",
       "<table border=\"1\" class=\"dataframe\">\n",
       "  <thead>\n",
       "    <tr style=\"text-align: right;\">\n",
       "      <th></th>\n",
       "      <th>RegionDisplay</th>\n",
       "      <th>SexDisplay</th>\n",
       "      <th>mean</th>\n",
       "      <th>median</th>\n",
       "      <th>min</th>\n",
       "    </tr>\n",
       "  </thead>\n",
       "  <tbody>\n",
       "    <tr>\n",
       "      <th>0</th>\n",
       "      <td>Africa</td>\n",
       "      <td>Both sexes</td>\n",
       "      <td>39.698243</td>\n",
       "      <td>46.00</td>\n",
       "      <td>11.00000</td>\n",
       "    </tr>\n",
       "    <tr>\n",
       "      <th>1</th>\n",
       "      <td>Africa</td>\n",
       "      <td>Female</td>\n",
       "      <td>40.789563</td>\n",
       "      <td>47.00</td>\n",
       "      <td>11.00000</td>\n",
       "    </tr>\n",
       "    <tr>\n",
       "      <th>2</th>\n",
       "      <td>Africa</td>\n",
       "      <td>Male</td>\n",
       "      <td>38.603784</td>\n",
       "      <td>45.25</td>\n",
       "      <td>11.00000</td>\n",
       "    </tr>\n",
       "    <tr>\n",
       "      <th>3</th>\n",
       "      <td>Americas</td>\n",
       "      <td>Both sexes</td>\n",
       "      <td>51.490027</td>\n",
       "      <td>63.30</td>\n",
       "      <td>15.00000</td>\n",
       "    </tr>\n",
       "    <tr>\n",
       "      <th>4</th>\n",
       "      <td>Americas</td>\n",
       "      <td>Female</td>\n",
       "      <td>53.630348</td>\n",
       "      <td>65.80</td>\n",
       "      <td>16.00000</td>\n",
       "    </tr>\n",
       "    <tr>\n",
       "      <th>5</th>\n",
       "      <td>Americas</td>\n",
       "      <td>Male</td>\n",
       "      <td>49.371465</td>\n",
       "      <td>61.20</td>\n",
       "      <td>12.86658</td>\n",
       "    </tr>\n",
       "    <tr>\n",
       "      <th>6</th>\n",
       "      <td>Eastern Mediterranean</td>\n",
       "      <td>Both sexes</td>\n",
       "      <td>47.574747</td>\n",
       "      <td>57.00</td>\n",
       "      <td>14.00000</td>\n",
       "    </tr>\n",
       "    <tr>\n",
       "      <th>7</th>\n",
       "      <td>Eastern Mediterranean</td>\n",
       "      <td>Female</td>\n",
       "      <td>48.714548</td>\n",
       "      <td>58.85</td>\n",
       "      <td>14.00000</td>\n",
       "    </tr>\n",
       "    <tr>\n",
       "      <th>8</th>\n",
       "      <td>Eastern Mediterranean</td>\n",
       "      <td>Male</td>\n",
       "      <td>46.565493</td>\n",
       "      <td>55.55</td>\n",
       "      <td>13.00000</td>\n",
       "    </tr>\n",
       "    <tr>\n",
       "      <th>9</th>\n",
       "      <td>Europe</td>\n",
       "      <td>Both sexes</td>\n",
       "      <td>53.016106</td>\n",
       "      <td>65.90</td>\n",
       "      <td>15.00000</td>\n",
       "    </tr>\n",
       "    <tr>\n",
       "      <th>10</th>\n",
       "      <td>Europe</td>\n",
       "      <td>Female</td>\n",
       "      <td>55.485740</td>\n",
       "      <td>69.00</td>\n",
       "      <td>16.00000</td>\n",
       "    </tr>\n",
       "    <tr>\n",
       "      <th>11</th>\n",
       "      <td>Europe</td>\n",
       "      <td>Male</td>\n",
       "      <td>50.394290</td>\n",
       "      <td>63.00</td>\n",
       "      <td>12.00000</td>\n",
       "    </tr>\n",
       "    <tr>\n",
       "      <th>12</th>\n",
       "      <td>South_East Asia</td>\n",
       "      <td>Both sexes</td>\n",
       "      <td>46.639254</td>\n",
       "      <td>58.00</td>\n",
       "      <td>13.00000</td>\n",
       "    </tr>\n",
       "    <tr>\n",
       "      <th>13</th>\n",
       "      <td>South_East Asia</td>\n",
       "      <td>Female</td>\n",
       "      <td>48.077619</td>\n",
       "      <td>58.60</td>\n",
       "      <td>12.00000</td>\n",
       "    </tr>\n",
       "    <tr>\n",
       "      <th>14</th>\n",
       "      <td>South_East Asia</td>\n",
       "      <td>Male</td>\n",
       "      <td>45.178286</td>\n",
       "      <td>57.00</td>\n",
       "      <td>12.00000</td>\n",
       "    </tr>\n",
       "    <tr>\n",
       "      <th>15</th>\n",
       "      <td>Western Pacific</td>\n",
       "      <td>Both sexes</td>\n",
       "      <td>49.805079</td>\n",
       "      <td>61.00</td>\n",
       "      <td>13.00000</td>\n",
       "    </tr>\n",
       "    <tr>\n",
       "      <th>16</th>\n",
       "      <td>Western Pacific</td>\n",
       "      <td>Female</td>\n",
       "      <td>51.799305</td>\n",
       "      <td>63.00</td>\n",
       "      <td>15.00000</td>\n",
       "    </tr>\n",
       "    <tr>\n",
       "      <th>17</th>\n",
       "      <td>Western Pacific</td>\n",
       "      <td>Male</td>\n",
       "      <td>47.904163</td>\n",
       "      <td>58.90</td>\n",
       "      <td>12.00000</td>\n",
       "    </tr>\n",
       "  </tbody>\n",
       "</table>\n",
       "</div>"
      ],
      "text/plain": [
       "            RegionDisplay  SexDisplay       mean  median       min\n",
       "0                  Africa  Both sexes  39.698243   46.00  11.00000\n",
       "1                  Africa      Female  40.789563   47.00  11.00000\n",
       "2                  Africa        Male  38.603784   45.25  11.00000\n",
       "3                Americas  Both sexes  51.490027   63.30  15.00000\n",
       "4                Americas      Female  53.630348   65.80  16.00000\n",
       "5                Americas        Male  49.371465   61.20  12.86658\n",
       "6   Eastern Mediterranean  Both sexes  47.574747   57.00  14.00000\n",
       "7   Eastern Mediterranean      Female  48.714548   58.85  14.00000\n",
       "8   Eastern Mediterranean        Male  46.565493   55.55  13.00000\n",
       "9                  Europe  Both sexes  53.016106   65.90  15.00000\n",
       "10                 Europe      Female  55.485740   69.00  16.00000\n",
       "11                 Europe        Male  50.394290   63.00  12.00000\n",
       "12        South_East Asia  Both sexes  46.639254   58.00  13.00000\n",
       "13        South_East Asia      Female  48.077619   58.60  12.00000\n",
       "14        South_East Asia        Male  45.178286   57.00  12.00000\n",
       "15        Western Pacific  Both sexes  49.805079   61.00  13.00000\n",
       "16        Western Pacific      Female  51.799305   63.00  15.00000\n",
       "17        Western Pacific        Male  47.904163   58.90  12.00000"
      ]
     },
     "execution_count": 177,
     "metadata": {},
     "output_type": "execute_result"
    }
   ],
   "source": [
    "df_final_group.head(30)"
   ]
  },
  {
   "cell_type": "markdown",
   "metadata": {},
   "source": [
    "Как мы видим, что на всех континентах средняя продолжительность жизни у женщин больше, чем у мужчин. Это давно известный факт, что мужчины являются более склонны к риску (в прочем как и то, что мучжины чаще попадают в ДТП) и пытаются испытать все эмоции в жизни. Про медиану можно сказать тоже самое. Минимальная продолжительность жизни ни о чем не говорит, потому что часто происходят какие-то несчастные случаи в силу чего люди могут погибать довольно рано"
   ]
  },
  {
   "cell_type": "markdown",
   "metadata": {},
   "source": [
    "Посмотрим на группировку по типу статьи: "
   ]
  },
  {
   "cell_type": "code",
   "execution_count": 181,
   "metadata": {},
   "outputs": [
    {
     "data": {
      "text/html": [
       "<div>\n",
       "<style scoped>\n",
       "    .dataframe tbody tr th:only-of-type {\n",
       "        vertical-align: middle;\n",
       "    }\n",
       "\n",
       "    .dataframe tbody tr th {\n",
       "        vertical-align: top;\n",
       "    }\n",
       "\n",
       "    .dataframe thead th {\n",
       "        text-align: right;\n",
       "    }\n",
       "</style>\n",
       "<table border=\"1\" class=\"dataframe\">\n",
       "  <thead>\n",
       "    <tr style=\"text-align: right;\">\n",
       "      <th></th>\n",
       "      <th>RegionDisplay</th>\n",
       "      <th>SexDisplay</th>\n",
       "      <th>GhoDisplay</th>\n",
       "      <th>mean</th>\n",
       "      <th>median</th>\n",
       "      <th>min</th>\n",
       "    </tr>\n",
       "  </thead>\n",
       "  <tbody>\n",
       "    <tr>\n",
       "      <th>0</th>\n",
       "      <td>Africa</td>\n",
       "      <td>Both sexes</td>\n",
       "      <td>Healthy life expectancy (HALE) at birth (years)</td>\n",
       "      <td>49.136232</td>\n",
       "      <td>49.35000</td>\n",
       "      <td>33.10000</td>\n",
       "    </tr>\n",
       "    <tr>\n",
       "      <th>1</th>\n",
       "      <td>Africa</td>\n",
       "      <td>Both sexes</td>\n",
       "      <td>Life expectancy at age 60 (years)</td>\n",
       "      <td>16.110551</td>\n",
       "      <td>16.00000</td>\n",
       "      <td>11.00000</td>\n",
       "    </tr>\n",
       "    <tr>\n",
       "      <th>2</th>\n",
       "      <td>Africa</td>\n",
       "      <td>Both sexes</td>\n",
       "      <td>Life expectancy at birth (years)</td>\n",
       "      <td>56.245705</td>\n",
       "      <td>57.00000</td>\n",
       "      <td>38.00000</td>\n",
       "    </tr>\n",
       "    <tr>\n",
       "      <th>3</th>\n",
       "      <td>Africa</td>\n",
       "      <td>Female</td>\n",
       "      <td>Healthy life expectancy (HALE) at birth (years)</td>\n",
       "      <td>50.094203</td>\n",
       "      <td>50.00000</td>\n",
       "      <td>33.40000</td>\n",
       "    </tr>\n",
       "    <tr>\n",
       "      <th>4</th>\n",
       "      <td>Africa</td>\n",
       "      <td>Female</td>\n",
       "      <td>Life expectancy at age 60 (years)</td>\n",
       "      <td>16.792841</td>\n",
       "      <td>16.94181</td>\n",
       "      <td>11.00000</td>\n",
       "    </tr>\n",
       "    <tr>\n",
       "      <th>5</th>\n",
       "      <td>Africa</td>\n",
       "      <td>Female</td>\n",
       "      <td>Life expectancy at birth (years)</td>\n",
       "      <td>57.845527</td>\n",
       "      <td>58.00000</td>\n",
       "      <td>38.00000</td>\n",
       "    </tr>\n",
       "    <tr>\n",
       "      <th>6</th>\n",
       "      <td>Africa</td>\n",
       "      <td>Male</td>\n",
       "      <td>Healthy life expectancy (HALE) at birth (years)</td>\n",
       "      <td>48.190580</td>\n",
       "      <td>48.80000</td>\n",
       "      <td>32.80000</td>\n",
       "    </tr>\n",
       "    <tr>\n",
       "      <th>7</th>\n",
       "      <td>Africa</td>\n",
       "      <td>Male</td>\n",
       "      <td>Life expectancy at age 60 (years)</td>\n",
       "      <td>15.331986</td>\n",
       "      <td>15.14800</td>\n",
       "      <td>11.00000</td>\n",
       "    </tr>\n",
       "    <tr>\n",
       "      <th>8</th>\n",
       "      <td>Africa</td>\n",
       "      <td>Male</td>\n",
       "      <td>Life expectancy at birth (years)</td>\n",
       "      <td>54.724349</td>\n",
       "      <td>55.00000</td>\n",
       "      <td>38.00000</td>\n",
       "    </tr>\n",
       "    <tr>\n",
       "      <th>9</th>\n",
       "      <td>Americas</td>\n",
       "      <td>Both sexes</td>\n",
       "      <td>Healthy life expectancy (HALE) at birth (years)</td>\n",
       "      <td>63.838095</td>\n",
       "      <td>63.80000</td>\n",
       "      <td>47.80000</td>\n",
       "    </tr>\n",
       "    <tr>\n",
       "      <th>10</th>\n",
       "      <td>Americas</td>\n",
       "      <td>Both sexes</td>\n",
       "      <td>Life expectancy at age 60 (years)</td>\n",
       "      <td>20.690960</td>\n",
       "      <td>21.00000</td>\n",
       "      <td>15.00000</td>\n",
       "    </tr>\n",
       "    <tr>\n",
       "      <th>11</th>\n",
       "      <td>Americas</td>\n",
       "      <td>Both sexes</td>\n",
       "      <td>Life expectancy at birth (years)</td>\n",
       "      <td>73.028041</td>\n",
       "      <td>74.00000</td>\n",
       "      <td>54.00000</td>\n",
       "    </tr>\n",
       "    <tr>\n",
       "      <th>12</th>\n",
       "      <td>Americas</td>\n",
       "      <td>Female</td>\n",
       "      <td>Healthy life expectancy (HALE) at birth (years)</td>\n",
       "      <td>65.971429</td>\n",
       "      <td>66.20000</td>\n",
       "      <td>48.50000</td>\n",
       "    </tr>\n",
       "    <tr>\n",
       "      <th>13</th>\n",
       "      <td>Americas</td>\n",
       "      <td>Female</td>\n",
       "      <td>Life expectancy at age 60 (years)</td>\n",
       "      <td>22.131179</td>\n",
       "      <td>22.53821</td>\n",
       "      <td>16.00000</td>\n",
       "    </tr>\n",
       "    <tr>\n",
       "      <th>14</th>\n",
       "      <td>Americas</td>\n",
       "      <td>Female</td>\n",
       "      <td>Life expectancy at birth (years)</td>\n",
       "      <td>75.873706</td>\n",
       "      <td>77.00000</td>\n",
       "      <td>56.00000</td>\n",
       "    </tr>\n",
       "    <tr>\n",
       "      <th>15</th>\n",
       "      <td>Americas</td>\n",
       "      <td>Male</td>\n",
       "      <td>Healthy life expectancy (HALE) at birth (years)</td>\n",
       "      <td>61.752381</td>\n",
       "      <td>62.10000</td>\n",
       "      <td>47.10000</td>\n",
       "    </tr>\n",
       "    <tr>\n",
       "      <th>16</th>\n",
       "      <td>Americas</td>\n",
       "      <td>Male</td>\n",
       "      <td>Life expectancy at age 60 (years)</td>\n",
       "      <td>19.175239</td>\n",
       "      <td>19.34305</td>\n",
       "      <td>12.86658</td>\n",
       "    </tr>\n",
       "    <tr>\n",
       "      <th>17</th>\n",
       "      <td>Americas</td>\n",
       "      <td>Male</td>\n",
       "      <td>Life expectancy at birth (years)</td>\n",
       "      <td>70.282002</td>\n",
       "      <td>71.00000</td>\n",
       "      <td>52.00000</td>\n",
       "    </tr>\n",
       "    <tr>\n",
       "      <th>18</th>\n",
       "      <td>Eastern Mediterranean</td>\n",
       "      <td>Both sexes</td>\n",
       "      <td>Healthy life expectancy (HALE) at birth (years)</td>\n",
       "      <td>59.192647</td>\n",
       "      <td>61.65000</td>\n",
       "      <td>41.60000</td>\n",
       "    </tr>\n",
       "    <tr>\n",
       "      <th>19</th>\n",
       "      <td>Eastern Mediterranean</td>\n",
       "      <td>Both sexes</td>\n",
       "      <td>Life expectancy at age 60 (years)</td>\n",
       "      <td>17.935767</td>\n",
       "      <td>18.00000</td>\n",
       "      <td>14.00000</td>\n",
       "    </tr>\n",
       "    <tr>\n",
       "      <th>20</th>\n",
       "      <td>Eastern Mediterranean</td>\n",
       "      <td>Both sexes</td>\n",
       "      <td>Life expectancy at birth (years)</td>\n",
       "      <td>68.133069</td>\n",
       "      <td>70.36568</td>\n",
       "      <td>42.00000</td>\n",
       "    </tr>\n",
       "    <tr>\n",
       "      <th>21</th>\n",
       "      <td>Eastern Mediterranean</td>\n",
       "      <td>Female</td>\n",
       "      <td>Healthy life expectancy (HALE) at birth (years)</td>\n",
       "      <td>59.848529</td>\n",
       "      <td>63.10000</td>\n",
       "      <td>42.00000</td>\n",
       "    </tr>\n",
       "    <tr>\n",
       "      <th>22</th>\n",
       "      <td>Eastern Mediterranean</td>\n",
       "      <td>Female</td>\n",
       "      <td>Life expectancy at age 60 (years)</td>\n",
       "      <td>18.845779</td>\n",
       "      <td>18.89404</td>\n",
       "      <td>14.00000</td>\n",
       "    </tr>\n",
       "    <tr>\n",
       "      <th>23</th>\n",
       "      <td>Eastern Mediterranean</td>\n",
       "      <td>Female</td>\n",
       "      <td>Life expectancy at birth (years)</td>\n",
       "      <td>69.880894</td>\n",
       "      <td>73.00000</td>\n",
       "      <td>44.00000</td>\n",
       "    </tr>\n",
       "    <tr>\n",
       "      <th>24</th>\n",
       "      <td>Eastern Mediterranean</td>\n",
       "      <td>Male</td>\n",
       "      <td>Healthy life expectancy (HALE) at birth (years)</td>\n",
       "      <td>58.510294</td>\n",
       "      <td>60.80000</td>\n",
       "      <td>41.00000</td>\n",
       "    </tr>\n",
       "    <tr>\n",
       "      <th>25</th>\n",
       "      <td>Eastern Mediterranean</td>\n",
       "      <td>Male</td>\n",
       "      <td>Life expectancy at age 60 (years)</td>\n",
       "      <td>17.199309</td>\n",
       "      <td>17.00000</td>\n",
       "      <td>13.00000</td>\n",
       "    </tr>\n",
       "    <tr>\n",
       "      <th>26</th>\n",
       "      <td>Eastern Mediterranean</td>\n",
       "      <td>Male</td>\n",
       "      <td>Life expectancy at birth (years)</td>\n",
       "      <td>66.595512</td>\n",
       "      <td>69.00000</td>\n",
       "      <td>41.00000</td>\n",
       "    </tr>\n",
       "    <tr>\n",
       "      <th>27</th>\n",
       "      <td>Europe</td>\n",
       "      <td>Both sexes</td>\n",
       "      <td>Healthy life expectancy (HALE) at birth (years)</td>\n",
       "      <td>66.658491</td>\n",
       "      <td>67.40000</td>\n",
       "      <td>54.30000</td>\n",
       "    </tr>\n",
       "    <tr>\n",
       "      <th>28</th>\n",
       "      <td>Europe</td>\n",
       "      <td>Both sexes</td>\n",
       "      <td>Life expectancy at age 60 (years)</td>\n",
       "      <td>20.566757</td>\n",
       "      <td>20.11892</td>\n",
       "      <td>15.00000</td>\n",
       "    </tr>\n",
       "    <tr>\n",
       "      <th>29</th>\n",
       "      <td>Europe</td>\n",
       "      <td>Both sexes</td>\n",
       "      <td>Life expectancy at birth (years)</td>\n",
       "      <td>75.233666</td>\n",
       "      <td>76.00000</td>\n",
       "      <td>62.00000</td>\n",
       "    </tr>\n",
       "  </tbody>\n",
       "</table>\n",
       "</div>"
      ],
      "text/plain": [
       "            RegionDisplay  SexDisplay  \\\n",
       "0                  Africa  Both sexes   \n",
       "1                  Africa  Both sexes   \n",
       "2                  Africa  Both sexes   \n",
       "3                  Africa      Female   \n",
       "4                  Africa      Female   \n",
       "5                  Africa      Female   \n",
       "6                  Africa        Male   \n",
       "7                  Africa        Male   \n",
       "8                  Africa        Male   \n",
       "9                Americas  Both sexes   \n",
       "10               Americas  Both sexes   \n",
       "11               Americas  Both sexes   \n",
       "12               Americas      Female   \n",
       "13               Americas      Female   \n",
       "14               Americas      Female   \n",
       "15               Americas        Male   \n",
       "16               Americas        Male   \n",
       "17               Americas        Male   \n",
       "18  Eastern Mediterranean  Both sexes   \n",
       "19  Eastern Mediterranean  Both sexes   \n",
       "20  Eastern Mediterranean  Both sexes   \n",
       "21  Eastern Mediterranean      Female   \n",
       "22  Eastern Mediterranean      Female   \n",
       "23  Eastern Mediterranean      Female   \n",
       "24  Eastern Mediterranean        Male   \n",
       "25  Eastern Mediterranean        Male   \n",
       "26  Eastern Mediterranean        Male   \n",
       "27                 Europe  Both sexes   \n",
       "28                 Europe  Both sexes   \n",
       "29                 Europe  Both sexes   \n",
       "\n",
       "                                         GhoDisplay       mean    median  \\\n",
       "0   Healthy life expectancy (HALE) at birth (years)  49.136232  49.35000   \n",
       "1                 Life expectancy at age 60 (years)  16.110551  16.00000   \n",
       "2                  Life expectancy at birth (years)  56.245705  57.00000   \n",
       "3   Healthy life expectancy (HALE) at birth (years)  50.094203  50.00000   \n",
       "4                 Life expectancy at age 60 (years)  16.792841  16.94181   \n",
       "5                  Life expectancy at birth (years)  57.845527  58.00000   \n",
       "6   Healthy life expectancy (HALE) at birth (years)  48.190580  48.80000   \n",
       "7                 Life expectancy at age 60 (years)  15.331986  15.14800   \n",
       "8                  Life expectancy at birth (years)  54.724349  55.00000   \n",
       "9   Healthy life expectancy (HALE) at birth (years)  63.838095  63.80000   \n",
       "10                Life expectancy at age 60 (years)  20.690960  21.00000   \n",
       "11                 Life expectancy at birth (years)  73.028041  74.00000   \n",
       "12  Healthy life expectancy (HALE) at birth (years)  65.971429  66.20000   \n",
       "13                Life expectancy at age 60 (years)  22.131179  22.53821   \n",
       "14                 Life expectancy at birth (years)  75.873706  77.00000   \n",
       "15  Healthy life expectancy (HALE) at birth (years)  61.752381  62.10000   \n",
       "16                Life expectancy at age 60 (years)  19.175239  19.34305   \n",
       "17                 Life expectancy at birth (years)  70.282002  71.00000   \n",
       "18  Healthy life expectancy (HALE) at birth (years)  59.192647  61.65000   \n",
       "19                Life expectancy at age 60 (years)  17.935767  18.00000   \n",
       "20                 Life expectancy at birth (years)  68.133069  70.36568   \n",
       "21  Healthy life expectancy (HALE) at birth (years)  59.848529  63.10000   \n",
       "22                Life expectancy at age 60 (years)  18.845779  18.89404   \n",
       "23                 Life expectancy at birth (years)  69.880894  73.00000   \n",
       "24  Healthy life expectancy (HALE) at birth (years)  58.510294  60.80000   \n",
       "25                Life expectancy at age 60 (years)  17.199309  17.00000   \n",
       "26                 Life expectancy at birth (years)  66.595512  69.00000   \n",
       "27  Healthy life expectancy (HALE) at birth (years)  66.658491  67.40000   \n",
       "28                Life expectancy at age 60 (years)  20.566757  20.11892   \n",
       "29                 Life expectancy at birth (years)  75.233666  76.00000   \n",
       "\n",
       "         min  \n",
       "0   33.10000  \n",
       "1   11.00000  \n",
       "2   38.00000  \n",
       "3   33.40000  \n",
       "4   11.00000  \n",
       "5   38.00000  \n",
       "6   32.80000  \n",
       "7   11.00000  \n",
       "8   38.00000  \n",
       "9   47.80000  \n",
       "10  15.00000  \n",
       "11  54.00000  \n",
       "12  48.50000  \n",
       "13  16.00000  \n",
       "14  56.00000  \n",
       "15  47.10000  \n",
       "16  12.86658  \n",
       "17  52.00000  \n",
       "18  41.60000  \n",
       "19  14.00000  \n",
       "20  42.00000  \n",
       "21  42.00000  \n",
       "22  14.00000  \n",
       "23  44.00000  \n",
       "24  41.00000  \n",
       "25  13.00000  \n",
       "26  41.00000  \n",
       "27  54.30000  \n",
       "28  15.00000  \n",
       "29  62.00000  "
      ]
     },
     "execution_count": 181,
     "metadata": {},
     "output_type": "execute_result"
    }
   ],
   "source": [
    "df_final_group_gho = df_final.groupby(['RegionDisplay', 'SexDisplay', 'GhoDisplay'])['Numeric'].agg(['mean', 'median', 'min']).reset_index()\n",
    "df_final_group_gho.head(30)"
   ]
  },
  {
   "cell_type": "markdown",
   "metadata": {},
   "source": [
    "Тут мы прослеживаем, что HALE и у мужчин и у женщин очень близкий по среднему значению, что говорит нам о том, что это все складывается лишь в силу поведенческого характера мужчин, в прочем как и минимальное время жизни."
   ]
  },
  {
   "cell_type": "markdown",
   "metadata": {
    "id": "MOpl4qSimA0f"
   },
   "source": [
    "### 15"
   ]
  },
  {
   "cell_type": "markdown",
   "metadata": {
    "id": "LJw3l8htmA0o"
   },
   "source": [
    "Работая лишь с общим объединенным датасетом и не используя исходную таблицу drinks, подсчитайте среднее потребление каждого вида алкоголя и среднее общее количество литров потребляемого алкоголя на человека по всем континентам. Занесите ваши результаты в отдельный датафрейм!\n",
    "\n",
    "*Подсказка. Задача немного сложнее, чем может показаться на первый взгляд — в объединенном датасете страны встречаются разное количество раз, и из-за этого могут возникнуть определенные проблемы. Если так случится, надо подумать, как это обойти!*\n",
    "\n",
    "*Примечание. Разумеется, это необходимо сделать автоматизированно, а не перебирая каждый континент по отдельности.*"
   ]
  },
  {
   "cell_type": "code",
   "execution_count": 182,
   "metadata": {
    "id": "gPuwfFgdmA0p"
   },
   "outputs": [
    {
     "data": {
      "text/html": [
       "<div>\n",
       "<style scoped>\n",
       "    .dataframe tbody tr th:only-of-type {\n",
       "        vertical-align: middle;\n",
       "    }\n",
       "\n",
       "    .dataframe tbody tr th {\n",
       "        vertical-align: top;\n",
       "    }\n",
       "\n",
       "    .dataframe thead th {\n",
       "        text-align: right;\n",
       "    }\n",
       "</style>\n",
       "<table border=\"1\" class=\"dataframe\">\n",
       "  <thead>\n",
       "    <tr style=\"text-align: right;\">\n",
       "      <th></th>\n",
       "      <th>RegionDisplay</th>\n",
       "      <th>beer_servings</th>\n",
       "      <th>spirit_servings</th>\n",
       "      <th>wine_servings</th>\n",
       "      <th>total_litres_of_pure_alcohol</th>\n",
       "    </tr>\n",
       "  </thead>\n",
       "  <tbody>\n",
       "    <tr>\n",
       "      <th>0</th>\n",
       "      <td>Africa</td>\n",
       "      <td>72.609756</td>\n",
       "      <td>17.487805</td>\n",
       "      <td>16.048780</td>\n",
       "      <td>3.314634</td>\n",
       "    </tr>\n",
       "    <tr>\n",
       "      <th>1</th>\n",
       "      <td>Americas</td>\n",
       "      <td>144.925926</td>\n",
       "      <td>143.148148</td>\n",
       "      <td>38.962963</td>\n",
       "      <td>5.851852</td>\n",
       "    </tr>\n",
       "    <tr>\n",
       "      <th>2</th>\n",
       "      <td>Eastern Mediterranean</td>\n",
       "      <td>11.263158</td>\n",
       "      <td>21.578947</td>\n",
       "      <td>4.526316</td>\n",
       "      <td>0.736842</td>\n",
       "    </tr>\n",
       "    <tr>\n",
       "      <th>3</th>\n",
       "      <td>Europe</td>\n",
       "      <td>179.020408</td>\n",
       "      <td>129.795918</td>\n",
       "      <td>127.346939</td>\n",
       "      <td>8.002041</td>\n",
       "    </tr>\n",
       "    <tr>\n",
       "      <th>4</th>\n",
       "      <td>South_East Asia</td>\n",
       "      <td>18.000000</td>\n",
       "      <td>53.777778</td>\n",
       "      <td>0.111111</td>\n",
       "      <td>1.288889</td>\n",
       "    </tr>\n",
       "    <tr>\n",
       "      <th>5</th>\n",
       "      <td>Western Pacific</td>\n",
       "      <td>82.136364</td>\n",
       "      <td>78.863636</td>\n",
       "      <td>27.136364</td>\n",
       "      <td>3.513636</td>\n",
       "    </tr>\n",
       "  </tbody>\n",
       "</table>\n",
       "</div>"
      ],
      "text/plain": [
       "           RegionDisplay  beer_servings  spirit_servings  wine_servings  \\\n",
       "0                 Africa      72.609756        17.487805      16.048780   \n",
       "1               Americas     144.925926       143.148148      38.962963   \n",
       "2  Eastern Mediterranean      11.263158        21.578947       4.526316   \n",
       "3                 Europe     179.020408       129.795918     127.346939   \n",
       "4        South_East Asia      18.000000        53.777778       0.111111   \n",
       "5        Western Pacific      82.136364        78.863636      27.136364   \n",
       "\n",
       "   total_litres_of_pure_alcohol  \n",
       "0                      3.314634  \n",
       "1                      5.851852  \n",
       "2                      0.736842  \n",
       "3                      8.002041  \n",
       "4                      1.288889  \n",
       "5                      3.513636  "
      ]
     },
     "execution_count": 182,
     "metadata": {},
     "output_type": "execute_result"
    }
   ],
   "source": [
    "unique_countries_data = df_final.drop_duplicates(subset='CountryDisplay')\n",
    "continent_alcohol = unique_countries_data.groupby('RegionDisplay').agg({\n",
    "    'beer_servings': 'mean',\n",
    "    'spirit_servings': 'mean',\n",
    "    'wine_servings': 'mean',\n",
    "    'total_litres_of_pure_alcohol': 'mean'\n",
    "}).reset_index()\n",
    "continent_alcohol"
   ]
  },
  {
   "cell_type": "markdown",
   "metadata": {},
   "source": [
    "Удалим дубликаты по странам, т.к значения-то там одни и теже, так как df_drinks содержит в себе каждую страну единожды и получим красивый результат."
   ]
  },
  {
   "cell_type": "markdown",
   "metadata": {
    "id": "iQ3Q-4AMZKgk"
   },
   "source": [
    "### 16"
   ]
  },
  {
   "cell_type": "markdown",
   "metadata": {
    "id": "brZ1VUheZKgk"
   },
   "source": [
    "Создание новых признаков (feature engineering) является одним из основных средств улучшения качества работы алгоритмов машинного обучения на этапе обработки данных, а также отличный способ увеличить глубину ваших выводов из проделанного анализа в целом! Частично мы с вами уже осуществляли feature engineering, когда добавляли новые столбцы в задании 13 данного раздела.\n",
    "\n",
    "Теперь давайте добавим в таблицу столбец, который будет показывать, какое общее количество servings per person производится в среднем по стране, к которой относится научная статья. Столбец для этого признака назовите 'total_servings'.\n",
    "\n",
    "Чем может быть полезен такой признак?\n",
    "\n",
    "***Бонус (2 бон. балла):*** Придумайте еще какой-нибудь свой осмысленный признак, который может быть полезен для анализа (несет в себе какую-то информацию), и добавьте его в таблицу. Обязательно аргументируйте, чем полезен ваш признак."
   ]
  },
  {
   "cell_type": "code",
   "execution_count": 183,
   "metadata": {
    "id": "IUpwi7PmZKgk"
   },
   "outputs": [
    {
     "data": {
      "text/html": [
       "<div>\n",
       "<style scoped>\n",
       "    .dataframe tbody tr th:only-of-type {\n",
       "        vertical-align: middle;\n",
       "    }\n",
       "\n",
       "    .dataframe tbody tr th {\n",
       "        vertical-align: top;\n",
       "    }\n",
       "\n",
       "    .dataframe thead th {\n",
       "        text-align: right;\n",
       "    }\n",
       "</style>\n",
       "<table border=\"1\" class=\"dataframe\">\n",
       "  <thead>\n",
       "    <tr style=\"text-align: right;\">\n",
       "      <th></th>\n",
       "      <th>index_x</th>\n",
       "      <th>GhoDisplay</th>\n",
       "      <th>PublishStateDisplay</th>\n",
       "      <th>YearDisplay</th>\n",
       "      <th>RegionDisplay</th>\n",
       "      <th>WorldBankIncomeGroupDisplay</th>\n",
       "      <th>CountryDisplay</th>\n",
       "      <th>SexDisplay</th>\n",
       "      <th>Numeric</th>\n",
       "      <th>index_y</th>\n",
       "      <th>country</th>\n",
       "      <th>beer_servings</th>\n",
       "      <th>spirit_servings</th>\n",
       "      <th>wine_servings</th>\n",
       "      <th>total_litres_of_pure_alcohol</th>\n",
       "      <th>(Numeric, median)</th>\n",
       "      <th>(total_litres_of_pure_alcohol, mean)</th>\n",
       "      <th>total_servings</th>\n",
       "    </tr>\n",
       "  </thead>\n",
       "  <tbody>\n",
       "    <tr>\n",
       "      <th>0</th>\n",
       "      <td>0</td>\n",
       "      <td>Life expectancy at birth (years)</td>\n",
       "      <td>Published</td>\n",
       "      <td>1990</td>\n",
       "      <td>Americas</td>\n",
       "      <td>Lower_middle_income</td>\n",
       "      <td>Nicaragua</td>\n",
       "      <td>Male</td>\n",
       "      <td>68.0</td>\n",
       "      <td>122.0</td>\n",
       "      <td>Nicaragua</td>\n",
       "      <td>78.0</td>\n",
       "      <td>118.0</td>\n",
       "      <td>1.0</td>\n",
       "      <td>3.5</td>\n",
       "      <td>73.0</td>\n",
       "      <td>3.5</td>\n",
       "      <td>197.0</td>\n",
       "    </tr>\n",
       "    <tr>\n",
       "      <th>1</th>\n",
       "      <td>1</td>\n",
       "      <td>Healthy life expectancy (HALE) at birth (years)</td>\n",
       "      <td>Published</td>\n",
       "      <td>2012</td>\n",
       "      <td>Europe</td>\n",
       "      <td>High_income</td>\n",
       "      <td>Ireland</td>\n",
       "      <td>Male</td>\n",
       "      <td>69.3</td>\n",
       "      <td>81.0</td>\n",
       "      <td>Ireland</td>\n",
       "      <td>313.0</td>\n",
       "      <td>118.0</td>\n",
       "      <td>165.0</td>\n",
       "      <td>11.4</td>\n",
       "      <td>69.8</td>\n",
       "      <td>11.4</td>\n",
       "      <td>596.0</td>\n",
       "    </tr>\n",
       "    <tr>\n",
       "      <th>2</th>\n",
       "      <td>2</td>\n",
       "      <td>Life expectancy at birth (years)</td>\n",
       "      <td>Published</td>\n",
       "      <td>2000</td>\n",
       "      <td>Eastern Mediterranean</td>\n",
       "      <td>Low_income</td>\n",
       "      <td>Yemen</td>\n",
       "      <td>Both sexes</td>\n",
       "      <td>61.0</td>\n",
       "      <td>190.0</td>\n",
       "      <td>Yemen</td>\n",
       "      <td>6.0</td>\n",
       "      <td>0.0</td>\n",
       "      <td>0.0</td>\n",
       "      <td>0.1</td>\n",
       "      <td>62.0</td>\n",
       "      <td>0.1</td>\n",
       "      <td>6.0</td>\n",
       "    </tr>\n",
       "    <tr>\n",
       "      <th>3</th>\n",
       "      <td>3</td>\n",
       "      <td>Life expectancy at birth (years)</td>\n",
       "      <td>Published</td>\n",
       "      <td>2000</td>\n",
       "      <td>Africa</td>\n",
       "      <td>Lower_middle_income</td>\n",
       "      <td>Nigeria</td>\n",
       "      <td>Female</td>\n",
       "      <td>48.0</td>\n",
       "      <td>124.0</td>\n",
       "      <td>Nigeria</td>\n",
       "      <td>42.0</td>\n",
       "      <td>5.0</td>\n",
       "      <td>2.0</td>\n",
       "      <td>9.1</td>\n",
       "      <td>50.5</td>\n",
       "      <td>9.1</td>\n",
       "      <td>49.0</td>\n",
       "    </tr>\n",
       "    <tr>\n",
       "      <th>4</th>\n",
       "      <td>4</td>\n",
       "      <td>Life expectancy at age 60 (years)</td>\n",
       "      <td>Published</td>\n",
       "      <td>1990</td>\n",
       "      <td>South_East Asia</td>\n",
       "      <td>Lower_middle_income</td>\n",
       "      <td>Thailand</td>\n",
       "      <td>Female</td>\n",
       "      <td>19.0</td>\n",
       "      <td>169.0</td>\n",
       "      <td>Thailand</td>\n",
       "      <td>99.0</td>\n",
       "      <td>258.0</td>\n",
       "      <td>1.0</td>\n",
       "      <td>6.4</td>\n",
       "      <td>19.5</td>\n",
       "      <td>6.4</td>\n",
       "      <td>358.0</td>\n",
       "    </tr>\n",
       "  </tbody>\n",
       "</table>\n",
       "</div>"
      ],
      "text/plain": [
       "   index_x                                       GhoDisplay  \\\n",
       "0        0                 Life expectancy at birth (years)   \n",
       "1        1  Healthy life expectancy (HALE) at birth (years)   \n",
       "2        2                 Life expectancy at birth (years)   \n",
       "3        3                 Life expectancy at birth (years)   \n",
       "4        4                Life expectancy at age 60 (years)   \n",
       "\n",
       "  PublishStateDisplay  YearDisplay          RegionDisplay  \\\n",
       "0           Published         1990               Americas   \n",
       "1           Published         2012                 Europe   \n",
       "2           Published         2000  Eastern Mediterranean   \n",
       "3           Published         2000                 Africa   \n",
       "4           Published         1990        South_East Asia   \n",
       "\n",
       "  WorldBankIncomeGroupDisplay CountryDisplay  SexDisplay  Numeric  index_y  \\\n",
       "0         Lower_middle_income      Nicaragua        Male     68.0    122.0   \n",
       "1                 High_income        Ireland        Male     69.3     81.0   \n",
       "2                  Low_income          Yemen  Both sexes     61.0    190.0   \n",
       "3         Lower_middle_income        Nigeria      Female     48.0    124.0   \n",
       "4         Lower_middle_income       Thailand      Female     19.0    169.0   \n",
       "\n",
       "     country  beer_servings  spirit_servings  wine_servings  \\\n",
       "0  Nicaragua           78.0            118.0            1.0   \n",
       "1    Ireland          313.0            118.0          165.0   \n",
       "2      Yemen            6.0              0.0            0.0   \n",
       "3    Nigeria           42.0              5.0            2.0   \n",
       "4   Thailand           99.0            258.0            1.0   \n",
       "\n",
       "   total_litres_of_pure_alcohol  (Numeric, median)  \\\n",
       "0                           3.5               73.0   \n",
       "1                          11.4               69.8   \n",
       "2                           0.1               62.0   \n",
       "3                           9.1               50.5   \n",
       "4                           6.4               19.5   \n",
       "\n",
       "   (total_litres_of_pure_alcohol, mean)  total_servings  \n",
       "0                                   3.5           197.0  \n",
       "1                                  11.4           596.0  \n",
       "2                                   0.1             6.0  \n",
       "3                                   9.1            49.0  \n",
       "4                                   6.4           358.0  "
      ]
     },
     "execution_count": 183,
     "metadata": {},
     "output_type": "execute_result"
    }
   ],
   "source": [
    "df_final['total_servings'] = df_final['beer_servings'] + df_final['spirit_servings'] + df_final['wine_servings']\n",
    "df_final.head()"
   ]
  },
  {
   "cell_type": "markdown",
   "metadata": {},
   "source": [
    "Возьму самый легкий новый признак: кол-во чистого алкоголя на заказ. То есть мы узнаем насколько в стране склонны к алкоголизму и как вообще это влияет на здоровье людей в целом. Также это отличный признак для сравнения его между регионами. Насколько вообще в разных регионах склонны к потреблению алкоголя."
   ]
  },
  {
   "cell_type": "code",
   "execution_count": 185,
   "metadata": {},
   "outputs": [
    {
     "data": {
      "text/html": [
       "<div>\n",
       "<style scoped>\n",
       "    .dataframe tbody tr th:only-of-type {\n",
       "        vertical-align: middle;\n",
       "    }\n",
       "\n",
       "    .dataframe tbody tr th {\n",
       "        vertical-align: top;\n",
       "    }\n",
       "\n",
       "    .dataframe thead th {\n",
       "        text-align: right;\n",
       "    }\n",
       "</style>\n",
       "<table border=\"1\" class=\"dataframe\">\n",
       "  <thead>\n",
       "    <tr style=\"text-align: right;\">\n",
       "      <th></th>\n",
       "      <th>index_x</th>\n",
       "      <th>GhoDisplay</th>\n",
       "      <th>PublishStateDisplay</th>\n",
       "      <th>YearDisplay</th>\n",
       "      <th>RegionDisplay</th>\n",
       "      <th>WorldBankIncomeGroupDisplay</th>\n",
       "      <th>CountryDisplay</th>\n",
       "      <th>SexDisplay</th>\n",
       "      <th>Numeric</th>\n",
       "      <th>index_y</th>\n",
       "      <th>country</th>\n",
       "      <th>beer_servings</th>\n",
       "      <th>spirit_servings</th>\n",
       "      <th>wine_servings</th>\n",
       "      <th>total_litres_of_pure_alcohol</th>\n",
       "      <th>(Numeric, median)</th>\n",
       "      <th>(total_litres_of_pure_alcohol, mean)</th>\n",
       "      <th>total_servings</th>\n",
       "      <th>alcohol_serving</th>\n",
       "    </tr>\n",
       "  </thead>\n",
       "  <tbody>\n",
       "    <tr>\n",
       "      <th>0</th>\n",
       "      <td>0</td>\n",
       "      <td>Life expectancy at birth (years)</td>\n",
       "      <td>Published</td>\n",
       "      <td>1990</td>\n",
       "      <td>Americas</td>\n",
       "      <td>Lower_middle_income</td>\n",
       "      <td>Nicaragua</td>\n",
       "      <td>Male</td>\n",
       "      <td>68.0</td>\n",
       "      <td>122.0</td>\n",
       "      <td>Nicaragua</td>\n",
       "      <td>78.0</td>\n",
       "      <td>118.0</td>\n",
       "      <td>1.0</td>\n",
       "      <td>3.5</td>\n",
       "      <td>73.0</td>\n",
       "      <td>3.5</td>\n",
       "      <td>197.0</td>\n",
       "      <td>0.017766</td>\n",
       "    </tr>\n",
       "    <tr>\n",
       "      <th>1</th>\n",
       "      <td>1</td>\n",
       "      <td>Healthy life expectancy (HALE) at birth (years)</td>\n",
       "      <td>Published</td>\n",
       "      <td>2012</td>\n",
       "      <td>Europe</td>\n",
       "      <td>High_income</td>\n",
       "      <td>Ireland</td>\n",
       "      <td>Male</td>\n",
       "      <td>69.3</td>\n",
       "      <td>81.0</td>\n",
       "      <td>Ireland</td>\n",
       "      <td>313.0</td>\n",
       "      <td>118.0</td>\n",
       "      <td>165.0</td>\n",
       "      <td>11.4</td>\n",
       "      <td>69.8</td>\n",
       "      <td>11.4</td>\n",
       "      <td>596.0</td>\n",
       "      <td>0.019128</td>\n",
       "    </tr>\n",
       "    <tr>\n",
       "      <th>2</th>\n",
       "      <td>2</td>\n",
       "      <td>Life expectancy at birth (years)</td>\n",
       "      <td>Published</td>\n",
       "      <td>2000</td>\n",
       "      <td>Eastern Mediterranean</td>\n",
       "      <td>Low_income</td>\n",
       "      <td>Yemen</td>\n",
       "      <td>Both sexes</td>\n",
       "      <td>61.0</td>\n",
       "      <td>190.0</td>\n",
       "      <td>Yemen</td>\n",
       "      <td>6.0</td>\n",
       "      <td>0.0</td>\n",
       "      <td>0.0</td>\n",
       "      <td>0.1</td>\n",
       "      <td>62.0</td>\n",
       "      <td>0.1</td>\n",
       "      <td>6.0</td>\n",
       "      <td>0.016667</td>\n",
       "    </tr>\n",
       "    <tr>\n",
       "      <th>3</th>\n",
       "      <td>3</td>\n",
       "      <td>Life expectancy at birth (years)</td>\n",
       "      <td>Published</td>\n",
       "      <td>2000</td>\n",
       "      <td>Africa</td>\n",
       "      <td>Lower_middle_income</td>\n",
       "      <td>Nigeria</td>\n",
       "      <td>Female</td>\n",
       "      <td>48.0</td>\n",
       "      <td>124.0</td>\n",
       "      <td>Nigeria</td>\n",
       "      <td>42.0</td>\n",
       "      <td>5.0</td>\n",
       "      <td>2.0</td>\n",
       "      <td>9.1</td>\n",
       "      <td>50.5</td>\n",
       "      <td>9.1</td>\n",
       "      <td>49.0</td>\n",
       "      <td>0.185714</td>\n",
       "    </tr>\n",
       "    <tr>\n",
       "      <th>4</th>\n",
       "      <td>4</td>\n",
       "      <td>Life expectancy at age 60 (years)</td>\n",
       "      <td>Published</td>\n",
       "      <td>1990</td>\n",
       "      <td>South_East Asia</td>\n",
       "      <td>Lower_middle_income</td>\n",
       "      <td>Thailand</td>\n",
       "      <td>Female</td>\n",
       "      <td>19.0</td>\n",
       "      <td>169.0</td>\n",
       "      <td>Thailand</td>\n",
       "      <td>99.0</td>\n",
       "      <td>258.0</td>\n",
       "      <td>1.0</td>\n",
       "      <td>6.4</td>\n",
       "      <td>19.5</td>\n",
       "      <td>6.4</td>\n",
       "      <td>358.0</td>\n",
       "      <td>0.017877</td>\n",
       "    </tr>\n",
       "  </tbody>\n",
       "</table>\n",
       "</div>"
      ],
      "text/plain": [
       "   index_x                                       GhoDisplay  \\\n",
       "0        0                 Life expectancy at birth (years)   \n",
       "1        1  Healthy life expectancy (HALE) at birth (years)   \n",
       "2        2                 Life expectancy at birth (years)   \n",
       "3        3                 Life expectancy at birth (years)   \n",
       "4        4                Life expectancy at age 60 (years)   \n",
       "\n",
       "  PublishStateDisplay  YearDisplay          RegionDisplay  \\\n",
       "0           Published         1990               Americas   \n",
       "1           Published         2012                 Europe   \n",
       "2           Published         2000  Eastern Mediterranean   \n",
       "3           Published         2000                 Africa   \n",
       "4           Published         1990        South_East Asia   \n",
       "\n",
       "  WorldBankIncomeGroupDisplay CountryDisplay  SexDisplay  Numeric  index_y  \\\n",
       "0         Lower_middle_income      Nicaragua        Male     68.0    122.0   \n",
       "1                 High_income        Ireland        Male     69.3     81.0   \n",
       "2                  Low_income          Yemen  Both sexes     61.0    190.0   \n",
       "3         Lower_middle_income        Nigeria      Female     48.0    124.0   \n",
       "4         Lower_middle_income       Thailand      Female     19.0    169.0   \n",
       "\n",
       "     country  beer_servings  spirit_servings  wine_servings  \\\n",
       "0  Nicaragua           78.0            118.0            1.0   \n",
       "1    Ireland          313.0            118.0          165.0   \n",
       "2      Yemen            6.0              0.0            0.0   \n",
       "3    Nigeria           42.0              5.0            2.0   \n",
       "4   Thailand           99.0            258.0            1.0   \n",
       "\n",
       "   total_litres_of_pure_alcohol  (Numeric, median)  \\\n",
       "0                           3.5               73.0   \n",
       "1                          11.4               69.8   \n",
       "2                           0.1               62.0   \n",
       "3                           9.1               50.5   \n",
       "4                           6.4               19.5   \n",
       "\n",
       "   (total_litres_of_pure_alcohol, mean)  total_servings  alcohol_serving  \n",
       "0                                   3.5           197.0         0.017766  \n",
       "1                                  11.4           596.0         0.019128  \n",
       "2                                   0.1             6.0         0.016667  \n",
       "3                                   9.1            49.0         0.185714  \n",
       "4                                   6.4           358.0         0.017877  "
      ]
     },
     "execution_count": 185,
     "metadata": {},
     "output_type": "execute_result"
    }
   ],
   "source": [
    "df_final['alcohol_serving'] = df_final['total_litres_of_pure_alcohol'] / df_final['total_servings']\n",
    "df_final.head()"
   ]
  },
  {
   "cell_type": "markdown",
   "metadata": {
    "id": "XlDxz7oNZKgl"
   },
   "source": [
    "### 17"
   ]
  },
  {
   "cell_type": "markdown",
   "metadata": {
    "id": "cWu51pYuZKgm"
   },
   "source": [
    "Есть ли в данных категориальные признаки, которые принимают значения строк, а не чисел? Если да, то для многих алгоритмов это может стать серьезным препятствием, поэтому закодируйте категориальные признаки так, чтобы к данным можно было применить любые алгоритмы. Аргументируйте выбор методов кодирования.\n",
    "\n",
    "*Подсказка. Вам могут помочь Label encoding и One-Hot Encoding. Но будьте внимательны! У каждого из этих методов есть свои сильные и слабые стороны, а также ограничения применимости.*"
   ]
  },
  {
   "cell_type": "markdown",
   "metadata": {},
   "source": [
    "Воспользуемся One-Hot Encoding, что сильно увеличит размерность нашего DataFrame, но поможет нам в дальнейшем в машинном обучении. То есть мы избежим неправильной интепритации порядка категорий."
   ]
  },
  {
   "cell_type": "code",
   "execution_count": 186,
   "metadata": {
    "id": "KlP_Pz31ZKgm"
   },
   "outputs": [
    {
     "data": {
      "text/html": [
       "<div>\n",
       "<style scoped>\n",
       "    .dataframe tbody tr th:only-of-type {\n",
       "        vertical-align: middle;\n",
       "    }\n",
       "\n",
       "    .dataframe tbody tr th {\n",
       "        vertical-align: top;\n",
       "    }\n",
       "\n",
       "    .dataframe thead th {\n",
       "        text-align: right;\n",
       "    }\n",
       "</style>\n",
       "<table border=\"1\" class=\"dataframe\">\n",
       "  <thead>\n",
       "    <tr style=\"text-align: right;\">\n",
       "      <th></th>\n",
       "      <th>index_x</th>\n",
       "      <th>GhoDisplay</th>\n",
       "      <th>PublishStateDisplay</th>\n",
       "      <th>YearDisplay</th>\n",
       "      <th>RegionDisplay</th>\n",
       "      <th>WorldBankIncomeGroupDisplay</th>\n",
       "      <th>SexDisplay</th>\n",
       "      <th>Numeric</th>\n",
       "      <th>index_y</th>\n",
       "      <th>country</th>\n",
       "      <th>...</th>\n",
       "      <th>CountryDisplay_United Republic of Tanzania</th>\n",
       "      <th>CountryDisplay_United States of America</th>\n",
       "      <th>CountryDisplay_Uruguay</th>\n",
       "      <th>CountryDisplay_Uzbekistan</th>\n",
       "      <th>CountryDisplay_Vanuatu</th>\n",
       "      <th>CountryDisplay_Venezuela (Bolivarian Republic of)</th>\n",
       "      <th>CountryDisplay_Viet Nam</th>\n",
       "      <th>CountryDisplay_Yemen</th>\n",
       "      <th>CountryDisplay_Zambia</th>\n",
       "      <th>CountryDisplay_Zimbabwe</th>\n",
       "    </tr>\n",
       "  </thead>\n",
       "  <tbody>\n",
       "    <tr>\n",
       "      <th>0</th>\n",
       "      <td>0</td>\n",
       "      <td>Life expectancy at birth (years)</td>\n",
       "      <td>Published</td>\n",
       "      <td>1990</td>\n",
       "      <td>Americas</td>\n",
       "      <td>Lower_middle_income</td>\n",
       "      <td>Male</td>\n",
       "      <td>68.0</td>\n",
       "      <td>122.0</td>\n",
       "      <td>Nicaragua</td>\n",
       "      <td>...</td>\n",
       "      <td>0</td>\n",
       "      <td>0</td>\n",
       "      <td>0</td>\n",
       "      <td>0</td>\n",
       "      <td>0</td>\n",
       "      <td>0</td>\n",
       "      <td>0</td>\n",
       "      <td>0</td>\n",
       "      <td>0</td>\n",
       "      <td>0</td>\n",
       "    </tr>\n",
       "    <tr>\n",
       "      <th>1</th>\n",
       "      <td>1</td>\n",
       "      <td>Healthy life expectancy (HALE) at birth (years)</td>\n",
       "      <td>Published</td>\n",
       "      <td>2012</td>\n",
       "      <td>Europe</td>\n",
       "      <td>High_income</td>\n",
       "      <td>Male</td>\n",
       "      <td>69.3</td>\n",
       "      <td>81.0</td>\n",
       "      <td>Ireland</td>\n",
       "      <td>...</td>\n",
       "      <td>0</td>\n",
       "      <td>0</td>\n",
       "      <td>0</td>\n",
       "      <td>0</td>\n",
       "      <td>0</td>\n",
       "      <td>0</td>\n",
       "      <td>0</td>\n",
       "      <td>0</td>\n",
       "      <td>0</td>\n",
       "      <td>0</td>\n",
       "    </tr>\n",
       "    <tr>\n",
       "      <th>2</th>\n",
       "      <td>2</td>\n",
       "      <td>Life expectancy at birth (years)</td>\n",
       "      <td>Published</td>\n",
       "      <td>2000</td>\n",
       "      <td>Eastern Mediterranean</td>\n",
       "      <td>Low_income</td>\n",
       "      <td>Both sexes</td>\n",
       "      <td>61.0</td>\n",
       "      <td>190.0</td>\n",
       "      <td>Yemen</td>\n",
       "      <td>...</td>\n",
       "      <td>0</td>\n",
       "      <td>0</td>\n",
       "      <td>0</td>\n",
       "      <td>0</td>\n",
       "      <td>0</td>\n",
       "      <td>0</td>\n",
       "      <td>0</td>\n",
       "      <td>1</td>\n",
       "      <td>0</td>\n",
       "      <td>0</td>\n",
       "    </tr>\n",
       "    <tr>\n",
       "      <th>3</th>\n",
       "      <td>3</td>\n",
       "      <td>Life expectancy at birth (years)</td>\n",
       "      <td>Published</td>\n",
       "      <td>2000</td>\n",
       "      <td>Africa</td>\n",
       "      <td>Lower_middle_income</td>\n",
       "      <td>Female</td>\n",
       "      <td>48.0</td>\n",
       "      <td>124.0</td>\n",
       "      <td>Nigeria</td>\n",
       "      <td>...</td>\n",
       "      <td>0</td>\n",
       "      <td>0</td>\n",
       "      <td>0</td>\n",
       "      <td>0</td>\n",
       "      <td>0</td>\n",
       "      <td>0</td>\n",
       "      <td>0</td>\n",
       "      <td>0</td>\n",
       "      <td>0</td>\n",
       "      <td>0</td>\n",
       "    </tr>\n",
       "    <tr>\n",
       "      <th>4</th>\n",
       "      <td>4</td>\n",
       "      <td>Life expectancy at age 60 (years)</td>\n",
       "      <td>Published</td>\n",
       "      <td>1990</td>\n",
       "      <td>South_East Asia</td>\n",
       "      <td>Lower_middle_income</td>\n",
       "      <td>Female</td>\n",
       "      <td>19.0</td>\n",
       "      <td>169.0</td>\n",
       "      <td>Thailand</td>\n",
       "      <td>...</td>\n",
       "      <td>0</td>\n",
       "      <td>0</td>\n",
       "      <td>0</td>\n",
       "      <td>0</td>\n",
       "      <td>0</td>\n",
       "      <td>0</td>\n",
       "      <td>0</td>\n",
       "      <td>0</td>\n",
       "      <td>0</td>\n",
       "      <td>0</td>\n",
       "    </tr>\n",
       "  </tbody>\n",
       "</table>\n",
       "<p>5 rows × 212 columns</p>\n",
       "</div>"
      ],
      "text/plain": [
       "   index_x                                       GhoDisplay  \\\n",
       "0        0                 Life expectancy at birth (years)   \n",
       "1        1  Healthy life expectancy (HALE) at birth (years)   \n",
       "2        2                 Life expectancy at birth (years)   \n",
       "3        3                 Life expectancy at birth (years)   \n",
       "4        4                Life expectancy at age 60 (years)   \n",
       "\n",
       "  PublishStateDisplay  YearDisplay          RegionDisplay  \\\n",
       "0           Published         1990               Americas   \n",
       "1           Published         2012                 Europe   \n",
       "2           Published         2000  Eastern Mediterranean   \n",
       "3           Published         2000                 Africa   \n",
       "4           Published         1990        South_East Asia   \n",
       "\n",
       "  WorldBankIncomeGroupDisplay  SexDisplay  Numeric  index_y    country  ...  \\\n",
       "0         Lower_middle_income        Male     68.0    122.0  Nicaragua  ...   \n",
       "1                 High_income        Male     69.3     81.0    Ireland  ...   \n",
       "2                  Low_income  Both sexes     61.0    190.0      Yemen  ...   \n",
       "3         Lower_middle_income      Female     48.0    124.0    Nigeria  ...   \n",
       "4         Lower_middle_income      Female     19.0    169.0   Thailand  ...   \n",
       "\n",
       "   CountryDisplay_United Republic of Tanzania  \\\n",
       "0                                           0   \n",
       "1                                           0   \n",
       "2                                           0   \n",
       "3                                           0   \n",
       "4                                           0   \n",
       "\n",
       "   CountryDisplay_United States of America  CountryDisplay_Uruguay  \\\n",
       "0                                        0                       0   \n",
       "1                                        0                       0   \n",
       "2                                        0                       0   \n",
       "3                                        0                       0   \n",
       "4                                        0                       0   \n",
       "\n",
       "   CountryDisplay_Uzbekistan  CountryDisplay_Vanuatu  \\\n",
       "0                          0                       0   \n",
       "1                          0                       0   \n",
       "2                          0                       0   \n",
       "3                          0                       0   \n",
       "4                          0                       0   \n",
       "\n",
       "   CountryDisplay_Venezuela (Bolivarian Republic of)  CountryDisplay_Viet Nam  \\\n",
       "0                                                  0                        0   \n",
       "1                                                  0                        0   \n",
       "2                                                  0                        0   \n",
       "3                                                  0                        0   \n",
       "4                                                  0                        0   \n",
       "\n",
       "   CountryDisplay_Yemen  CountryDisplay_Zambia  CountryDisplay_Zimbabwe  \n",
       "0                     0                      0                        0  \n",
       "1                     0                      0                        0  \n",
       "2                     1                      0                        0  \n",
       "3                     0                      0                        0  \n",
       "4                     0                      0                        0  \n",
       "\n",
       "[5 rows x 212 columns]"
      ]
     },
     "execution_count": 186,
     "metadata": {},
     "output_type": "execute_result"
    }
   ],
   "source": [
    "df_final_encoded = pd.get_dummies(df_final, columns=['CountryDisplay'])\n",
    "df_final_encoded.head()"
   ]
  },
  {
   "cell_type": "markdown",
   "metadata": {
    "id": "v3DjKVAlZKgk"
   },
   "source": [
    "### 18"
   ]
  },
  {
   "cell_type": "markdown",
   "metadata": {
    "id": "CJrnBovsZKgk"
   },
   "source": [
    "Придумайте какое-нибудь своё интересное задание на анализ предлагаемых данных и решите его.\n",
    "\n",
    "Креативность в этом задании приветствуется, и за нее можно получить ***1-2 бонусных балла***!\n",
    "\n",
    "*Подсказка. Вы можете вдохновляться различными заданиями из этого ДЗ, как, например, заданиями: 4, 6, 10, 12, 14, 15, 16. Но, чтобы получить бонусные баллы, лучше не используйте аналогичные идеи, а придумайте что-то своё!*"
   ]
  },
  {
   "cell_type": "markdown",
   "metadata": {},
   "source": [
    "Интересное задание на креативность заключается в том, чтобы посмотреть, сколько чистого алкоголя на заказ выпивают в различных регионах, чтобы понять какие регионы склонны к распитию более спиртных напитков."
   ]
  },
  {
   "cell_type": "code",
   "execution_count": 195,
   "metadata": {},
   "outputs": [],
   "source": [
    "continent_pure_alcohol = df_final.groupby('RegionDisplay').agg({\n",
    "    'alcohol_serving': 'mean',\n",
    "}).reset_index()"
   ]
  },
  {
   "cell_type": "code",
   "execution_count": 196,
   "metadata": {},
   "outputs": [
    {
     "data": {
      "text/html": [
       "<div>\n",
       "<style scoped>\n",
       "    .dataframe tbody tr th:only-of-type {\n",
       "        vertical-align: middle;\n",
       "    }\n",
       "\n",
       "    .dataframe tbody tr th {\n",
       "        vertical-align: top;\n",
       "    }\n",
       "\n",
       "    .dataframe thead th {\n",
       "        text-align: right;\n",
       "    }\n",
       "</style>\n",
       "<table border=\"1\" class=\"dataframe\">\n",
       "  <thead>\n",
       "    <tr style=\"text-align: right;\">\n",
       "      <th></th>\n",
       "      <th>RegionDisplay</th>\n",
       "      <th>alcohol_serving</th>\n",
       "    </tr>\n",
       "  </thead>\n",
       "  <tbody>\n",
       "    <tr>\n",
       "      <th>0</th>\n",
       "      <td>Africa</td>\n",
       "      <td>0.053736</td>\n",
       "    </tr>\n",
       "    <tr>\n",
       "      <th>1</th>\n",
       "      <td>Americas</td>\n",
       "      <td>0.017874</td>\n",
       "    </tr>\n",
       "    <tr>\n",
       "      <th>2</th>\n",
       "      <td>Eastern Mediterranean</td>\n",
       "      <td>0.022369</td>\n",
       "    </tr>\n",
       "    <tr>\n",
       "      <th>3</th>\n",
       "      <td>Europe</td>\n",
       "      <td>0.018260</td>\n",
       "    </tr>\n",
       "    <tr>\n",
       "      <th>4</th>\n",
       "      <td>South_East Asia</td>\n",
       "      <td>0.017572</td>\n",
       "    </tr>\n",
       "  </tbody>\n",
       "</table>\n",
       "</div>"
      ],
      "text/plain": [
       "           RegionDisplay  alcohol_serving\n",
       "0                 Africa         0.053736\n",
       "1               Americas         0.017874\n",
       "2  Eastern Mediterranean         0.022369\n",
       "3                 Europe         0.018260\n",
       "4        South_East Asia         0.017572"
      ]
     },
     "execution_count": 196,
     "metadata": {},
     "output_type": "execute_result"
    }
   ],
   "source": [
    "continent_pure_alcohol.head()"
   ]
  },
  {
   "cell_type": "markdown",
   "metadata": {},
   "source": [
    "Как мы видим, что Африка сильно выделяется на фоне остальных групп, на 3.5 процентных пункта, что свидетельствует о том, что люди в бедных странах склонны к распитию спиртного больше, не смотря на недостаток денежных средств"
   ]
  },
  {
   "cell_type": "markdown",
   "metadata": {
    "id": "rGRobnalZKgm"
   },
   "source": [
    "## Бонусная часть на анализ целевой переменной (до 5 бонусных баллов)"
   ]
  },
  {
   "cell_type": "markdown",
   "metadata": {
    "id": "6yIziTqLNLbj"
   },
   "source": [
    "После всего проделанного анализа и подготовки данных мы можем перейти непосредственно к ответу на исходный вопрос исследования, который был сформулирован вами в задании 3 данного раздела."
   ]
  },
  {
   "cell_type": "markdown",
   "metadata": {
    "id": "RmEQBtkJZKgm"
   },
   "source": [
    "### 19\n",
    "\n",
    "***Бонус (5 бон. баллов):*** Дайте развернутый, обоснованный, подкрепленный данными и написанным вами кодом ответ на вопрос, влияют ли признаки зависимой таблицы на целевую переменную из главной таблицы и, если да, то каким именно образом влияют?\n",
    "\n",
    "Обязательно аргументируйте полученные вами результаты и выводы. Чем подробнее и обоснованнее анализ вы проведете в рамках данного бонусного задания, тем больше бонусных баллов получите! Вы можете использовать подходы и методы из рассмотренных на семинаре и в рамках данного домашнего задания, а можете придумать и что-то своё. Креативность максимально приветствуется!"
   ]
  },
  {
   "cell_type": "code",
   "execution_count": 197,
   "metadata": {
    "id": "hbkcHR3bZKgm"
   },
   "outputs": [
    {
     "data": {
      "text/html": [
       "<div>\n",
       "<style scoped>\n",
       "    .dataframe tbody tr th:only-of-type {\n",
       "        vertical-align: middle;\n",
       "    }\n",
       "\n",
       "    .dataframe tbody tr th {\n",
       "        vertical-align: top;\n",
       "    }\n",
       "\n",
       "    .dataframe thead th {\n",
       "        text-align: right;\n",
       "    }\n",
       "</style>\n",
       "<table border=\"1\" class=\"dataframe\">\n",
       "  <thead>\n",
       "    <tr style=\"text-align: right;\">\n",
       "      <th></th>\n",
       "      <th>index_x</th>\n",
       "      <th>GhoDisplay</th>\n",
       "      <th>PublishStateDisplay</th>\n",
       "      <th>YearDisplay</th>\n",
       "      <th>RegionDisplay</th>\n",
       "      <th>WorldBankIncomeGroupDisplay</th>\n",
       "      <th>CountryDisplay</th>\n",
       "      <th>SexDisplay</th>\n",
       "      <th>Numeric</th>\n",
       "      <th>index_y</th>\n",
       "      <th>country</th>\n",
       "      <th>beer_servings</th>\n",
       "      <th>spirit_servings</th>\n",
       "      <th>wine_servings</th>\n",
       "      <th>total_litres_of_pure_alcohol</th>\n",
       "      <th>(Numeric, median)</th>\n",
       "      <th>(total_litres_of_pure_alcohol, mean)</th>\n",
       "      <th>total_servings</th>\n",
       "      <th>alcohol_serving</th>\n",
       "    </tr>\n",
       "  </thead>\n",
       "  <tbody>\n",
       "    <tr>\n",
       "      <th>0</th>\n",
       "      <td>0</td>\n",
       "      <td>Life expectancy at birth (years)</td>\n",
       "      <td>Published</td>\n",
       "      <td>1990</td>\n",
       "      <td>Americas</td>\n",
       "      <td>Lower_middle_income</td>\n",
       "      <td>Nicaragua</td>\n",
       "      <td>Male</td>\n",
       "      <td>68.0</td>\n",
       "      <td>122.0</td>\n",
       "      <td>Nicaragua</td>\n",
       "      <td>78.0</td>\n",
       "      <td>118.0</td>\n",
       "      <td>1.0</td>\n",
       "      <td>3.5</td>\n",
       "      <td>73.0</td>\n",
       "      <td>3.5</td>\n",
       "      <td>197.0</td>\n",
       "      <td>0.017766</td>\n",
       "    </tr>\n",
       "    <tr>\n",
       "      <th>1</th>\n",
       "      <td>1</td>\n",
       "      <td>Healthy life expectancy (HALE) at birth (years)</td>\n",
       "      <td>Published</td>\n",
       "      <td>2012</td>\n",
       "      <td>Europe</td>\n",
       "      <td>High_income</td>\n",
       "      <td>Ireland</td>\n",
       "      <td>Male</td>\n",
       "      <td>69.3</td>\n",
       "      <td>81.0</td>\n",
       "      <td>Ireland</td>\n",
       "      <td>313.0</td>\n",
       "      <td>118.0</td>\n",
       "      <td>165.0</td>\n",
       "      <td>11.4</td>\n",
       "      <td>69.8</td>\n",
       "      <td>11.4</td>\n",
       "      <td>596.0</td>\n",
       "      <td>0.019128</td>\n",
       "    </tr>\n",
       "    <tr>\n",
       "      <th>2</th>\n",
       "      <td>2</td>\n",
       "      <td>Life expectancy at birth (years)</td>\n",
       "      <td>Published</td>\n",
       "      <td>2000</td>\n",
       "      <td>Eastern Mediterranean</td>\n",
       "      <td>Low_income</td>\n",
       "      <td>Yemen</td>\n",
       "      <td>Both sexes</td>\n",
       "      <td>61.0</td>\n",
       "      <td>190.0</td>\n",
       "      <td>Yemen</td>\n",
       "      <td>6.0</td>\n",
       "      <td>0.0</td>\n",
       "      <td>0.0</td>\n",
       "      <td>0.1</td>\n",
       "      <td>62.0</td>\n",
       "      <td>0.1</td>\n",
       "      <td>6.0</td>\n",
       "      <td>0.016667</td>\n",
       "    </tr>\n",
       "    <tr>\n",
       "      <th>3</th>\n",
       "      <td>3</td>\n",
       "      <td>Life expectancy at birth (years)</td>\n",
       "      <td>Published</td>\n",
       "      <td>2000</td>\n",
       "      <td>Africa</td>\n",
       "      <td>Lower_middle_income</td>\n",
       "      <td>Nigeria</td>\n",
       "      <td>Female</td>\n",
       "      <td>48.0</td>\n",
       "      <td>124.0</td>\n",
       "      <td>Nigeria</td>\n",
       "      <td>42.0</td>\n",
       "      <td>5.0</td>\n",
       "      <td>2.0</td>\n",
       "      <td>9.1</td>\n",
       "      <td>50.5</td>\n",
       "      <td>9.1</td>\n",
       "      <td>49.0</td>\n",
       "      <td>0.185714</td>\n",
       "    </tr>\n",
       "    <tr>\n",
       "      <th>4</th>\n",
       "      <td>4</td>\n",
       "      <td>Life expectancy at age 60 (years)</td>\n",
       "      <td>Published</td>\n",
       "      <td>1990</td>\n",
       "      <td>South_East Asia</td>\n",
       "      <td>Lower_middle_income</td>\n",
       "      <td>Thailand</td>\n",
       "      <td>Female</td>\n",
       "      <td>19.0</td>\n",
       "      <td>169.0</td>\n",
       "      <td>Thailand</td>\n",
       "      <td>99.0</td>\n",
       "      <td>258.0</td>\n",
       "      <td>1.0</td>\n",
       "      <td>6.4</td>\n",
       "      <td>19.5</td>\n",
       "      <td>6.4</td>\n",
       "      <td>358.0</td>\n",
       "      <td>0.017877</td>\n",
       "    </tr>\n",
       "  </tbody>\n",
       "</table>\n",
       "</div>"
      ],
      "text/plain": [
       "   index_x                                       GhoDisplay  \\\n",
       "0        0                 Life expectancy at birth (years)   \n",
       "1        1  Healthy life expectancy (HALE) at birth (years)   \n",
       "2        2                 Life expectancy at birth (years)   \n",
       "3        3                 Life expectancy at birth (years)   \n",
       "4        4                Life expectancy at age 60 (years)   \n",
       "\n",
       "  PublishStateDisplay  YearDisplay          RegionDisplay  \\\n",
       "0           Published         1990               Americas   \n",
       "1           Published         2012                 Europe   \n",
       "2           Published         2000  Eastern Mediterranean   \n",
       "3           Published         2000                 Africa   \n",
       "4           Published         1990        South_East Asia   \n",
       "\n",
       "  WorldBankIncomeGroupDisplay CountryDisplay  SexDisplay  Numeric  index_y  \\\n",
       "0         Lower_middle_income      Nicaragua        Male     68.0    122.0   \n",
       "1                 High_income        Ireland        Male     69.3     81.0   \n",
       "2                  Low_income          Yemen  Both sexes     61.0    190.0   \n",
       "3         Lower_middle_income        Nigeria      Female     48.0    124.0   \n",
       "4         Lower_middle_income       Thailand      Female     19.0    169.0   \n",
       "\n",
       "     country  beer_servings  spirit_servings  wine_servings  \\\n",
       "0  Nicaragua           78.0            118.0            1.0   \n",
       "1    Ireland          313.0            118.0          165.0   \n",
       "2      Yemen            6.0              0.0            0.0   \n",
       "3    Nigeria           42.0              5.0            2.0   \n",
       "4   Thailand           99.0            258.0            1.0   \n",
       "\n",
       "   total_litres_of_pure_alcohol  (Numeric, median)  \\\n",
       "0                           3.5               73.0   \n",
       "1                          11.4               69.8   \n",
       "2                           0.1               62.0   \n",
       "3                           9.1               50.5   \n",
       "4                           6.4               19.5   \n",
       "\n",
       "   (total_litres_of_pure_alcohol, mean)  total_servings  alcohol_serving  \n",
       "0                                   3.5           197.0         0.017766  \n",
       "1                                  11.4           596.0         0.019128  \n",
       "2                                   0.1             6.0         0.016667  \n",
       "3                                   9.1            49.0         0.185714  \n",
       "4                                   6.4           358.0         0.017877  "
      ]
     },
     "execution_count": 197,
     "metadata": {},
     "output_type": "execute_result"
    }
   ],
   "source": [
    "df_final.head()"
   ]
  },
  {
   "cell_type": "code",
   "execution_count": 214,
   "metadata": {},
   "outputs": [
    {
     "data": {
      "text/html": [
       "<div>\n",
       "<style scoped>\n",
       "    .dataframe tbody tr th:only-of-type {\n",
       "        vertical-align: middle;\n",
       "    }\n",
       "\n",
       "    .dataframe tbody tr th {\n",
       "        vertical-align: top;\n",
       "    }\n",
       "\n",
       "    .dataframe thead th {\n",
       "        text-align: right;\n",
       "    }\n",
       "</style>\n",
       "<table border=\"1\" class=\"dataframe\">\n",
       "  <thead>\n",
       "    <tr style=\"text-align: right;\">\n",
       "      <th></th>\n",
       "      <th>RegionDisplay</th>\n",
       "      <th>Numeric</th>\n",
       "      <th>total_litres_of_pure_alcohol</th>\n",
       "    </tr>\n",
       "  </thead>\n",
       "  <tbody>\n",
       "    <tr>\n",
       "      <th>0</th>\n",
       "      <td>Africa</td>\n",
       "      <td>46.0</td>\n",
       "      <td>3.314634</td>\n",
       "    </tr>\n",
       "    <tr>\n",
       "      <th>1</th>\n",
       "      <td>Americas</td>\n",
       "      <td>63.5</td>\n",
       "      <td>5.851852</td>\n",
       "    </tr>\n",
       "    <tr>\n",
       "      <th>2</th>\n",
       "      <td>Eastern Mediterranean</td>\n",
       "      <td>57.0</td>\n",
       "      <td>0.736842</td>\n",
       "    </tr>\n",
       "    <tr>\n",
       "      <th>3</th>\n",
       "      <td>Europe</td>\n",
       "      <td>65.9</td>\n",
       "      <td>8.002041</td>\n",
       "    </tr>\n",
       "    <tr>\n",
       "      <th>4</th>\n",
       "      <td>South_East Asia</td>\n",
       "      <td>58.0</td>\n",
       "      <td>1.288889</td>\n",
       "    </tr>\n",
       "  </tbody>\n",
       "</table>\n",
       "</div>"
      ],
      "text/plain": [
       "           RegionDisplay  Numeric  total_litres_of_pure_alcohol\n",
       "0                 Africa     46.0                      3.314634\n",
       "1               Americas     63.5                      5.851852\n",
       "2  Eastern Mediterranean     57.0                      0.736842\n",
       "3                 Europe     65.9                      8.002041\n",
       "4        South_East Asia     58.0                      1.288889"
      ]
     },
     "execution_count": 214,
     "metadata": {},
     "output_type": "execute_result"
    }
   ],
   "source": [
    "region_stats = df_final.groupby('RegionDisplay').agg({\n",
    "    'Numeric': 'median', \n",
    "    'total_litres_of_pure_alcohol': 'mean'\n",
    "}).reset_index()\n",
    "region_stats.head()"
   ]
  },
  {
   "cell_type": "code",
   "execution_count": 218,
   "metadata": {},
   "outputs": [],
   "source": [
    "correletion = df_final[[('Numeric', 'median'), 'total_litres_of_pure_alcohol']].corr()"
   ]
  },
  {
   "cell_type": "code",
   "execution_count": 219,
   "metadata": {},
   "outputs": [
    {
     "data": {
      "text/html": [
       "<div>\n",
       "<style scoped>\n",
       "    .dataframe tbody tr th:only-of-type {\n",
       "        vertical-align: middle;\n",
       "    }\n",
       "\n",
       "    .dataframe tbody tr th {\n",
       "        vertical-align: top;\n",
       "    }\n",
       "\n",
       "    .dataframe thead th {\n",
       "        text-align: right;\n",
       "    }\n",
       "</style>\n",
       "<table border=\"1\" class=\"dataframe\">\n",
       "  <thead>\n",
       "    <tr style=\"text-align: right;\">\n",
       "      <th></th>\n",
       "      <th>Numeric</th>\n",
       "      <th>total_litres_of_pure_alcohol</th>\n",
       "    </tr>\n",
       "  </thead>\n",
       "  <tbody>\n",
       "    <tr>\n",
       "      <th>Numeric</th>\n",
       "      <td>1.000000</td>\n",
       "      <td>0.547582</td>\n",
       "    </tr>\n",
       "    <tr>\n",
       "      <th>total_litres_of_pure_alcohol</th>\n",
       "      <td>0.547582</td>\n",
       "      <td>1.000000</td>\n",
       "    </tr>\n",
       "  </tbody>\n",
       "</table>\n",
       "</div>"
      ],
      "text/plain": [
       "                               Numeric  total_litres_of_pure_alcohol\n",
       "Numeric                       1.000000                      0.547582\n",
       "total_litres_of_pure_alcohol  0.547582                      1.000000"
      ]
     },
     "execution_count": 219,
     "metadata": {},
     "output_type": "execute_result"
    }
   ],
   "source": [
    "correlation"
   ]
  },
  {
   "cell_type": "markdown",
   "metadata": {
    "id": "UMiAKN_xPf-E"
   },
   "source": [
    "Как мы видим, что явной взаимосвязи между общим количеством выпитого алкоголя и медианой по продолжительности жизни - нет, она довольно слабая, что говорит о том, что алкоголь никак не влияет на продолжительность жизни, так что можно спокойно пить и не задумываться, что умрешь в 30. В любом случае здоровье очень важно и нужно всегда помнить об этом. В Европе, как мы видим, пьют больше всех и живут дольше всех!"
   ]
  }
 ],
 "metadata": {
  "colab": {
   "provenance": []
  },
  "kernelspec": {
   "display_name": "Python 3 (ipykernel)",
   "language": "python",
   "name": "python3"
  },
  "language_info": {
   "codemirror_mode": {
    "name": "ipython",
    "version": 3
   },
   "file_extension": ".py",
   "mimetype": "text/x-python",
   "name": "python",
   "nbconvert_exporter": "python",
   "pygments_lexer": "ipython3",
   "version": "3.11.4"
  }
 },
 "nbformat": 4,
 "nbformat_minor": 1
}
